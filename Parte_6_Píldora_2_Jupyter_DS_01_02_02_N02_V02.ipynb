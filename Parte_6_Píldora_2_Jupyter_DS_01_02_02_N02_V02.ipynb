{
  "cells": [
    {
      "cell_type": "markdown",
      "metadata": {
        "id": "view-in-github",
        "colab_type": "text"
      },
      "source": [
        "<a href=\"https://colab.research.google.com/github/iap095/ONLINE_DS_THEBRIDGE-PASO_2.3-/blob/main/Parte_6_P%C3%ADldora_2_Jupyter_DS_01_02_02_N02_V02.ipynb\" target=\"_parent\"><img src=\"https://colab.research.google.com/assets/colab-badge.svg\" alt=\"Open In Colab\"/></a>"
      ]
    },
    {
      "cell_type": "markdown",
      "metadata": {
        "id": "QsMcj629L1Ws"
      },
      "source": [
        "# Clases y Objetos en Python\n",
        "\n",
        "\n",
        "Como sabes, Python es un lenguaje de programación orientado a objetos. Si recuerdas de la sesión inicial, eso quiere decir que trabaja trabaja con elementos denominados objetos, que vienen definidos por unos templates o plantillas que llamamos clases. Es una manera de expresar en lenguaje máquina cosas de la vida real.\n",
        "\n",
        "Los \"objetos\" de una clase son instancias de esa clase que determina los atributos y métodos de estos. En este notebook vamos a ver con un poco más de detalle el concepto de clase y cómo crear nuestras propias clases.\n"
      ]
    },
    {
      "cell_type": "markdown",
      "metadata": {
        "id": "L-emKgL5L1Wt"
      },
      "source": [
        "##  Clases\n"
      ]
    },
    {
      "cell_type": "markdown",
      "metadata": {
        "id": "Mjx3hV-vL1Wt"
      },
      "source": [
        "### Contenidos"
      ]
    },
    {
      "cell_type": "markdown",
      "metadata": {
        "id": "Oc3NdqvML1Wu"
      },
      "source": [
        "* [Clase vs Objeto](#Clase-vs-Objeto)\n",
        "\n"
      ]
    },
    {
      "cell_type": "markdown",
      "metadata": {
        "id": "UBB4f3ENL1Wu"
      },
      "source": [
        "\n",
        "Las clases son la manera que tenemos de describir los objetos. Hasta ahora hemos visto clases básicas que vienen incluidas en Python como *int*, *str* o clases algo más complejas como los *dict*. Pero, **¿y si queremos crear nuestros propios objetos?** En los lenguajes orientados a objetos tenemos la posibilidad de definir nuevos objetos que se asemejen más a nuestros casos de uso y hagan la programación más sencilla de desarrollar y entender.\n",
        "\n",
        "**Un número entero es un objeto de la clase *int* que posee unas características diferentes a un texto**, que es de la clase *str*. Por ejemplo, **¿cómo sabemos que un coche es un coche?** ¿qué características tiene? Los coches tienen una marca, una cantidad de caballos, hay unos automáticos, otros no… De esta manera traducimos a lenguaje de maquina, a programación, un concepto que tenemos nosotros muy claro e interiorizado.\n",
        "\n",
        "Hasta ahora, hemos visto varias clases, por ejemplo la clase *str*. Cuando veiamos el tipo de dato, Python imprimía por pantalla `str`. Y al ser `str`, tenía unas propiedades que no tenían otros objetos, como los métodos `upper()` o `lower()`.\n",
        "\n",
        "La sintaxis para crear una clase es:\n",
        "```Python\n",
        "class NombreClase:\n",
        "    # Cosas de la clase\n",
        "```\n",
        "\n",
        "Normalmente para el nombre de la clase se usa *CamelCase*, que quiere decir que se define en minúsculas, sin espacios ni guiones, y jugando con las mayúsculas para diferenciar palabras.\n",
        "\n",
        "Mira cómo es la [clase *built_in* de *String*](https://docs.python.org/3/library/stdtypes.html#str)"
      ]
    },
    {
      "cell_type": "code",
      "execution_count": 1,
      "metadata": {
        "id": "sR1RwKFLL1Wv"
      },
      "outputs": [],
      "source": [
        "class Coche:\n",
        "  #Atributos y metodos, las cosas de la clase\n",
        "  pass #"
      ]
    },
    {
      "cell_type": "markdown",
      "metadata": {
        "id": "bCw5ivISL1Wv"
      },
      "source": [
        "La sentencia `pass` se usa para forzar el fin de la clase *Coche*. La hemos declarado, pero no lleva nada. Python demanda una definición de la clase y podemos ignorar esa demanda mediante la sentencia `pass`."
      ]
    },
    {
      "cell_type": "code",
      "execution_count": 2,
      "metadata": {
        "colab": {
          "base_uri": "https://localhost:8080/"
        },
        "id": "db64um5rL1Ww",
        "outputId": "53885b47-3e48-4a1c-b4cf-4e1095c0d9ab"
      },
      "outputs": [
        {
          "output_type": "stream",
          "name": "stdout",
          "text": [
            "<class 'type'>\n",
            "<class 'type'> <class 'type'>\n"
          ]
        }
      ],
      "source": [
        "print(type(Coche))\n",
        "print(type(str),type(dict))"
      ]
    },
    {
      "cell_type": "markdown",
      "metadata": {
        "id": "e9P9Mk_NL1Ww"
      },
      "source": [
        "Bien, coche es de tipo `type`, claro porque **no es un objeto con tal**, sino que es una clase. Cuando creemos coches, estos serán de clase *Coche*, es decir, de tipo *Coche*, por lo que tiene sentido que *Coche* sea de tipo `type`."
      ]
    },
    {
      "cell_type": "markdown",
      "metadata": {
        "id": "idgo8kuPL1Wx"
      },
      "source": [
        "### Clase vs Objeto\n",
        "[al indice](#Contenidos)  \n",
        "\n",
        "**La clase se usa para definir algo**. Al igual que con las funciones. Creamos el esqueleto de lo que será un objeto de esa clase. Por tanto, **una vez tengamos la clase definida, instanciaremos un objeto de esa clase**.  Es como crear el concepto de coche, con todas sus características y funcionalidades. Después, a lo largo del programa, podremos crear objetos de tipo coche, que se ajusten a lo definido en la clase coche. Cada coche tendrá una marca, una potencia, etc…"
      ]
    },
    {
      "cell_type": "code",
      "execution_count": 3,
      "metadata": {
        "colab": {
          "base_uri": "https://localhost:8080/"
        },
        "id": "hghLHIh8L1Wx",
        "outputId": "23b1921a-3356-46c0-9421-3104c7231270"
      },
      "outputs": [
        {
          "output_type": "stream",
          "name": "stdout",
          "text": [
            "<class '__main__.Coche'>\n",
            "<__main__.Coche object at 0x7da6ad2e8310>\n"
          ]
        }
      ],
      "source": [
        "primer_coche = Coche()#ponemos los parentesis para crear/instanciar primer_cohe\n",
        "print(type(primer_coche))#pone clase cohe, pero main significa que esta creado/ejecutado en nuestro programa\n",
        "print(primer_coche)#el avlor solo contiene un identificador"
      ]
    },
    {
      "cell_type": "markdown",
      "metadata": {
        "id": "MHlsrrokL1Wx"
      },
      "source": [
        "Ahora sí tenemos un objeto de tipo Coche, que se llama `primer_coche`. Cuando imprimimos su tipo, vemos que es de tipo Coche, y cuando lo imprimes el objeto por pantalla, simplemente nos dice su tipo y un identificador.\n",
        "\n",
        "Podremos crear todos los coches que queramos"
      ]
    },
    {
      "cell_type": "code",
      "execution_count": 4,
      "metadata": {
        "colab": {
          "base_uri": "https://localhost:8080/"
        },
        "id": "8E4VuvORL1Wy",
        "outputId": "900483fc-4b63-4731-90f8-0db38bc5d048"
      },
      "outputs": [
        {
          "output_type": "stream",
          "name": "stdout",
          "text": [
            "False\n"
          ]
        }
      ],
      "source": [
        "citroen = Coche()\n",
        "peugeot = Coche()\n",
        "#los coches se crea, aunque no tengan ningun elemento diferenciador los crea como elementos diferentes\n",
        "print(citroen == peugeot)"
      ]
    },
    {
      "cell_type": "markdown",
      "metadata": {
        "id": "MZ0bApVHL1Wy"
      },
      "source": [
        "De momento todos nuestros coches son iguales, no hemos definido bien la clase, por lo que va a ser difícil diferenciar un coche de otro. Vamos a ver cómo lograr esa diferenciación."
      ]
    },
    {
      "cell_type": "markdown",
      "metadata": {
        "id": "aRXma8C6L1Wy"
      },
      "source": []
    }
  ],
  "metadata": {
    "kernelspec": {
      "display_name": "Python 3 (ipykernel)",
      "language": "python",
      "name": "python3"
    },
    "language_info": {
      "codemirror_mode": {
        "name": "ipython",
        "version": 3
      },
      "file_extension": ".py",
      "mimetype": "text/x-python",
      "name": "python",
      "nbconvert_exporter": "python",
      "pygments_lexer": "ipython3",
      "version": "3.9.7"
    },
    "colab": {
      "provenance": [],
      "include_colab_link": true
    }
  },
  "nbformat": 4,
  "nbformat_minor": 0
}