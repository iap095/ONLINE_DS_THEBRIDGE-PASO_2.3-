{
  "cells": [
    {
      "cell_type": "markdown",
      "metadata": {
        "id": "view-in-github",
        "colab_type": "text"
      },
      "source": [
        "<a href=\"https://colab.research.google.com/github/iap095/ONLINE_DS_THEBRIDGE-PASO_2.3-/blob/main/DS_01_01_02_N04_V07.ipynb\" target=\"_parent\"><img src=\"https://colab.research.google.com/assets/colab-badge.svg\" alt=\"Open In Colab\"/></a>"
      ]
    },
    {
      "cell_type": "markdown",
      "metadata": {
        "id": "cVKE4hEPX5l9"
      },
      "source": [
        "<img src = \"./img/TheBridge_logo_RGB_color.jpg\" width = 500><img src = \"./img/python.jpg\" width = 500>"
      ]
    },
    {
      "cell_type": "markdown",
      "metadata": {
        "id": "-5bhFryrX5l-"
      },
      "source": [
        "# Python Basics I\n",
        "\n"
      ]
    },
    {
      "cell_type": "markdown",
      "metadata": {
        "id": "O3qHxuWRX5l_"
      },
      "source": [
        "## Contenidos"
      ]
    },
    {
      "cell_type": "markdown",
      "metadata": {
        "id": "14Q473gJX5l_"
      },
      "source": [
        "* [Conversión de tipos\n",
        "](#Conversión-de-tipos\n",
        ")\n",
        "* [Input\n",
        "](#Input\n",
        ")\n",
        "* [None\n",
        "](#None\n",
        ")\n",
        "* [Sintaxis y best practices\n",
        "](#Sintaxis-y-best-practices\n",
        ")\n"
      ]
    },
    {
      "cell_type": "markdown",
      "metadata": {
        "id": "SnoBN2lfX5l_"
      },
      "source": [
        "## Conversión de tipos\n",
        "[al indice](#Contenidos)\n",
        "Como en otros lenguajes, en Python también tenemos la posibilidad de realizar conversiones entre los tipos de datos. Hasta ahora hemos visto pocos, pero cuando descubramos más tipos de datos y objetos, verás que son muy comunes estas transformaciones.\n",
        "\n",
        "Un caso muy habitual es leer un archivo datos numéricos, y que Python interprete los números como caracteres. No es un error, pero posteriormente, cuando hagamos operaciones con nuestros números, tendremos errores, ya que en realidad son cadenas de texto. Si forzamos el cambio a numerico, nos evitaremos futuros problemas.\n",
        "\n",
        "**Mucho cuidado en los cambios de tipos**. Tenemos que estar seguros de lo que hacemos ya que podemos perder información, o lo más probable, puede dar error, al no ser compatible el cambio.\n",
        "\n",
        "Veamos como cambiar los tipos"
      ]
    },
    {
      "cell_type": "code",
      "source": [
        "num_real = 24.69\n",
        "print(type(num_real))\n",
        "\n",
        "num_entero = int(num_real)\n",
        "print(num_entero)\n",
        "print(type(num_entero))"
      ],
      "metadata": {
        "colab": {
          "base_uri": "https://localhost:8080/"
        },
        "id": "z3Vs-Fz5VRoa",
        "outputId": "38d0f664-6ea5-48ad-853b-09737bb94951"
      },
      "execution_count": 1,
      "outputs": [
        {
          "output_type": "stream",
          "name": "stdout",
          "text": [
            "<class 'float'>\n",
            "24\n",
            "<class 'int'>\n"
          ]
        }
      ]
    },
    {
      "cell_type": "code",
      "execution_count": null,
      "metadata": {
        "id": "vdCDePnqX5mA",
        "outputId": "c83cb4eb-adcd-4419-ab25-a7fcb6aa186e",
        "colab": {
          "base_uri": "https://localhost:8080/"
        }
      },
      "outputs": [
        {
          "output_type": "stream",
          "name": "stdout",
          "text": [
            "Hola mundo\n"
          ]
        }
      ],
      "source": [
        "print(\"Hola mundo\")"
      ]
    },
    {
      "cell_type": "markdown",
      "metadata": {
        "id": "QdWCjIbjX5mA"
      },
      "source": [
        "Perdemos unos decimales, normalmente nada grave, aunque depende de la aplicación.\n",
        "\n",
        "**NOTA**: si lo que queremos es redondear, podemos usar la función `round()`"
      ]
    },
    {
      "cell_type": "code",
      "execution_count": null,
      "metadata": {
        "id": "wVlusQvYX5mA"
      },
      "outputs": [],
      "source": [
        "# Esta funcion tiene dos argumentos: el número y la cantidad de decimales que queremos conservar.\n",
        "# Veremos funciones más adelante.\n"
      ]
    },
    {
      "cell_type": "code",
      "source": [
        "num_real = 24.686\n",
        "num_redondeado = round(num_real,2)\n",
        "print(num_redondeado)"
      ],
      "metadata": {
        "colab": {
          "base_uri": "https://localhost:8080/"
        },
        "id": "JEXx5PuIV25D",
        "outputId": "07c53da2-858c-421e-8bda-19434d39036b"
      },
      "execution_count": 2,
      "outputs": [
        {
          "output_type": "stream",
          "name": "stdout",
          "text": [
            "24.69\n"
          ]
        }
      ]
    },
    {
      "cell_type": "code",
      "source": [
        "num_redondedo = 24.69\n",
        "num_convertido = round(num_redondeado, 0)\n",
        "print(num_convertido, type(num_convertido))"
      ],
      "metadata": {
        "colab": {
          "base_uri": "https://localhost:8080/"
        },
        "id": "bLatzn_nWHaG",
        "outputId": "2f97c155-607d-4fa1-d0ef-04f6d0fa838c"
      },
      "execution_count": 3,
      "outputs": [
        {
          "output_type": "stream",
          "name": "stdout",
          "text": [
            "25.0 <class 'float'>\n"
          ]
        }
      ]
    },
    {
      "cell_type": "code",
      "source": [
        "print(int(num_convertido))"
      ],
      "metadata": {
        "colab": {
          "base_uri": "https://localhost:8080/"
        },
        "id": "zbH2cLzqWbOG",
        "outputId": "31ee9412-09e8-4c61-95e3-c4e467b8a091"
      },
      "execution_count": 4,
      "outputs": [
        {
          "output_type": "stream",
          "name": "stdout",
          "text": [
            "25\n"
          ]
        }
      ]
    },
    {
      "cell_type": "markdown",
      "metadata": {
        "id": "oMuhBbdsX5mB"
      },
      "source": [
        "Para pasar de un **numero a string**, no hay problema"
      ]
    },
    {
      "cell_type": "code",
      "execution_count": 5,
      "metadata": {
        "id": "XZ7s0Z0QX5mB",
        "colab": {
          "base_uri": "https://localhost:8080/"
        },
        "outputId": "5ca54cea-939a-4739-b7f3-6fe96056f36d"
      },
      "outputs": [
        {
          "output_type": "stream",
          "name": "stdout",
          "text": [
            "24.69 su tipo <class 'str'>\n",
            "12  su tipo <class 'str'>\n"
          ]
        }
      ],
      "source": [
        "num_real= 24.69\n",
        "num_entero = 12\n",
        "\n",
        "real_str =str(num_real)\n",
        "entero_str = str(num_entero)\n",
        "\n",
        "print(real_str, \"su tipo\" , type(real_str))\n",
        "print(entero_str, \" su tipo\" , type(entero_str))"
      ]
    },
    {
      "cell_type": "code",
      "source": [
        "print(num_real + num_entero)\n",
        "print(entero_str + real_str)"
      ],
      "metadata": {
        "colab": {
          "base_uri": "https://localhost:8080/"
        },
        "id": "BeZHGgxyXOpM",
        "outputId": "74392aea-a539-4453-ae91-6df547ff9f4b"
      },
      "execution_count": 6,
      "outputs": [
        {
          "output_type": "stream",
          "name": "stdout",
          "text": [
            "36.69\n",
            "1224.69\n"
          ]
        }
      ]
    },
    {
      "cell_type": "markdown",
      "metadata": {
        "id": "PE5mSpnTX5mB"
      },
      "source": [
        "De **String a un número** tampoco suele haber problema. Hay que tener mucho cuidado con los puntos de los decimales. **Puntos, NO comas**"
      ]
    },
    {
      "cell_type": "code",
      "execution_count": 8,
      "metadata": {
        "id": "f4U-o3DJX5mB",
        "colab": {
          "base_uri": "https://localhost:8080/",
          "height": 224
        },
        "outputId": "a8aed0d3-d5ce-4416-c60f-25f3cee1dc98"
      },
      "outputs": [
        {
          "output_type": "stream",
          "name": "stdout",
          "text": [
            "98 <class 'str'>\n",
            "98 <class 'int'>\n"
          ]
        },
        {
          "output_type": "error",
          "ename": "ValueError",
          "evalue": "could not convert string to float: '98,33'",
          "traceback": [
            "\u001b[0;31m---------------------------------------------------------------------------\u001b[0m",
            "\u001b[0;31mValueError\u001b[0m                                Traceback (most recent call last)",
            "\u001b[0;32m<ipython-input-8-18b66a7e5bc5>\u001b[0m in \u001b[0;36m<cell line: 6>\u001b[0;34m()\u001b[0m\n\u001b[1;32m      4\u001b[0m \u001b[0mprint\u001b[0m\u001b[0;34m(\u001b[0m\u001b[0mmi_entero\u001b[0m\u001b[0;34m,\u001b[0m \u001b[0mtype\u001b[0m\u001b[0;34m(\u001b[0m\u001b[0mmi_entero\u001b[0m\u001b[0;34m)\u001b[0m\u001b[0;34m)\u001b[0m\u001b[0;34m\u001b[0m\u001b[0;34m\u001b[0m\u001b[0m\n\u001b[1;32m      5\u001b[0m \u001b[0mmi_cadena_real\u001b[0m \u001b[0;34m=\u001b[0m \u001b[0;34m\"98,33\"\u001b[0m\u001b[0;34m\u001b[0m\u001b[0;34m\u001b[0m\u001b[0m\n\u001b[0;32m----> 6\u001b[0;31m \u001b[0mmi_real\u001b[0m \u001b[0;34m=\u001b[0m \u001b[0mfloat\u001b[0m\u001b[0;34m(\u001b[0m\u001b[0mmi_cadena_real\u001b[0m\u001b[0;34m)\u001b[0m\u001b[0;34m\u001b[0m\u001b[0;34m\u001b[0m\u001b[0m\n\u001b[0m",
            "\u001b[0;31mValueError\u001b[0m: could not convert string to float: '98,33'"
          ]
        }
      ],
      "source": [
        "mi_cadena = \"98\"\n",
        "mi_entero = int(mi_cadena)\n",
        "print(mi_cadena, type(mi_cadena))\n",
        "print(mi_entero, type(mi_entero))\n",
        "mi_cadena_real = \"98,33\"\n",
        "mi_real = float(mi_cadena_real)\n"
      ]
    },
    {
      "cell_type": "code",
      "source": [
        "mi_cadena_real = \"98.33\"\n",
        "mi_real = float(mi_cadena_real)\n",
        "print(mi_real, type(mi_real))"
      ],
      "metadata": {
        "colab": {
          "base_uri": "https://localhost:8080/"
        },
        "id": "30fMHE0lYeQ-",
        "outputId": "aea17837-8e30-4581-bace-69c9a55279f5"
      },
      "execution_count": 9,
      "outputs": [
        {
          "output_type": "stream",
          "name": "stdout",
          "text": [
            "98.33 <class 'float'>\n"
          ]
        }
      ]
    },
    {
      "cell_type": "markdown",
      "metadata": {
        "id": "eHOw_lqsX5mB"
      },
      "source": [
        "Pasar de **numero a boleano y viceversa**, tambien es bastante sencillo. Simplemente ten en cuenta que los 0s son `False`, y el resto de numeros equivalen a un `True`"
      ]
    },
    {
      "cell_type": "code",
      "execution_count": 10,
      "metadata": {
        "id": "PmAIVXwOX5mC",
        "colab": {
          "base_uri": "https://localhost:8080/"
        },
        "outputId": "29f48c4f-1dc9-47c5-c8fe-893b8347970d"
      },
      "outputs": [
        {
          "output_type": "stream",
          "name": "stdout",
          "text": [
            "True <class 'bool'>\n"
          ]
        }
      ],
      "source": [
        "booleano = bool(123)\n",
        "print(booleano, type(booleano))"
      ]
    },
    {
      "cell_type": "code",
      "source": [
        "booleano = bool(0)\n",
        "print(booleano, type(booleano))"
      ],
      "metadata": {
        "colab": {
          "base_uri": "https://localhost:8080/"
        },
        "id": "Z2YYFDCUZFFq",
        "outputId": "336d5816-cce6-4127-9f82-129632ef5f5c"
      },
      "execution_count": 11,
      "outputs": [
        {
          "output_type": "stream",
          "name": "stdout",
          "text": [
            "False <class 'bool'>\n"
          ]
        }
      ]
    },
    {
      "cell_type": "markdown",
      "metadata": {
        "id": "m4kAmYygX5mC"
      },
      "source": [
        "En el caso de transformar **String a booleano**, los strings vacíos serán `False`, mientras que los que tengan cualquier cadena, equivaldrán a `True`.\n",
        "\n",
        "Sin embargo, si la operación es la inversa, el booleano `True` pasará a valer una cadena de texto como `True`, y para `False` lo mismo."
      ]
    },
    {
      "cell_type": "code",
      "execution_count": 12,
      "metadata": {
        "id": "Pihq3tMIX5mC",
        "colab": {
          "base_uri": "https://localhost:8080/"
        },
        "outputId": "1f738a31-b42e-4bc0-daa7-80f376d4aae6"
      },
      "outputs": [
        {
          "output_type": "stream",
          "name": "stdout",
          "text": [
            "False <class 'bool'>\n",
            "True <class 'bool'>\n"
          ]
        }
      ],
      "source": [
        "booleano = bool(\"\")\n",
        "booleano_2 = bool(\"esto es otro tipo de booleano al hacer conversion\")\n",
        "print(booleano, type(booleano))\n",
        "print(booleano_2, type(booleano_2))"
      ]
    },
    {
      "cell_type": "code",
      "source": [
        "bool_str  = str(booleano)\n",
        "bool_2_str = str(booleano_2)\n",
        "print(bool_str,bool_2_str)"
      ],
      "metadata": {
        "colab": {
          "base_uri": "https://localhost:8080/"
        },
        "id": "4OPFZ-FKZfUU",
        "outputId": "bba05544-e289-463d-d742-5ca8f3f7356b"
      },
      "execution_count": 13,
      "outputs": [
        {
          "output_type": "stream",
          "name": "stdout",
          "text": [
            "False True\n"
          ]
        }
      ]
    },
    {
      "cell_type": "markdown",
      "metadata": {
        "id": "asTtemeNX5mC"
      },
      "source": [
        "<table align=\"left\">\n",
        " <tr><td width=\"80\"><img src=\"img/error.png\" style=\"width:auto;height:auto\"></td>\n",
        "     <td style=\"text-align:left\">\n",
        "         <h3>ERRORES en conversion de tipos</h3>\n",
        "         \n",
        " </td></tr>\n",
        "</table>"
      ]
    },
    {
      "cell_type": "markdown",
      "metadata": {
        "id": "2gk4mUFlX5mC"
      },
      "source": [
        "Ojo si intentamos pasar a entero un string con pinta de real. En cuanto lleva el punto, ya tiene que ser un numero real. A no ser que lo pasemos a real y posteriormente a entero (`int()`), o usando el `round()` como vimos anteriormente"
      ]
    },
    {
      "cell_type": "code",
      "execution_count": 14,
      "metadata": {
        "id": "0jH9hybLX5mD",
        "colab": {
          "base_uri": "https://localhost:8080/",
          "height": 168
        },
        "outputId": "cf92b2de-2439-4cbf-acaf-97ef03430407"
      },
      "outputs": [
        {
          "output_type": "error",
          "ename": "ValueError",
          "evalue": "could not convert string to float: '68,34'",
          "traceback": [
            "\u001b[0;31m---------------------------------------------------------------------------\u001b[0m",
            "\u001b[0;31mValueError\u001b[0m                                Traceback (most recent call last)",
            "\u001b[0;32m<ipython-input-14-1df283a6a8ee>\u001b[0m in \u001b[0;36m<cell line: 2>\u001b[0;34m()\u001b[0m\n\u001b[1;32m      1\u001b[0m \u001b[0mreal_str\u001b[0m \u001b[0;34m=\u001b[0m \u001b[0;34m\"68,34\"\u001b[0m\u001b[0;34m\u001b[0m\u001b[0;34m\u001b[0m\u001b[0m\n\u001b[0;32m----> 2\u001b[0;31m \u001b[0mreal\u001b[0m \u001b[0;34m=\u001b[0m \u001b[0mfloat\u001b[0m\u001b[0;34m(\u001b[0m\u001b[0mreal_str\u001b[0m\u001b[0;34m)\u001b[0m\u001b[0;34m\u001b[0m\u001b[0;34m\u001b[0m\u001b[0m\n\u001b[0m",
            "\u001b[0;31mValueError\u001b[0m: could not convert string to float: '68,34'"
          ]
        }
      ],
      "source": [
        "real_str = \"68,34\"\n",
        "real = float(real_str)"
      ]
    },
    {
      "cell_type": "code",
      "source": [
        "real_str.replace(\",\",\".\")\n"
      ],
      "metadata": {
        "colab": {
          "base_uri": "https://localhost:8080/",
          "height": 36
        },
        "id": "wY4cHOkvaGkh",
        "outputId": "24a9b332-7daa-4239-c550-437fc12a5348"
      },
      "execution_count": 16,
      "outputs": [
        {
          "output_type": "execute_result",
          "data": {
            "text/plain": [
              "'68.34'"
            ],
            "application/vnd.google.colaboratory.intrinsic+json": {
              "type": "string"
            }
          },
          "metadata": {},
          "execution_count": 16
        }
      ]
    },
    {
      "cell_type": "code",
      "source": [
        "nuevo_str = real_str.replace(\",\",\".\")\n",
        "print(type(nuevo_str))"
      ],
      "metadata": {
        "colab": {
          "base_uri": "https://localhost:8080/"
        },
        "id": "lfv-8eGkaXIN",
        "outputId": "1fb2560c-7950-4948-9957-8e367b55987a"
      },
      "execution_count": 18,
      "outputs": [
        {
          "output_type": "stream",
          "name": "stdout",
          "text": [
            "<class 'str'>\n"
          ]
        }
      ]
    },
    {
      "cell_type": "code",
      "source": [
        "real = float(nuevo_str)\n",
        "print(real, type(real))"
      ],
      "metadata": {
        "colab": {
          "base_uri": "https://localhost:8080/"
        },
        "id": "KOaluhgMaszX",
        "outputId": "5cb3eb8b-fa0b-4b4e-bba6-17cf78d500e8"
      },
      "execution_count": 20,
      "outputs": [
        {
          "output_type": "stream",
          "name": "stdout",
          "text": [
            "68.34 <class 'float'>\n"
          ]
        }
      ]
    },
    {
      "cell_type": "markdown",
      "metadata": {
        "id": "4IjH5-bjX5mD"
      },
      "source": [
        "Si leemos datos con decimales y tenemos comas en vez de puntos, habrá errores."
      ]
    },
    {
      "cell_type": "code",
      "execution_count": null,
      "metadata": {
        "id": "YYLZk9r_X5mD"
      },
      "outputs": [],
      "source": []
    },
    {
      "cell_type": "markdown",
      "metadata": {
        "id": "WXshhJl7X5mD"
      },
      "source": [
        "Para solventar esto utilizaremos funciones que sustituyan unos caracteres por otros"
      ]
    },
    {
      "cell_type": "code",
      "execution_count": null,
      "metadata": {
        "id": "b87mtgazX5mD"
      },
      "outputs": [],
      "source": []
    },
    {
      "cell_type": "markdown",
      "metadata": {
        "id": "WiYe_qlLX5mD"
      },
      "source": [
        "Es fudndamental operar con los mismos tipos de datos. Mira lo que ocurre cuando sumamos texto con un numero. Da un `TypeError`. Básicamente nos dice que no puedes concatenar un texto con un numero entero"
      ]
    },
    {
      "cell_type": "code",
      "execution_count": null,
      "metadata": {
        "id": "uTe4PksuX5mE"
      },
      "outputs": [],
      "source": []
    },
    {
      "cell_type": "markdown",
      "metadata": {
        "id": "F65wPCntX5mE"
      },
      "source": [
        "## Input\n",
        "[al indice](#Contenidos)\n",
        "Esta sentencia se usa en Python para recoger un valor que escriba el usuario del programa. Los programas suelen funcionar de esa manera, reciben un input, realizan operaciones, y acaban sacando un output para el usuario.\n",
        "\n",
        "Por ejemplo, en la siguiente celda recojo un input, que luego podremos usar en celdas posteriores.\n",
        "\n",
        "**CUIDADO**. Si corres una celda con un `input()` el programa se queda esperando a que el usuario meta un valor. Si en el momento en el que está esperando, vuelves a correr la misma celda, se te puede quedar pillado, depende del ordendaor/versión de Jupyter. Si eso ocurre, pincha en la celda y dale despues al botón de stop de arriba, o sino a Kernel -> Restart Kernel..."
      ]
    },
    {
      "cell_type": "code",
      "execution_count": null,
      "metadata": {
        "id": "V6zMtMfUX5mE"
      },
      "outputs": [],
      "source": [
        "primer_input = input(\"Escribeme algo\")"
      ]
    },
    {
      "cell_type": "code",
      "execution_count": null,
      "metadata": {
        "id": "S8p2YPurX5mE"
      },
      "outputs": [],
      "source": [
        "  print(primer_input)"
      ]
    },
    {
      "cell_type": "markdown",
      "metadata": {
        "id": "B3jVo8_pX5mE"
      },
      "source": [
        "Puedes poner ints, floats, strings, lo que quieras recoger en texto plano.\n",
        "\n",
        "Mira que fácil es hacer un chatbot un poco tonto, mediante el que hacemos preguntas al usuario, y almacenamos sus respuestas."
      ]
    },
    {
      "cell_type": "code",
      "execution_count": null,
      "metadata": {
        "id": "vtmgQHoIX5mE"
      },
      "outputs": [],
      "source": [
        "nombre = input(\"¿Cómo te llamas?\")\n",
        "print(\"encantado de conocerte\", nombre)\n",
        "preferencias = input(\"Y, ¿qué te parece este vídeo?\")\n",
        "print(\"Coincido\")"
      ]
    },
    {
      "cell_type": "markdown",
      "metadata": {
        "id": "MJqvsBd9X5mE"
      },
      "source": [
        "## None\n",
        "[al indice](#Contenidos)\n",
        "Palabra reservada en Python para designar al valor nulo. `None` no es 0, tampoco es un string vacio, ni `False`, simplemente es un tipo de datos más para representar el conjunto vacío."
      ]
    },
    {
      "cell_type": "code",
      "execution_count": null,
      "metadata": {
        "id": "5_2zfAAXX5mF"
      },
      "outputs": [],
      "source": [
        "print(None)"
      ]
    },
    {
      "cell_type": "code",
      "source": [
        "print(type(None))"
      ],
      "metadata": {
        "id": "5lHi-2X0ghsx"
      },
      "execution_count": null,
      "outputs": []
    },
    {
      "cell_type": "code",
      "source": [
        "\"\" == None"
      ],
      "metadata": {
        "id": "3p6zZKyUghpY"
      },
      "execution_count": null,
      "outputs": []
    },
    {
      "cell_type": "code",
      "source": [
        "0 == None"
      ],
      "metadata": {
        "id": "woYhV_0BgwVm"
      },
      "execution_count": null,
      "outputs": []
    },
    {
      "cell_type": "code",
      "source": [
        "False == None"
      ],
      "metadata": {
        "id": "bMBNb4e6g26D"
      },
      "execution_count": null,
      "outputs": []
    },
    {
      "cell_type": "code",
      "source": [],
      "metadata": {
        "id": "YXv7TvCCg5FJ"
      },
      "execution_count": null,
      "outputs": []
    },
    {
      "cell_type": "markdown",
      "metadata": {
        "id": "Q566LqOQX5mF"
      },
      "source": [
        "## Sintaxis y best practices\n",
        "[al indice](#Contenidos)\n",
        "A la hora de escribir en Python, existen ciertas normas que hay que tener en cuenta:\n",
        "* Todo lo que abras, lo tienes que cerrar: paréntesis, llaves, corchetes...\n",
        "* Los decimales se ponen con puntos `.`\n",
        "* Best practices\n",
        "    * **Caracteres**: NO se recomienda usar Ñs, acentos o caracteres raros (ª,º,@,ç...) en el codigo. Ponerlo únicamente en los comentarios.\n",
        "    * **Espacios**: NO usar espacios en los nombres de las variables ni de las funciones. Se recomienda usar guión bajo para simular el espacio. O también juntar las palabras y usar mayuscula para diferenciarlas `miVariable`. Lo normal es todo minúscula y guiones bajos\n",
        "    * Ahora bien, sí se recomienda usar espacios entre cada comando, para facilitar la lectura, aunque esto ya es más cuestión de gustos. `mi_variable = 36`.\n",
        "    * Se suelen declarar las variables en minuscula.\n",
        "    * Las constantes (variables que no van a cambiar nunca) en mayuscula. `MI_PAIS = \"España\"`\n",
        "    * **Cada sentencia en una linea**. Se puede usar el `;` para declarar varias variables, pero no es lo habitual\n",
        "    * **Comentarios**: TODOS los que se pueda. Nunca sabes cuándo otra persona va a coger tu espectacular código, o si tu *yo* del futuro se acordará de por qué hiciste ese bucle while en vez de un for.\n",
        "    * **Case sensitive**: sensible a mayusculas y minusculas. CUIDADO con esto cuando declaremos variables o usemos Strings\n",
        "    * **Sintaxis de línea**: para una correcta lectura del codigo lo mejor es aplicar sintaxis de línea en la medida de lo posible"
      ]
    },
    {
      "cell_type": "code",
      "execution_count": null,
      "metadata": {
        "id": "o4LxvppdX5mF"
      },
      "outputs": [],
      "source": [
        "# A esto nos referimos con sintaxis de línea\n",
        "lista_compra = ['Manzanas',\n",
        "               'Galletas',\n",
        "               'Pollo',\n",
        "               'Cereales']"
      ]
    },
    {
      "cell_type": "markdown",
      "metadata": {
        "id": "Lg0DGQliX5mF"
      },
      "source": [
        "### The Zen of Python\n",
        "Cualquier consejo que te haya podido dar hasta ahora se queda en nada comparado con los 20 principios que definió *Tim Peters* en 1999. Uno de los mayores colaboradores en la creación de este lenguaje"
      ]
    },
    {
      "cell_type": "code",
      "execution_count": null,
      "metadata": {
        "id": "KgtxkitSX5mG"
      },
      "outputs": [],
      "source": [
        "import this"
      ]
    },
    {
      "cell_type": "code",
      "execution_count": null,
      "metadata": {
        "id": "bvT7YcTyX5mG"
      },
      "outputs": [],
      "source": []
    },
    {
      "cell_type": "code",
      "execution_count": null,
      "metadata": {
        "id": "H0QXOiaZX5mG"
      },
      "outputs": [],
      "source": []
    }
  ],
  "nbformat": 4,
  "nbformat_minor": 0,
  "metadata": {
    "kernelspec": {
      "display_name": "Python 3",
      "language": "python",
      "name": "python3"
    },
    "language_info": {
      "codemirror_mode": {
        "name": "ipython",
        "version": 3
      },
      "file_extension": ".py",
      "mimetype": "text/x-python",
      "name": "python",
      "nbconvert_exporter": "python",
      "pygments_lexer": "ipython3",
      "version": "3.8.3"
    },
    "colab": {
      "provenance": [],
      "include_colab_link": true
    }
  }
}