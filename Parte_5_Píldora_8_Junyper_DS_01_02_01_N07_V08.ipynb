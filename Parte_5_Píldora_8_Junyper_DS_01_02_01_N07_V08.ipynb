{
  "cells": [
    {
      "cell_type": "markdown",
      "metadata": {
        "id": "view-in-github",
        "colab_type": "text"
      },
      "source": [
        "<a href=\"https://colab.research.google.com/github/iap095/ONLINE_DS_THEBRIDGE-PASO_2.3-/blob/main/Parte_5_P%C3%ADldora_8_Junyper_DS_01_02_01_N07_V08.ipynb\" target=\"_parent\"><img src=\"https://colab.research.google.com/assets/colab-badge.svg\" alt=\"Open In Colab\"/></a>"
      ]
    },
    {
      "cell_type": "markdown",
      "metadata": {
        "id": "7T9g0DGWOcnb"
      },
      "source": [
        "##  Argumentos posicionales\n"
      ]
    },
    {
      "cell_type": "markdown",
      "metadata": {
        "id": "gBrmXOWBOcng"
      },
      "source": [
        "### Contenidos\n"
      ]
    },
    {
      "cell_type": "markdown",
      "metadata": {
        "id": "oI1MSAAuOcnh"
      },
      "source": [
        "* [Introducción  ](#Introducción--)\n"
      ]
    },
    {
      "cell_type": "markdown",
      "metadata": {
        "id": "nmmaDvftOcnj"
      },
      "source": [
        "### Introducción  \n",
        "[al indice](#Contenidos)  \n",
        "\n",
        "Puedes implementar funciones con todos los argumentos que quieras. Ahora bien, ten en cuenta dos cosas:\n",
        "\n",
        "1. **El orden** de los argumentos. Cuando llamemos a la función, tenemos que seguir el mismo orden de argumentos que en la declaración de la función.\n",
        "2. **Son obligatorios**. Si los declaramos en la función, después al llamarla, tenemos que poner todos sus argumentos. Luego veremos que hay una manera de poner argumentos opcionales."
      ]
    },
    {
      "cell_type": "code",
      "execution_count": 1,
      "metadata": {
        "id": "BS7oKoWcOcnk",
        "outputId": "f69fd736-e15a-48fe-fce6-ca4f981e845b",
        "colab": {
          "base_uri": "https://localhost:8080/"
        }
      },
      "outputs": [
        {
          "output_type": "execute_result",
          "data": {
            "text/plain": [
              "10.0"
            ]
          },
          "metadata": {},
          "execution_count": 1
        }
      ],
      "source": [
        "def multiplica(x1,x2,x3,x4):\n",
        "  resultado = (x1 * x2 * x3)/ x4\n",
        "  return resultado\n",
        "\n",
        "multiplica(3,4,5,6)# se llaman valores posicionales ya que no hemos especificado a que variable pertenece cada valor, luego python lo interpreta por el orden de la posicion\n"
      ]
    },
    {
      "cell_type": "code",
      "source": [
        "multiplica(x1 = 3, x4 = 6, x3 = 5, x2 = 4)# es mejor hacerlo asi, dando nobre a las variables"
      ],
      "metadata": {
        "id": "td4kp65kPRaQ",
        "outputId": "fde3fa06-33e9-4585-89d5-7c09b3176d5f",
        "colab": {
          "base_uri": "https://localhost:8080/"
        }
      },
      "execution_count": 2,
      "outputs": [
        {
          "output_type": "execute_result",
          "data": {
            "text/plain": [
              "10.0"
            ]
          },
          "metadata": {},
          "execution_count": 2
        }
      ]
    },
    {
      "cell_type": "markdown",
      "metadata": {
        "id": "Pnx_Jk9yOcnm"
      },
      "source": [
        "Fijate que los argumentos siguen un determinado orden: x1, x2, x3, x4. Cuando llamamos a la función, introduciremos 4 argumentos y la función los recogerá en ese orden. Asignará 4 a x1, 6 a x2, etc. Podemos también especificar el nombre del argumento en la llamada, lo que nos permite tener mayor flexibilidad en el orden."
      ]
    },
    {
      "cell_type": "code",
      "execution_count": null,
      "metadata": {
        "id": "zXC63AVLOcnn"
      },
      "outputs": [],
      "source": []
    },
    {
      "cell_type": "markdown",
      "metadata": {
        "id": "rD83r2PZOcno"
      },
      "source": [
        "<table align=\"left\">\n",
        " <tr>\n",
        "     <td style=\"text-align:left\">\n",
        "         <h3>ERRORES Traza del error dentro de la función</h3>\n",
        "         \n",
        " </td></tr>\n",
        "</table>"
      ]
    },
    {
      "cell_type": "code",
      "execution_count": 10,
      "metadata": {
        "id": "afAGNxX8Ocnp",
        "outputId": "8ce89bfd-428e-4909-ead4-01cb5e0c4c70",
        "colab": {
          "base_uri": "https://localhost:8080/"
        }
      },
      "outputs": [
        {
          "output_type": "stream",
          "name": "stdout",
          "text": [
            "no se piuede dividir por 0\n"
          ]
        }
      ],
      "source": [
        "multiplica ( x4 = 0, x2 = 3, x1 = 5, x3 = 12)# va a dar error por dividir por 0\n",
        "# el error nos dice que el error esta en la linea 2, en la division"
      ]
    },
    {
      "cell_type": "markdown",
      "metadata": {
        "id": "lZGPYRUxOcnq"
      },
      "source": [
        "Fijate que aparece toda la traza del error, tanto la línea donde llamas a la función, como el error dentro de la función. Podemos solventar el error, introduciendo un bloque `try/except`"
      ]
    },
    {
      "cell_type": "code",
      "execution_count": 4,
      "metadata": {
        "id": "PzvafBzIOcnt",
        "outputId": "c10728d6-79b5-48e4-8d8a-197a5a6001c1",
        "colab": {
          "base_uri": "https://localhost:8080/"
        }
      },
      "outputs": [
        {
          "output_type": "stream",
          "name": "stdout",
          "text": [
            "division by zero\n",
            "Error en la funcion\n"
          ]
        }
      ],
      "source": [
        "try:\n",
        "  multiplica (x4 = 0, x2=3 , x3 = 12, x1 = 6)\n",
        "except Exception as ex:\n",
        "  print(ex)\n",
        "  print(\"Error en la funcion\")"
      ]
    },
    {
      "cell_type": "code",
      "source": [
        "def multiplica(x1,x2,x3,x4):\n",
        "  if x4 == 0:\n",
        "    print(\"no se piuede dividir por 0\")\n",
        "  else:\n",
        "     resultado = (x1 * x2 * x3)/ x4\n",
        "     return resultado\n",
        ""
      ],
      "metadata": {
        "id": "Elaz_ytGQHqv"
      },
      "execution_count": 8,
      "outputs": []
    },
    {
      "cell_type": "code",
      "source": [
        "multiplica ( x4 = 0, x2 = 3, x1 = 5, x3 = 12)"
      ],
      "metadata": {
        "id": "GcaDC_O4QSdK",
        "outputId": "1780a366-23b7-4f33-d95d-57451092bd22",
        "colab": {
          "base_uri": "https://localhost:8080/"
        }
      },
      "execution_count": 11,
      "outputs": [
        {
          "output_type": "stream",
          "name": "stdout",
          "text": [
            "no se piuede dividir por 0\n"
          ]
        }
      ]
    }
  ],
  "metadata": {
    "kernelspec": {
      "display_name": "Python 3 (ipykernel)",
      "language": "python",
      "name": "python3"
    },
    "language_info": {
      "codemirror_mode": {
        "name": "ipython",
        "version": 3
      },
      "file_extension": ".py",
      "mimetype": "text/x-python",
      "name": "python",
      "nbconvert_exporter": "python",
      "pygments_lexer": "ipython3",
      "version": "3.9.7"
    },
    "colab": {
      "provenance": [],
      "include_colab_link": true
    }
  },
  "nbformat": 4,
  "nbformat_minor": 0
}