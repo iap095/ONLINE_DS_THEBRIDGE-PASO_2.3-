{
  "cells": [
    {
      "cell_type": "markdown",
      "metadata": {
        "id": "view-in-github",
        "colab_type": "text"
      },
      "source": [
        "<a href=\"https://colab.research.google.com/github/iap095/ONLINE_DS_THEBRIDGE-PASO_2.3-/blob/main/Parte_5_P%C3%ADldora_3_Jupyter_DS_01_02_01_N02_V03.ipynb\" target=\"_parent\"><img src=\"https://colab.research.google.com/assets/colab-badge.svg\" alt=\"Open In Colab\"/></a>"
      ]
    },
    {
      "cell_type": "markdown",
      "metadata": {
        "id": "JVkbMi6M4LYa"
      },
      "source": [
        "![TheBridge_Python_v0.png](attachment:TheBridge_Python_v0.png)"
      ]
    },
    {
      "cell_type": "markdown",
      "metadata": {
        "id": "Ow-A7ea74LYi"
      },
      "source": [
        "##  Colecciones Python: Tuplas\n"
      ]
    },
    {
      "cell_type": "markdown",
      "metadata": {
        "id": "heKnmAYt4LYk"
      },
      "source": [
        "### Contenidos\n"
      ]
    },
    {
      "cell_type": "markdown",
      "metadata": {
        "id": "Z3eHMtI64LYl"
      },
      "source": [
        "* [Introducción](#Introducción)\n",
        "\n",
        "* [Listas y tuplas](#Listas-y-tuplas)\n",
        "\n"
      ]
    },
    {
      "cell_type": "markdown",
      "metadata": {
        "id": "BWRUFgF54LYm"
      },
      "source": [
        "### Introducción\n",
        "[al indice](#Contenidos)  \n",
        "\n",
        "Muy similares a las listas. Si en Notebooks anteriores definíamos a las listas como ordenadas y mutables, las tuplas son ordenadas e inmutables.\n",
        "\n",
        "* **Inmutables**: una vez creada la tupla con sus elementos iniciales, no se puede modificar\n",
        "* **Ordenadas**: podemos acceder a sus elementos a través del indice y reordenar la tupla según queramos\n",
        "\n",
        "Las tuplas se suelen usar para pequeñas colecciones de datos que no van a cambiar a lo largo del programa, como es el caso de las constantes.\n",
        "\n",
        "Si las listas se construían mediante corchetes `[]`, las tuplas lo hacen con los paréntesis `()`"
      ]
    },
    {
      "cell_type": "code",
      "execution_count": 1,
      "metadata": {
        "id": "NmdrJ7G34LYr",
        "outputId": "7a3cb3dd-27c7-4988-91bf-2a6e72d737d2",
        "colab": {
          "base_uri": "https://localhost:8080/"
        }
      },
      "outputs": [
        {
          "output_type": "stream",
          "name": "stdout",
          "text": [
            "(3, 'texto')\n",
            "<class 'tuple'>\n"
          ]
        }
      ],
      "source": [
        "tupla_ejemplo = (3, \"texto\")\n",
        "print(tupla_ejemplo)\n",
        "print(type(tupla_ejemplo))"
      ]
    },
    {
      "cell_type": "markdown",
      "metadata": {
        "id": "NJ58Pts74LYt"
      },
      "source": [
        "Los paréntesis ya se usan para reordenar operaciones `5 * (3 + 4)`, por lo que hay que añadir una coma cuando definamos una tupla con un único elemento, sino Python lo interpretará como un número."
      ]
    },
    {
      "cell_type": "code",
      "execution_count": 2,
      "metadata": {
        "id": "XGKbH_V84LYw",
        "outputId": "acfdff36-3989-4edc-b66b-4249e55a47da",
        "colab": {
          "base_uri": "https://localhost:8080/"
        }
      },
      "outputs": [
        {
          "output_type": "stream",
          "name": "stdout",
          "text": [
            "El primer elemento es:  3\n",
            "El segundo elemento es:  texto\n"
          ]
        }
      ],
      "source": [
        "print(\"El primer elemento es: \", tupla_ejemplo[0])\n",
        "print(\"El segundo elemento es: \", tupla_ejemplo[1])"
      ]
    },
    {
      "cell_type": "code",
      "execution_count": 4,
      "metadata": {
        "id": "on-519y04LYx",
        "outputId": "ee5056cf-9da7-468b-c288-d1c47ae0b9ba",
        "colab": {
          "base_uri": "https://localhost:8080/"
        }
      },
      "outputs": [
        {
          "output_type": "stream",
          "name": "stdout",
          "text": [
            "<class 'int'> 24\n",
            "<class 'tuple'> (24,)\n"
          ]
        }
      ],
      "source": [
        "mala_tupla = (24)\n",
        "print(type(mala_tupla), mala_tupla)\n",
        "\n",
        "buena_tupla = (24,)\n",
        "print(type(buena_tupla), buena_tupla)"
      ]
    },
    {
      "cell_type": "code",
      "source": [
        "#Añadir tupla\n",
        "tupla_anid = (1,2,3, ( \"A\", \"B\", \"C\"))\n",
        "print(tupla_anid)\n",
        "print(len(tupla_anid))"
      ],
      "metadata": {
        "id": "gCqn_5tN5L2b",
        "outputId": "a83f61b1-8a54-46ef-f5dc-a9c743d08797",
        "colab": {
          "base_uri": "https://localhost:8080/"
        }
      },
      "execution_count": 5,
      "outputs": [
        {
          "output_type": "stream",
          "name": "stdout",
          "text": [
            "(1, 2, 3, ('A', 'B', 'C'))\n",
            "4\n"
          ]
        }
      ]
    },
    {
      "cell_type": "code",
      "source": [
        "print(tupla_anid[2])\n",
        "print(tupla_anid[3][1])#aceceder al segundo elemento del elemnto 4/ tupla anidada"
      ],
      "metadata": {
        "id": "VBtiUmxN5fXN",
        "outputId": "43b69615-226c-445e-85a8-d2c36db8fca8",
        "colab": {
          "base_uri": "https://localhost:8080/"
        }
      },
      "execution_count": 6,
      "outputs": [
        {
          "output_type": "stream",
          "name": "stdout",
          "text": [
            "3\n",
            "B\n"
          ]
        }
      ]
    },
    {
      "cell_type": "code",
      "source": [
        "#Son iterables, se pueden recorrer con un bucle for\n",
        "for i in tupla_anid:\n",
        "  print(i)"
      ],
      "metadata": {
        "id": "ZcmRqAX_52H5",
        "outputId": "8baeae8d-3ff6-4ff0-cf1e-a42d5395dc50",
        "colab": {
          "base_uri": "https://localhost:8080/"
        }
      },
      "execution_count": 7,
      "outputs": [
        {
          "output_type": "stream",
          "name": "stdout",
          "text": [
            "1\n",
            "2\n",
            "3\n",
            "('A', 'B', 'C')\n"
          ]
        }
      ]
    },
    {
      "cell_type": "code",
      "source": [
        "#Slicing\n",
        "tupla_bis = tupla_anid[2:]#nos quedamos desde el elemento 3 hasta el final\n",
        "print(tupla_bis)"
      ],
      "metadata": {
        "id": "OYHAIjpQ5-4b",
        "outputId": "81bae33d-bfc8-4067-a194-a4257cff2472",
        "colab": {
          "base_uri": "https://localhost:8080/"
        }
      },
      "execution_count": 8,
      "outputs": [
        {
          "output_type": "stream",
          "name": "stdout",
          "text": [
            "(3, ('A', 'B', 'C'))\n"
          ]
        }
      ]
    },
    {
      "cell_type": "markdown",
      "metadata": {
        "id": "uVKcrtwz4LYx"
      },
      "source": [
        "<table align=\"left\">\n",
        " <tr>\n",
        "     <td style=\"text-align:left\">\n",
        "         <h3>ERRORES tuplas</h3>\n",
        "         \n",
        " </td></tr>\n",
        "</table>"
      ]
    },
    {
      "cell_type": "markdown",
      "metadata": {
        "id": "oD13O8Ek4LYy"
      },
      "source": [
        "Cuidado que las tuplas son inmutables, y una vez creadas no las podrás modificar después"
      ]
    },
    {
      "cell_type": "code",
      "execution_count": 9,
      "metadata": {
        "id": "_L42_zCm4LY0",
        "outputId": "f4b802b3-6d7f-4da2-b3b8-a2cfc7aad140",
        "colab": {
          "base_uri": "https://localhost:8080/",
          "height": 168
        }
      },
      "outputs": [
        {
          "output_type": "error",
          "ename": "TypeError",
          "evalue": "'tuple' object does not support item assignment",
          "traceback": [
            "\u001b[0;31m---------------------------------------------------------------------------\u001b[0m",
            "\u001b[0;31mTypeError\u001b[0m                                 Traceback (most recent call last)",
            "\u001b[0;32m<ipython-input-9-461e256a31a3>\u001b[0m in \u001b[0;36m<cell line: 2>\u001b[0;34m()\u001b[0m\n\u001b[1;32m      1\u001b[0m \u001b[0mtupla_error\u001b[0m \u001b[0;34m=\u001b[0m \u001b[0;34m(\u001b[0m\u001b[0;36m1\u001b[0m\u001b[0;34m,\u001b[0m\u001b[0;36m2\u001b[0m\u001b[0;34m,\u001b[0m\u001b[0;36m3\u001b[0m\u001b[0;34m,\u001b[0m\u001b[0;36m4\u001b[0m\u001b[0;34m)\u001b[0m\u001b[0;34m\u001b[0m\u001b[0;34m\u001b[0m\u001b[0m\n\u001b[0;32m----> 2\u001b[0;31m \u001b[0mtupla_error\u001b[0m\u001b[0;34m[\u001b[0m\u001b[0;36m3\u001b[0m\u001b[0;34m]\u001b[0m \u001b[0;34m=\u001b[0m \u001b[0;36m23\u001b[0m\u001b[0;34m\u001b[0m\u001b[0;34m\u001b[0m\u001b[0m\n\u001b[0m",
            "\u001b[0;31mTypeError\u001b[0m: 'tuple' object does not support item assignment"
          ]
        }
      ],
      "source": [
        "tupla_error = (1,2,3,4)\n",
        "tupla_error[3] = 23 #no son conmutables, es decir, no podemos cambiar elemento de la tupla\n",
        "#tampoco podemos quitar elementos"
      ]
    },
    {
      "cell_type": "code",
      "execution_count": 11,
      "metadata": {
        "id": "VcuBVEHH4LY0",
        "outputId": "de7e1329-7d46-4cdd-e567-538da7d6c613",
        "colab": {
          "base_uri": "https://localhost:8080/"
        }
      },
      "outputs": [
        {
          "output_type": "stream",
          "name": "stdout",
          "text": [
            "(1, 2, 3, 4, 5, 6)\n",
            "(1, 2, 3, 4, 5, 6)\n",
            "(1, 2, 3, 4, 5, 6)\n"
          ]
        }
      ],
      "source": [
        "# Si queremos añadir elementos, podemos meterlos en otra tupla y sumarlas para que se concatenen\n",
        "tupla_1 = (1,2,3)\n",
        "tupla_2 = (4,5,6)\n",
        "#vamos a concatenar las tuplas, pero dará lugar a una nueva tupla\n",
        "print(tupla_1 + tupla_2)\n",
        "tupla_3 = tupla_1 + tupla_2\n",
        "#si queremos modificar una tupla lo unico que podemos hacer es asignar a la tupla una nueva variable con otra tupla:\n",
        "tupla_1 = tupla_1 + tupla_2 #no estamos cambiando la tupla\n",
        "print(tupla_3)\n",
        "print(tupla_1)"
      ]
    },
    {
      "cell_type": "markdown",
      "metadata": {
        "id": "tEz3BIZK4LY2"
      },
      "source": [
        "### Listas y tuplas\n",
        "[al indice](#Contenidos)  \n",
        "\n",
        "Podemos combinar listas y tuplas que no tendremos ningún problema, siempre y cuando respetemos las propiedades de cada tipo de dato."
      ]
    },
    {
      "cell_type": "code",
      "execution_count": 13,
      "metadata": {
        "id": "qB7cqJ964LY3",
        "outputId": "fac90913-dfe2-4509-d7dc-1883e003d105",
        "colab": {
          "base_uri": "https://localhost:8080/"
        }
      },
      "outputs": [
        {
          "output_type": "stream",
          "name": "stdout",
          "text": [
            "['Fresas', ('naranjas', 'limones'), 'kiwis'] <class 'list'>\n",
            "('Fresas', ['naranjas', 'limones'], 'kiwis') <class 'tuple'>\n"
          ]
        }
      ],
      "source": [
        "lista_ejempl = [\"Fresas\", (\"naranjas\", \"limones\"), \"kiwis\"] #lista con una tumpla dentro\n",
        "print(lista_ejempl, type(lista_ejempl))\n",
        "tupla_ejemplo = (\"Fresas\", [\"naranjas\", \"limones\"], \"kiwis\") #tupla con una lista denttro\n",
        "print(tupla_ejemplo, type(tupla_ejemplo))\n",
        "#la diferencia es que dentro de la lista_ejemplo si vamos a podemos modificar elementos, salvo la tupla, y en la otra variable no"
      ]
    },
    {
      "cell_type": "code",
      "execution_count": null,
      "metadata": {
        "id": "mjXbRa6n4LY4"
      },
      "outputs": [],
      "source": []
    }
  ],
  "metadata": {
    "kernelspec": {
      "display_name": "Python 3 (ipykernel)",
      "language": "python",
      "name": "python3"
    },
    "language_info": {
      "codemirror_mode": {
        "name": "ipython",
        "version": 3
      },
      "file_extension": ".py",
      "mimetype": "text/x-python",
      "name": "python",
      "nbconvert_exporter": "python",
      "pygments_lexer": "ipython3",
      "version": "3.9.7"
    },
    "colab": {
      "provenance": [],
      "include_colab_link": true
    }
  },
  "nbformat": 4,
  "nbformat_minor": 0
}