{
  "cells": [
    {
      "cell_type": "markdown",
      "metadata": {
        "id": "view-in-github",
        "colab_type": "text"
      },
      "source": [
        "<a href=\"https://colab.research.google.com/github/iap095/ONLINE_DS_THEBRIDGE-PASO_2.3-/blob/main/Parte_6_P%C3%ADldora_4_Junyper_DS_01_02_02_N04_V04.ipynb\" target=\"_parent\"><img src=\"https://colab.research.google.com/assets/colab-badge.svg\" alt=\"Open In Colab\"/></a>"
      ]
    },
    {
      "cell_type": "markdown",
      "metadata": {
        "id": "CWTywzEHV0Uv"
      },
      "source": [
        "##  Constructores\n"
      ]
    },
    {
      "cell_type": "markdown",
      "metadata": {
        "id": "8DePGMmUV0Uw"
      },
      "source": [
        "### Contenidos\n"
      ]
    },
    {
      "cell_type": "markdown",
      "metadata": {
        "id": "2AQQ1IhjV0Ux"
      },
      "source": [
        "* [Introducción  ](#Introducción--)\n",
        "\n"
      ]
    },
    {
      "cell_type": "markdown",
      "metadata": {
        "id": "3XF__q20V0Uy"
      },
      "source": [
        "### Introducción  \n",
        "[al indice](#Contenidos)  \n",
        "\n",
        "Veíamos en la sesión anterior que cuando creamos un objeto de la clase *Coche* sin más, este objeto adquiere los atributos por defecto de la clase. Si queremos definirlo bien \"de primeras\" (en su instanciación o creación) para diferenciarlo de otros coches, necesitamos algo más.  \n",
        "\n",
        "Ese algo más que me permite la definición inicial, es lo que se denomina constructor de la clase.\n",
        "\n",
        "Será un método, muy similar a una función, al que daremos unos argumentos de entrada que sustituirán a los valores por defecto y que nos permitirán diferenciar esa instancia de otras instancias de la misma clase.\n",
        "\n",
        "**¿Cómo se define un constructor?** Mediante la función `__init__`, dentro de la clase."
      ]
    },
    {
      "cell_type": "code",
      "execution_count": 19,
      "metadata": {
        "id": "y1V06eKkV0Uz"
      },
      "outputs": [],
      "source": [
        "class Coche :\n",
        "  puertas = 4\n",
        "  ruedas = 4\n",
        "\n",
        "  def __init__(self,marca_coche):#los constructores siempre se llaman init y el argumento self. luego ponemos los nuevos atributos\n",
        "  #creo un nuevo atributo (marca) y le asigno el argumento marca_coche\n",
        "    self.marca = marca_coche #self hace referencia al objeto del constructor que se esta instanciando"
      ]
    },
    {
      "cell_type": "code",
      "source": [
        "#Crear nuetro primer objeto con constructor\n",
        "tesla = Coche()#Al llamar a la clase con parentesis estamos llamaondo al constructor\n",
        "#si lo dejamos asi va a dar error, ya que como hemos hecho una funcion, self no hace falta que lo metamos en los argumentos, pero si marca_coche\n",
        "# self es realmente el objeto que se esta creando, pero marca_coche es un argumento posicional que es obligatorio poner ya que no es un argu. keyword o variable"
      ],
      "metadata": {
        "id": "GRzNpDGUW1Qp"
      },
      "execution_count": 12,
      "outputs": []
    },
    {
      "cell_type": "code",
      "source": [
        "tesla = Coche(\"Tesla\")\n",
        "print(tesla.marca)#printamos su atributo"
      ],
      "metadata": {
        "id": "jY3RbCqiXeod",
        "outputId": "7261d2bb-1e01-4699-dc1f-cda00b93e240",
        "colab": {
          "base_uri": "https://localhost:8080/"
        }
      },
      "execution_count": 20,
      "outputs": [
        {
          "output_type": "stream",
          "name": "stdout",
          "text": [
            "Tesla\n"
          ]
        }
      ]
    },
    {
      "cell_type": "markdown",
      "metadata": {
        "id": "vo_FQKkBV0Uz"
      },
      "source": [
        "En la declaración del constructor hemos metido la palabra `self`. **Lo tendremos que poner siempre**. Hace referencia a la propia instancia de coche, es decir, a cuando creemos coches nuevos.\n",
        "\n",
        "En este caso estamos diferenciando los atributos comunes de la clase *Coche*, de los atributos particulares de los coches, como por ejemplo, la marca. Por eso la marca va junto con `self`, porque no hace referencia a la clase genércia de coche, sino a cada coche que creemos."
      ]
    },
    {
      "cell_type": "code",
      "execution_count": 23,
      "metadata": {
        "id": "P-ELYhQkV0U0"
      },
      "outputs": [],
      "source": []
    },
    {
      "cell_type": "markdown",
      "metadata": {
        "id": "xgtxtpSnV0U1"
      },
      "source": [
        "Ahora ya podemos diferenciar los coches por su marca. Para acceder al atributo de la marca, lo hacemos igual que con los anteriores."
      ]
    },
    {
      "cell_type": "code",
      "execution_count": 23,
      "metadata": {
        "id": "2J-NGswyV0U1",
        "outputId": "9b93cf8f-6e7b-489a-fe37-58e36c935223",
        "colab": {
          "base_uri": "https://localhost:8080/"
        }
      },
      "outputs": [
        {
          "output_type": "stream",
          "name": "stdout",
          "text": [
            "Mercedes\n",
            "Renault\n",
            "4\n",
            "4\n"
          ]
        }
      ],
      "source": [
        "mercedes = Coche(\"Mercedes\")\n",
        "renault = Coche(\"Renault\")\n",
        "print(mercedes.marca)\n",
        "print(renault.marca)\n",
        "print(mercedes.puertas)\n",
        "print(renault.puertas)"
      ]
    },
    {
      "cell_type": "markdown",
      "metadata": {
        "id": "Mv9ws3_HV0U1"
      },
      "source": [
        "Ya podemos solucionar el tema de que no todos los coches tienen 4 puertas"
      ]
    },
    {
      "cell_type": "code",
      "execution_count": 24,
      "metadata": {
        "id": "VNlId6xIV0U1"
      },
      "outputs": [],
      "source": [
        "class Coche:\n",
        "  puertas = 4\n",
        "  ruedas = 4\n",
        "\n",
        "  def __init__(self,marca_coche,num_puertas):\n",
        "    self.marca = marca_coche\n",
        "    self.puertas = num_puertas"
      ]
    },
    {
      "cell_type": "code",
      "execution_count": 25,
      "metadata": {
        "id": "2SRYARnKV0U2",
        "outputId": "6372f156-2f47-4c41-c48b-e2ea12b32810",
        "colab": {
          "base_uri": "https://localhost:8080/"
        }
      },
      "outputs": [
        {
          "output_type": "stream",
          "name": "stdout",
          "text": [
            "Mercedes\n",
            "Renault\n",
            "5\n",
            "3\n"
          ]
        }
      ],
      "source": [
        "mercedes = Coche(\"Mercedes\", 5)\n",
        "renault = Coche(\"Renault\",3)\n",
        "print(mercedes.marca)\n",
        "print(renault.marca)\n",
        "print(mercedes.puertas)\n",
        "print(renault.puertas)"
      ]
    },
    {
      "cell_type": "code",
      "source": [
        "class Coche:\n",
        "\n",
        "  def __init__(self,marca_coche,num_puertas = 4, num_ruedas = 4):\n",
        "    self.marca = marca_coche\n",
        "    self.puertas = num_puertas\n",
        "    self.ruedas = num_ruedas"
      ],
      "metadata": {
        "id": "90cDmjVua0lY"
      },
      "execution_count": 26,
      "outputs": []
    },
    {
      "cell_type": "code",
      "source": [
        "tesla_4 =Coche(\"Tesla\")\n",
        "tesla_6r = Coche(\"Tesla\", num_ruedas = 6)"
      ],
      "metadata": {
        "id": "8grYColQa9M1"
      },
      "execution_count": 28,
      "outputs": []
    },
    {
      "cell_type": "code",
      "source": [
        "print(tesla_4.puertas, tesla_6r.puertas)#por defecto llevan 4 puertas\n",
        "print(tesla_4.ruedas, tesla_6r.ruedas)#con el constructor he cambiado el valor por defecto de ruedas"
      ],
      "metadata": {
        "id": "ckNGHN5tbYZY",
        "outputId": "25d49c91-6454-490e-8e00-4da47412733f",
        "colab": {
          "base_uri": "https://localhost:8080/"
        }
      },
      "execution_count": 29,
      "outputs": [
        {
          "output_type": "stream",
          "name": "stdout",
          "text": [
            "4 4\n",
            "4 6\n"
          ]
        }
      ]
    }
  ],
  "metadata": {
    "kernelspec": {
      "display_name": "Python 3 (ipykernel)",
      "language": "python",
      "name": "python3"
    },
    "language_info": {
      "codemirror_mode": {
        "name": "ipython",
        "version": 3
      },
      "file_extension": ".py",
      "mimetype": "text/x-python",
      "name": "python",
      "nbconvert_exporter": "python",
      "pygments_lexer": "ipython3",
      "version": "3.9.7"
    },
    "colab": {
      "provenance": [],
      "include_colab_link": true
    }
  },
  "nbformat": 4,
  "nbformat_minor": 0
}