{
  "cells": [
    {
      "cell_type": "markdown",
      "metadata": {
        "id": "view-in-github",
        "colab_type": "text"
      },
      "source": [
        "<a href=\"https://colab.research.google.com/github/iap095/ONLINE_DS_THEBRIDGE-PASO_2.3-/blob/main/Copia_de_10_Ejercicios_Python_Basisc_I_2.ipynb\" target=\"_parent\"><img src=\"https://colab.research.google.com/assets/colab-badge.svg\" alt=\"Open In Colab\"/></a>"
      ]
    },
    {
      "cell_type": "markdown",
      "metadata": {
        "id": "_9pTa0PXK9q6"
      },
      "source": [
        "## EJERCICIOS PYTHON BASICO 2:\n",
        "## Tipos y conversión de tipos"
      ]
    },
    {
      "cell_type": "markdown",
      "metadata": {
        "id": "tYmV-veoK9q6"
      },
      "source": [
        "Completa los siguiente ejercicios, la solución a los mismos se publicarán en el repo del curso a lo largo del sprint"
      ]
    },
    {
      "cell_type": "markdown",
      "metadata": {
        "id": "YAdFbIOXK9q7"
      },
      "source": [
        "![ejercicio.png](./img/ejercicio.png)\n",
        "\n",
        "## Ejercicio 1\n",
        "\n",
        "1. Crea dos variables numericas: un `int` y un `float`\n",
        "2. Comprueba sus tipos\n",
        "3. Sumalas en otra nueva\n",
        "4. ¿De qué tipo es la nueva variable?\n",
        "5. Elimina las dos primeras variables creadas"
      ]
    },
    {
      "cell_type": "code",
      "execution_count": null,
      "metadata": {
        "id": "8QZmuLOsK9q7",
        "outputId": "80355139-5e3a-41d6-f567-b619d4227194",
        "colab": {
          "base_uri": "https://localhost:8080/"
        }
      },
      "outputs": [
        {
          "output_type": "stream",
          "name": "stdout",
          "text": [
            "entero\n",
            "25\n",
            "<class 'int'>\n",
            "real\n",
            "25.5\n",
            "<class 'float'>\n",
            "suma\n",
            "50.5\n",
            "<class 'float'>\n"
          ]
        }
      ],
      "source": [
        "print(\"entero\")\n",
        "entero = 25\n",
        "print(entero)\n",
        "print(type(entero))\n",
        "\n",
        "print(\"real\")\n",
        "real = 25.5\n",
        "print(real)\n",
        "print(type(real))\n",
        "\n",
        "print(\"suma\")\n",
        "suma = entero + real\n",
        "print(suma)\n",
        "print(type(suma))\n",
        "\n",
        "del entero\n",
        "del real"
      ]
    },
    {
      "cell_type": "markdown",
      "metadata": {
        "id": "f5xfpkpQK9q7"
      },
      "source": [
        "![ejercicio.png](./img/ejercicio.png)\n",
        "\n",
        "## Ejercicio 2\n",
        "Escribe un programa para pasar de grados a radianes. Hay que usar `input`. Recuerda que la conversión se realiza mediante\n",
        "\n",
        "radianes = grados*(pi/180)"
      ]
    },
    {
      "cell_type": "code",
      "execution_count": null,
      "metadata": {
        "id": "V50TUQMzK9q7",
        "outputId": "5a832a14-ce34-48e5-8972-3a9abc39c204",
        "colab": {
          "base_uri": "https://localhost:8080/"
        }
      },
      "outputs": [
        {
          "output_type": "stream",
          "name": "stdout",
          "text": [
            "Escribe los grados: 45\n",
            "Los 45.0 grados corresponde a 0.7853981633974483 radianes\n"
          ]
        }
      ],
      "source": [
        "import math\n",
        "grados = float(input(\"Escribe los grados: \"))\n",
        "factor_de_conversion = (math.pi)/180\n",
        "radianes = grados * factor_de_conversion\n",
        "print( f\"Los {grados} grados corresponde a {radianes} radianes\")"
      ]
    },
    {
      "cell_type": "markdown",
      "metadata": {
        "id": "zX3-p58CK9q7"
      },
      "source": [
        "![ejercicio.png](./img/ejercicio.png)\n",
        "\n",
        "## Ejercicio 3\n",
        "Escribe un programa que calcule el area de un paralelogramo (base x altura). También con `input`"
      ]
    },
    {
      "cell_type": "code",
      "execution_count": null,
      "metadata": {
        "id": "s2QfNiBAK9q7",
        "outputId": "1d52e8a4-c772-4a24-c696-dd3a27a7a62d",
        "colab": {
          "base_uri": "https://localhost:8080/"
        }
      },
      "outputs": [
        {
          "output_type": "stream",
          "name": "stdout",
          "text": [
            "Introduce la altura del paralelogramo: 4\n",
            "Introduce la base del paralelogramo: 5\n",
            "El area del paralelogramo es:  20\n"
          ]
        }
      ],
      "source": [
        "altura = int(input(\"Introduce la altura del paralelogramo: \"))\n",
        "base = int(input(\"Introduce la base del paralelogramo: \"))\n",
        "area = base * altura\n",
        "print(f\"El area del paralelogramo es:  {area}\")"
      ]
    },
    {
      "cell_type": "markdown",
      "metadata": {
        "id": "-6TBo_HvK9q8"
      },
      "source": [
        "![ejercicio.png](./img/ejercicio.png)\n",
        "\n",
        "## Ejercicio 4\n",
        "Escribe un programa que calcule el area de un paralelogramo (base x altura). También con `input`. En este caso debe ser capaz de admitir valores reales, con decimales, para base y altura en español. (PISTA: Recuerda que tendrás que hacer uso del método replace)"
      ]
    },
    {
      "cell_type": "code",
      "execution_count": null,
      "metadata": {
        "id": "uzUIa1JqK9q8",
        "outputId": "c51f5c7c-a695-4858-a2a5-04cf852d4b02",
        "colab": {
          "base_uri": "https://localhost:8080/"
        }
      },
      "outputs": [
        {
          "output_type": "stream",
          "name": "stdout",
          "text": [
            "Introduce la altura del paralelogramo: 6\n",
            "Introduce la base del paralelogramo: 6\n",
            "El area del paralelogramo es:  36.0\n"
          ]
        }
      ],
      "source": [
        "altura = input(\"Introduce la altura del paralelogramo: \").replace(\",\",\".\")\n",
        "base = input(\"Introduce la base del paralelogramo: \").replace(\",\",\".\")\n",
        "base = float(base)\n",
        "altura = float(altura)\n",
        "area = base * altura\n",
        "print(f\"El area del paralelogramo es:  {area}\")"
      ]
    },
    {
      "cell_type": "markdown",
      "metadata": {
        "id": "5zKugi5iK9q8"
      },
      "source": [
        "![ejercicio.png](./img/ejercicio.png)\n",
        "\n",
        "## Ejercicio 5\n",
        "Complete el siguiente código para solicitar al usuario su nombre y su edad. Luego, calcule en qué año nació el usuario y muestre el resultado."
      ]
    },
    {
      "cell_type": "code",
      "execution_count": null,
      "metadata": {
        "id": "LISfTnRkK9q8",
        "outputId": "d6b3783a-831e-46d1-9625-160ecf13c33d",
        "colab": {
          "base_uri": "https://localhost:8080/"
        }
      },
      "outputs": [
        {
          "output_type": "stream",
          "name": "stdout",
          "text": [
            "¿Cuál es tu nombre? irene\n",
            "¿Cuál es tu edad? 24\n",
            "irene, naciste en el año 2000.\n"
          ]
        }
      ],
      "source": [
        "nombre = str(input(\"¿Cuál es tu nombre? \"))\n",
        "edad =int(input(\"¿Cuál es tu edad? \"))\n",
        "año_actual = 2024  # Puedes cambiarlo según el año en curso\n",
        "año_nacimiento = año_actual - edad\n",
        "\n",
        "print(f\"{nombre}, naciste en el año {año_nacimiento}.\")\n"
      ]
    }
  ],
  "metadata": {
    "kernelspec": {
      "display_name": "Curso_Online_DATA",
      "language": "python",
      "name": "python3"
    },
    "language_info": {
      "codemirror_mode": {
        "name": "ipython",
        "version": 3
      },
      "file_extension": ".py",
      "mimetype": "text/x-python",
      "name": "python",
      "nbconvert_exporter": "python",
      "pygments_lexer": "ipython3",
      "version": "3.11.5"
    },
    "orig_nbformat": 4,
    "colab": {
      "provenance": [],
      "include_colab_link": true
    }
  },
  "nbformat": 4,
  "nbformat_minor": 0
}