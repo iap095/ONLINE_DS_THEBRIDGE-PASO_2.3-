{
  "cells": [
    {
      "cell_type": "markdown",
      "metadata": {
        "id": "view-in-github",
        "colab_type": "text"
      },
      "source": [
        "<a href=\"https://colab.research.google.com/github/iap095/ONLINE_DS_THEBRIDGE-PASO_2.3-/blob/main/Parte_5_P%C3%ADldora_9_Jupyter_DS_01_02_01_N08_V09.ipynb\" target=\"_parent\"><img src=\"https://colab.research.google.com/assets/colab-badge.svg\" alt=\"Open In Colab\"/></a>"
      ]
    },
    {
      "cell_type": "markdown",
      "metadata": {
        "id": "_Kn2FXo1Q7Cq"
      },
      "source": [
        "##  Argumentos variables\n"
      ]
    },
    {
      "cell_type": "markdown",
      "metadata": {
        "id": "tigziGMWQ7Cu"
      },
      "source": [
        "### Contenidos\n"
      ]
    },
    {
      "cell_type": "markdown",
      "metadata": {
        "id": "xaHsx9hjQ7Cx"
      },
      "source": [
        "* [Introducción  ](#Introducción--)\n"
      ]
    },
    {
      "cell_type": "markdown",
      "metadata": {
        "id": "lHAxJkvTQ7Cz"
      },
      "source": [
        "### Introducción  \n",
        "[al indice](#Contenidos)  \n",
        "En los ejemplos de la sesión anterior teníamos que fijar un número concreto de argumentos para nuestras funciones, pero hay ocasiones que no tenemos seguro cuántos argumentos son. Por suerte, las funciones de Python nos aportan esa flexibilidad mediante `*`\n",
        "\n",
        "Veamos cómo implementar una función multiplicadora con numero variable de argumentos"
      ]
    },
    {
      "cell_type": "code",
      "execution_count": 1,
      "metadata": {
        "id": "StKrsPJWQ7C2",
        "outputId": "fd8205d2-6772-47bb-da1d-49a8fd7f18ae",
        "colab": {
          "base_uri": "https://localhost:8080/"
        }
      },
      "outputs": [
        {
          "output_type": "stream",
          "name": "stdout",
          "text": [
            "(2, 3, 5)\n",
            "<class 'tuple'>\n",
            "(1, 2, 67, 4, 2)\n",
            "<class 'tuple'>\n"
          ]
        }
      ],
      "source": [
        "def multiplica(*argumentos):\n",
        "  print(argumentos)\n",
        "  print(type(argumentos))\n",
        "\n",
        "multiplica(2,3,5)# como esta entre parentesis lo identifica como tupla\n",
        "multiplica(1,2,67,4,2)"
      ]
    },
    {
      "cell_type": "code",
      "source": [
        "def multiplica(*args):\n",
        "  resultado = 1 # si hay una tupla/argumento vacio me devuelve 1\n",
        "  for indice, elemento in enumerate(args):#var indice para movernos en la tupla / enumerate para el calculo\n",
        "    print(\"El siguiente elemento es\", args[indice])#vamos a acceder a los elementos de la tupla\n",
        "    resultado = resultado * elemento\n",
        "  print(\"El resultado es\", resultado)\n",
        "  return resultado\n",
        "\n",
        "multiplica(2,4,5)\n",
        "multiplica(23,12)\n",
        "multiplica()"
      ],
      "metadata": {
        "id": "WFpxMe4dR9zi",
        "outputId": "b08d7322-0d50-49f1-d8d1-40046a02a133",
        "colab": {
          "base_uri": "https://localhost:8080/"
        }
      },
      "execution_count": 7,
      "outputs": [
        {
          "output_type": "stream",
          "name": "stdout",
          "text": [
            "El siguiente elemento es 2\n",
            "El siguiente elemento es 4\n",
            "El siguiente elemento es 5\n",
            "El resultado es 40\n",
            "El siguiente elemento es 23\n",
            "El siguiente elemento es 12\n",
            "El resultado es 276\n",
            "El resultado es 1\n"
          ]
        },
        {
          "output_type": "execute_result",
          "data": {
            "text/plain": [
              "1"
            ]
          },
          "metadata": {},
          "execution_count": 7
        }
      ]
    },
    {
      "cell_type": "markdown",
      "metadata": {
        "id": "FvfRu_SkQ7C4"
      },
      "source": [
        "Ten en cuenta que `*args` es algo variable con X elementos. Como no sabemos a priori cuantos son, tendremos que recorrerlos con un `for`, y para cada argumento, aplicarle una operación. Por tanto, `*args` es un iterable, en concreto una **tupla**. Lo que le está dando la funcionalidad de \"argumentos variables\" es `*`, no `args`. Igual que ponemos `*args`, podemos poner `*argumentos`.\n",
        "\n",
        "Puedes combinar argumentos posicionales con los `*args`"
      ]
    },
    {
      "cell_type": "code",
      "execution_count": null,
      "metadata": {
        "id": "xzYEWtPhQ7C6"
      },
      "outputs": [],
      "source": [
        "# En este ejemplo, uso el ultimo argumento para dividir todo lo que habiamos multiplicado por este argumento\n",
        "def multiplica_divide(*args, div):\n",
        "  resultado = 1\n",
        "  for i in args: # para cada elemento del argumento\n",
        "    resultado = resultado * i # multiplica el resultado dado por cada argumento\n",
        "  resultado = resultado / div # el resultado anterior dividelo por el parametro dado para la division\n",
        "  return resultado\n",
        "\n",
        "multiplica_divide(2,4,5,67)#va a dar error pq no hemos especificado cuantos elementos son de arg y cual es de div\n",
        "#ejecuta todos hasta el final como args"
      ]
    },
    {
      "cell_type": "code",
      "source": [
        "#solucion 1\n",
        "def multiplica_divide(*args, div):\n",
        "  resultado = 1\n",
        "  for i in args: # para cada elemento del argumento\n",
        "    resultado = resultado * i # multiplica el resultado dado por cada argumento\n",
        "  resultado = resultado / div # el resultado anterior dividelo por el parametro dado para la division\n",
        "  return resultado\n",
        "\n",
        "multiplica_divide(2,4,5,67, div= 5)"
      ],
      "metadata": {
        "id": "SG6ih-WaUn27",
        "outputId": "f9d929bc-62ab-4cb4-84f6-ae50a125f375",
        "colab": {
          "base_uri": "https://localhost:8080/"
        }
      },
      "execution_count": 8,
      "outputs": [
        {
          "output_type": "execute_result",
          "data": {
            "text/plain": [
              "536.0"
            ]
          },
          "metadata": {},
          "execution_count": 8
        }
      ]
    },
    {
      "cell_type": "code",
      "source": [
        "def multiplica_divide(div, *args):# si cambiamos el orden de div y arg no hay problema, ya que solo toma un valor para div\n",
        "  resultado = 1\n",
        "  for i in args: # para cada elemento del argumento\n",
        "    resultado = resultado * i # multiplica el resultado dado por cada argumento\n",
        "  resultado = resultado / div # el resultado anterior dividelo por el parametro dado para la division\n",
        "  return resultado\n",
        "\n",
        "multiplica_divide(2,4,5,67)"
      ],
      "metadata": {
        "id": "Tq9WSdZrUuzl",
        "outputId": "ad333147-a64b-4ee6-9a94-8b8c39442936",
        "colab": {
          "base_uri": "https://localhost:8080/"
        }
      },
      "execution_count": 9,
      "outputs": [
        {
          "output_type": "execute_result",
          "data": {
            "text/plain": [
              "670.0"
            ]
          },
          "metadata": {},
          "execution_count": 9
        }
      ]
    },
    {
      "cell_type": "code",
      "source": [
        "def multiplica_divide(div, *args):# si cambiamos el orden de div y arg no hay problema, ya que solo toma un valor para div\n",
        "  resultado = 1\n",
        "  for i in args: # para cada elemento del argumento\n",
        "    resultado = resultado * i # multiplica el resultado dado por cada argumento\n",
        "  resultado = resultado / div # el resultado anterior dividelo por el parametro dado para la division\n",
        "  return resultado\n",
        "\n",
        "multiplica_divide(2,4,5,67, div=5)# da erro pq identifica el primer valor y el de div, es decir varios valores para una ver que solo tiene que tomar un valor"
      ],
      "metadata": {
        "id": "iH0mche8U_VH",
        "outputId": "1ce10d61-d02d-40cf-9e3b-e8aa08b26ab6",
        "colab": {
          "base_uri": "https://localhost:8080/",
          "height": 187
        }
      },
      "execution_count": 10,
      "outputs": [
        {
          "output_type": "error",
          "ename": "TypeError",
          "evalue": "multiplica_divide() got multiple values for argument 'div'",
          "traceback": [
            "\u001b[0;31m---------------------------------------------------------------------------\u001b[0m",
            "\u001b[0;31mTypeError\u001b[0m                                 Traceback (most recent call last)",
            "\u001b[0;32m<ipython-input-10-325a7d3ad0c7>\u001b[0m in \u001b[0;36m<cell line: 8>\u001b[0;34m()\u001b[0m\n\u001b[1;32m      6\u001b[0m   \u001b[0;32mreturn\u001b[0m \u001b[0mresultado\u001b[0m\u001b[0;34m\u001b[0m\u001b[0;34m\u001b[0m\u001b[0m\n\u001b[1;32m      7\u001b[0m \u001b[0;34m\u001b[0m\u001b[0m\n\u001b[0;32m----> 8\u001b[0;31m \u001b[0mmultiplica_divide\u001b[0m\u001b[0;34m(\u001b[0m\u001b[0;36m2\u001b[0m\u001b[0;34m,\u001b[0m\u001b[0;36m4\u001b[0m\u001b[0;34m,\u001b[0m\u001b[0;36m5\u001b[0m\u001b[0;34m,\u001b[0m\u001b[0;36m67\u001b[0m\u001b[0;34m,\u001b[0m \u001b[0mdiv\u001b[0m\u001b[0;34m=\u001b[0m\u001b[0;36m5\u001b[0m\u001b[0;34m)\u001b[0m\u001b[0;34m\u001b[0m\u001b[0;34m\u001b[0m\u001b[0m\n\u001b[0m",
            "\u001b[0;31mTypeError\u001b[0m: multiplica_divide() got multiple values for argument 'div'"
          ]
        }
      ]
    },
    {
      "cell_type": "markdown",
      "metadata": {
        "id": "xsQ272WuQ7C-"
      },
      "source": [
        "<table align=\"left\">\n",
        " <tr>\n",
        "     <td style=\"text-align:left\">\n",
        "         <h3>ERRORES con argumentos variables</h3>\n",
        "         \n",
        " </td></tr>\n",
        "</table>"
      ]
    },
    {
      "cell_type": "markdown",
      "metadata": {
        "id": "byh8F17cQ7C_"
      },
      "source": [
        "Declara los argumentos variables al principio, y los fijos al final para evitar errores. Además, si los combinas, tendrás que concretar cuáles son los argumentos fijos"
      ]
    },
    {
      "cell_type": "code",
      "execution_count": null,
      "metadata": {
        "id": "vnFaS6mEQ7C_"
      },
      "outputs": [],
      "source": []
    },
    {
      "cell_type": "code",
      "execution_count": null,
      "metadata": {
        "id": "XvRpGpZ_Q7DA"
      },
      "outputs": [],
      "source": []
    }
  ],
  "metadata": {
    "kernelspec": {
      "display_name": "Python 3 (ipykernel)",
      "language": "python",
      "name": "python3"
    },
    "language_info": {
      "codemirror_mode": {
        "name": "ipython",
        "version": 3
      },
      "file_extension": ".py",
      "mimetype": "text/x-python",
      "name": "python",
      "nbconvert_exporter": "python",
      "pygments_lexer": "ipython3",
      "version": "3.9.7"
    },
    "colab": {
      "provenance": [],
      "include_colab_link": true
    }
  },
  "nbformat": 4,
  "nbformat_minor": 0
}