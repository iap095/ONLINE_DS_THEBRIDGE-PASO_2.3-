{
  "cells": [
    {
      "cell_type": "markdown",
      "metadata": {
        "id": "view-in-github",
        "colab_type": "text"
      },
      "source": [
        "<a href=\"https://colab.research.google.com/github/iap095/ONLINE_DS_THEBRIDGE-PASO_2.3-/blob/main/Parte_5_P%C3%ADldora_5_Junyper_DS_01_02_01_N04_V05.ipynb\" target=\"_parent\"><img src=\"https://colab.research.google.com/assets/colab-badge.svg\" alt=\"Open In Colab\"/></a>"
      ]
    },
    {
      "cell_type": "markdown",
      "metadata": {
        "id": "TiGPvVg5Cyjg"
      },
      "source": [
        "## Colecciones Python: Sets\n"
      ]
    },
    {
      "cell_type": "markdown",
      "metadata": {
        "id": "_ZTMAywlCyjh"
      },
      "source": [
        "### Contenidos\n"
      ]
    },
    {
      "cell_type": "markdown",
      "metadata": {
        "id": "n0Mv7IyFCyji"
      },
      "source": [
        "* [Introducción](#Introducción)\n",
        "\n"
      ]
    },
    {
      "cell_type": "markdown",
      "metadata": {
        "id": "mu--5Z5JCyjj"
      },
      "source": [
        "### Introducción\n",
        "[al indice](#Contenidos)  \n",
        "\n",
        "Otra colección *bulit-in* de Python, compuesta por un conjunto de *valores*. Muy parecidos a las listas. Tienen las siguientes características:\n",
        "* **Mutables**: podemos modificarlos una vez se hayan creado\n",
        "* **No ordenado**\n",
        "* **Elementos unicos**: se compone de un conjunto de valores únicas\n",
        "\n",
        "**¿Cuándo usar sets?** Cuando estemos buscando unicidad en nuestros datos y no nos importe el orden.\n",
        "\n",
        "Te dejo por aquí [la documentación](https://docs.python.org/2/library/sets.html) para realizar consultas sobre los sets\n",
        "\n",
        "Si sintaxis es:\n",
        ">```Python\n",
        "> mi_set = {elemento1, elemento2, elemento3}\n",
        ">```\n",
        "\n",
        "Tiene una sintaxis muy parecida a la de las listas, pero en este caso no se utilizan los `{}`."
      ]
    },
    {
      "cell_type": "code",
      "execution_count": 5,
      "metadata": {
        "id": "jbOl3bg4Cyjl",
        "outputId": "1f8d481f-d549-4f29-c7f2-3b7117ec85ad",
        "colab": {
          "base_uri": "https://localhost:8080/"
        }
      },
      "outputs": [
        {
          "output_type": "stream",
          "name": "stdout",
          "text": [
            "{'rojo', 'verde', 'azul', 'naranja'}\n",
            "<class 'set'>\n",
            "4\n"
          ]
        }
      ],
      "source": [
        "colores = {\"azul\",\"rojo\",\"verde\",\"naranja\",\"azul\"}#no incluye los elementos duplicados\n",
        "print(colores)\n",
        "print(type(colores))\n",
        "print(len(colores))"
      ]
    },
    {
      "cell_type": "markdown",
      "metadata": {
        "id": "A8InvMZXCyjl"
      },
      "source": [
        "Los elementos del set son unicos, por lo que si en la declaración, o posteriormente añadiendo elementos hubiese algún duplicado, el set lo ignoraría. Es más, cuando aplicas el `len`, muestra la cantidad de valores únicos que tiene."
      ]
    },
    {
      "cell_type": "code",
      "execution_count": 6,
      "metadata": {
        "id": "WRYwqOZjCyjn",
        "outputId": "e9965a58-f363-48a4-e3e4-4579f47bb8ab",
        "colab": {
          "base_uri": "https://localhost:8080/"
        }
      },
      "outputs": [
        {
          "output_type": "stream",
          "name": "stdout",
          "text": [
            "{'azul', 'naranja', 'verde', 'rojo', 'magenta'}\n",
            "{'azul', 'violeta', 'naranja', 'verde', 'rojo', 'magenta', 'celeste'}\n",
            "{'azul', 'violeta', 'naranja', 'verde', 'rojo', 'magenta'}\n",
            "azul\n",
            "violeta\n",
            "naranja\n",
            "verde\n",
            "rojo\n",
            "magenta\n"
          ]
        }
      ],
      "source": [
        "colores.add(\"magenta\")#añadir elementos\n",
        "print(colores)\n",
        "\n",
        "#añadir una lsita\n",
        "colores.update([\"celeste\",\"violeta\"])\n",
        "print(colores)\n",
        "\n",
        "#quitar elementis\n",
        "colores.remove(\"celeste\")\n",
        "print(colores)\n",
        "\n",
        "#veamos que son iterables\n",
        "for color in colores:\n",
        "  print(color)"
      ]
    },
    {
      "cell_type": "markdown",
      "metadata": {
        "id": "uZ8ByibYCyjo"
      },
      "source": [
        "Para comprobar si dos sets tienen los mismos elementos"
      ]
    },
    {
      "cell_type": "code",
      "execution_count": 8,
      "metadata": {
        "id": "_xoYG_PXCyjo",
        "outputId": "6886bd55-05a7-4ae7-9804-d1a7565a73da",
        "colab": {
          "base_uri": "https://localhost:8080/"
        }
      },
      "outputs": [
        {
          "output_type": "execute_result",
          "data": {
            "text/plain": [
              "True"
            ]
          },
          "metadata": {},
          "execution_count": 8
        }
      ],
      "source": [
        "set1= {1,2,4,2}\n",
        "set2 = {2,4,1}\n",
        "\n",
        "set1 == set2 # solo existen los elementos 2,1,4 en set 1 como no hay orden y no coge los repetidos va a dar true"
      ]
    },
    {
      "cell_type": "code",
      "source": [
        "lista_con = [100,10,23,23,10,4,100,4,6,7]#quitar duplicados\n",
        "print(lista_con)\n",
        "#1-de lista a set\n",
        "print(set(lista_con))#funcion set\n",
        "\n",
        "#2- ya no tenemos duplicados\n",
        "#pasamos de set a lista\n",
        "print(list(set(lista_con)))#funcion list\n",
        "\n",
        "#hacemos una asignacion\n",
        "lista_con =list(set(lista_con))\n",
        "print(lista_con)"
      ],
      "metadata": {
        "id": "W-ceaxXTEwg_",
        "outputId": "c6d9b5f7-84f2-4438-d707-b1e55d76a252",
        "colab": {
          "base_uri": "https://localhost:8080/"
        }
      },
      "execution_count": 11,
      "outputs": [
        {
          "output_type": "stream",
          "name": "stdout",
          "text": [
            "[100, 10, 23, 23, 10, 4, 100, 4, 6, 7]\n",
            "{100, 4, 6, 7, 10, 23}\n",
            "[100, 4, 6, 7, 10, 23]\n",
            "[100, 4, 6, 7, 10, 23]\n"
          ]
        }
      ]
    }
  ],
  "metadata": {
    "kernelspec": {
      "display_name": "Python 3 (ipykernel)",
      "language": "python",
      "name": "python3"
    },
    "language_info": {
      "codemirror_mode": {
        "name": "ipython",
        "version": 3
      },
      "file_extension": ".py",
      "mimetype": "text/x-python",
      "name": "python",
      "nbconvert_exporter": "python",
      "pygments_lexer": "ipython3",
      "version": "3.9.7"
    },
    "colab": {
      "provenance": [],
      "include_colab_link": true
    }
  },
  "nbformat": 4,
  "nbformat_minor": 0
}