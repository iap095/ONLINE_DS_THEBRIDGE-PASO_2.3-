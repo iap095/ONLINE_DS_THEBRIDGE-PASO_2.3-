{
  "cells": [
    {
      "cell_type": "markdown",
      "metadata": {
        "id": "view-in-github",
        "colab_type": "text"
      },
      "source": [
        "<a href=\"https://colab.research.google.com/github/iap095/ONLINE_DS_THEBRIDGE-PASO_2.3-/blob/main/Copia_de_Parte_5_Ejercicio_pr%C3%A1ctico_DS_01_02_01_N13.ipynb\" target=\"_parent\"><img src=\"https://colab.research.google.com/assets/colab-badge.svg\" alt=\"Open In Colab\"/></a>"
      ]
    },
    {
      "cell_type": "markdown",
      "metadata": {
        "id": "AyOlWS2nRWxH"
      },
      "source": [
        "## PRACTICA OBLIGATORIA: COLECCIONES Y FUNCIONES"
      ]
    },
    {
      "cell_type": "markdown",
      "metadata": {
        "id": "6UOgb0KVRWxH"
      },
      "source": [
        "* La práctica obligatoria de esta unidad consiste varios ejercicios de programación libre a completar sobre Colecciones y Funciones. Descarga este notebook en tu ordenador y trabaja en local.  \n",
        "* Recuerda que debes subirla a tu repositorio personal antes de la sesión en vivo para que puntúe adecuadamente y puedas participar en dicha sesión.  \n",
        "* Recuerda también que no es necesario que esté perfecta, sólo es necesario que se vea el esfuerzo.\n",
        "* Esta práctica se resolverá en la sesión en vivo correspondiente y la solución se publicará en el repo del curso."
      ]
    },
    {
      "cell_type": "markdown",
      "metadata": {
        "id": "j3yu-tEjRWxH"
      },
      "source": [
        "### Contenidos"
      ]
    },
    {
      "cell_type": "markdown",
      "metadata": {
        "id": "kO-fLH39RWxH"
      },
      "source": [
        "## Ejercicio 1\n",
        "Eleva todos los elementos de la lista al cuadrado\n",
        "> ```ejer_2 = [1,2,3,4,5]```"
      ]
    },
    {
      "cell_type": "code",
      "execution_count": null,
      "metadata": {
        "id": "ks5l3yi7RWxH",
        "outputId": "4e3e69f3-35c9-4fcd-da6e-4d9d891212bf",
        "colab": {
          "base_uri": "https://localhost:8080/"
        }
      },
      "outputs": [
        {
          "output_type": "stream",
          "name": "stdout",
          "text": [
            "1\n",
            "4\n",
            "9\n",
            "16\n",
            "25\n"
          ]
        }
      ],
      "source": [
        "ejer_2 = [1,2,3,4,5]\n",
        "for i in ejer_2:#para cada elemento de ejer_2 (i)\n",
        "  print(i**2)#imprime el elemento i al cuadrado(**2)"
      ]
    },
    {
      "cell_type": "markdown",
      "metadata": {
        "id": "kI_Xr5oFRWxI"
      },
      "source": [
        "## Ejercicio 2\n",
        "Haz un programa que detecte todos los duplicados de un elemento en una lista:\n",
        "* Utiliza una variable duplicado para asignarle el valor del elemento del que queremos encontrar todos sus duplicados.\n",
        "* El programa debe devolver todos los índices de los elementos duplicados.\n",
        "* Aplícalo para encontrar los duplicados de \"un\", \"es\" y \"binario\" de:  \n",
        "\n",
        ">```ejer_3 = [\"Un\", \"árbol\", \"binario\", \"es\", \"una\", \"estructura\", \"de\", \"un\", \"tipo\", \"particular\", \"a\", \"veces\", \"no\", \"es\", \"ni\", \"binario\"]```\n"
      ]
    },
    {
      "cell_type": "code",
      "execution_count": null,
      "metadata": {
        "id": "cLY9WB7YRWxI",
        "outputId": "63897b7a-cbdf-48aa-bf99-dc16abeb8135",
        "colab": {
          "base_uri": "https://localhost:8080/"
        }
      },
      "outputs": [
        {
          "output_type": "stream",
          "name": "stdout",
          "text": [
            "un está en la posición [0, 7]\n",
            "es está en la posición [3, 13]\n",
            "binario está en la posición [2, 15]\n"
          ]
        }
      ],
      "source": [
        "ejer_3 = [\"un\", \"árbol\", \"binario\", \"es\", \"una\", \"estructura\", \"de\", \"un\", \"tipo\", \"particular\", \"a\", \"veces\", \"no\", \"es\", \"ni\", \"binario\"]\n",
        "duplicado_1 = \"un\"\n",
        "duplicado_2 =\"es\"\n",
        "duplicado_3 = \"binario\"\n",
        "# 1. hago un FOR para tomar los elemento de una lista y analizar si cumplen la condicion de repetirse en este caso\n",
        "# 2. creo una NUEVA LISTA, no vacía(por eso i for i) donde si el elemento de la lista inicial cumple la condicion entonces entra en esta nueva lista\n",
        "# 3. ENUMERATE me da la posicion dentro de la lista ejer_3, creo otra variable (palabra que es cada elemento de ejer_3)\n",
        "# 4. el IF sobre la nueva lista me saca en pantalla las posiciones de los elementos que están duplicados\n",
        "\n",
        "for duplicado in [duplicado_1, duplicado_2, duplicado_3]: # para los elementos de la lista dada por las variables duplicados:\n",
        "  posicion = [i for i, palabra in enumerate(ejer_3) if palabra == duplicado] #creo una nueva lista de lementos i que la cocuparan los elementos i de la lista ejer_3 si cumplen la condicion de que sean igual a la variable duplicado, la cual corresponde a cada elemento de la lista creada antes [du_2, dup_3..]\n",
        "  if posicion: #si se cumple la condicion para estar dentro de la nueva lista(posicion)entonces hace el if\n",
        "    print(f\"{duplicado} está en la posición {posicion}\")\n"
      ]
    },
    {
      "cell_type": "markdown",
      "metadata": {
        "id": "3WrBd5QaRWxI"
      },
      "source": [
        "## Ejercicio 3\n",
        "1. ¿Cuántas veces se repite el 3 en la siguiente tupla?\n",
        "2. Crea una tupla nueva con los elementos desde la posicion 5 a la 10.\n",
        "3. ¿Cuántos elementos tiene la tupla `ejer_3`?\n",
        "> ```ejer_9 = (3, 20, 3, 47, 19, 3, 29, 45, 67, 78, 90, 3, 3, 5, 2, 4, 7, 9, 4, 2, 4, 3, 3, 4, 6, 7)```"
      ]
    },
    {
      "cell_type": "code",
      "execution_count": null,
      "metadata": {
        "id": "bkv_R5LYRWxI",
        "outputId": "bd3de37a-a1b2-4dba-9a63-42d28f80dfe9",
        "colab": {
          "base_uri": "https://localhost:8080/"
        }
      },
      "outputs": [
        {
          "output_type": "stream",
          "name": "stdout",
          "text": [
            "7\n",
            "(19, 3, 29, 45, 67, 78)\n",
            "26\n"
          ]
        }
      ],
      "source": [
        "ejer_9 = (3, 20, 3, 47, 19, 3, 29, 45, 67, 78, 90, 3, 3, 5, 2, 4, 7, 9, 4, 2, 4, 3, 3, 4, 6, 7)\n",
        "#1\n",
        "print(ejer_9.count(3))#.count me permite saber las veces que se repite un valor en la tupla\n",
        "#2\n",
        "print(ejer_9[4:10])# ponemos 4 ya que como se empieza a contar desde 0 - hasta el 10\n",
        "#3\n",
        "print(len(ejer_9))#len nos da la longitud de la tupla(numero de elementos)"
      ]
    },
    {
      "cell_type": "markdown",
      "metadata": {
        "id": "6g8Y54AeRWxI"
      },
      "source": [
        "## Ejercicio 4\n",
        "Comprueba si el numero 60 esta en la tupla del ejercicio 3"
      ]
    },
    {
      "cell_type": "code",
      "execution_count": null,
      "metadata": {
        "id": "F8VTEZonRWxI",
        "outputId": "afbbbc25-18d2-45ee-d3a2-9dd4011fef97",
        "colab": {
          "base_uri": "https://localhost:8080/"
        }
      },
      "outputs": [
        {
          "output_type": "stream",
          "name": "stdout",
          "text": [
            "0\n"
          ]
        }
      ],
      "source": [
        "print(ejer_9.count(60))#si le pedimos que nos cuente el numero de veces que aparece 60 ya sabemos si está o no (0)"
      ]
    },
    {
      "cell_type": "markdown",
      "metadata": {
        "id": "y0fg-ZA6RWxI"
      },
      "source": [
        "## Ejercicio 5\n",
        "1. Convierte la tupla del ejercicio 3 en una lista\n",
        "2. Convierte la tupla del ejercicio 3 en un set\n",
        "3. Convierte la tupla del ejercicio 3 en un diccionario. Usa también los indices"
      ]
    },
    {
      "cell_type": "code",
      "execution_count": null,
      "metadata": {
        "id": "_O5hXr01RWxI",
        "outputId": "59029701-3d56-44e8-cd82-6ecf5122eb8d",
        "colab": {
          "base_uri": "https://localhost:8080/"
        }
      },
      "outputs": [
        {
          "output_type": "stream",
          "name": "stdout",
          "text": [
            "[3, 20, 3, 47, 19, 3, 29, 45, 67, 78, 90, 3, 3, 5, 2, 4, 7, 9, 4, 2, 4, 3, 3, 4, 6, 7]\n",
            "{2, 3, 67, 5, 4, 7, 6, 9, 45, 78, 47, 19, 20, 90, 29}\n",
            "{0: 3, 1: 20, 2: 3, 3: 47, 4: 19, 5: 3, 6: 29, 7: 45, 8: 67, 9: 78, 10: 90, 11: 3, 12: 3, 13: 5, 14: 2, 15: 4, 16: 7, 17: 9, 18: 4, 19: 2, 20: 4, 21: 3, 22: 3, 23: 4, 24: 6, 25: 7}\n"
          ]
        }
      ],
      "source": [
        "tupla_lista = list(ejer_9)# pasa la tupla a lista, esta nueva var se llama tupla_lista\n",
        "print(tupla_lista)\n",
        "\n",
        "tupla_set = set(ejer_9)\n",
        "print(tupla_set)\n",
        "\n",
        "tupla_dic = dict(enumerate(ejer_9))#siempre que quiera ver los indices uso enumerate, primero la convierto a diccionario y luego veo los indices\n",
        "print(tupla_dic)"
      ]
    },
    {
      "cell_type": "markdown",
      "metadata": {
        "id": "eOdWWbxvRWxJ"
      },
      "source": [
        "## Ejercicio 6\n",
        "Multiplica todos los valores del diccionario\n",
        "> ```ejer_6 = {1: 11, 2: 22, 3: 33, 4: 44, 5: 55}```"
      ]
    },
    {
      "cell_type": "code",
      "execution_count": null,
      "metadata": {
        "id": "KcuByovKRWxJ",
        "outputId": "94dea709-5844-4049-bd4a-58e3d4ea43dd",
        "colab": {
          "base_uri": "https://localhost:8080/"
        }
      },
      "outputs": [
        {
          "output_type": "stream",
          "name": "stdout",
          "text": [
            "19326120\n"
          ]
        }
      ],
      "source": [
        "ejer_6 = {1: 11, 2: 22, 3: 33, 4: 44, 5: 55}\n",
        "\n",
        "producto = 1#ponemos el valor inicial del producto fuera del for, ya que si lo ponemos denro se reinicia con cada iteracion del bucle a 1\n",
        "\n",
        "for valor in ejer_6.values():#hacemos un for donde cada valor del diccionario haga la operacion siguiente\n",
        "#values nos permite coger los valores del diccionario\n",
        "  producto = valor * producto\n",
        "print(producto)\n"
      ]
    },
    {
      "cell_type": "markdown",
      "metadata": {
        "id": "W7TUSaKRRWxJ"
      },
      "source": [
        "## Ejercicio 7\n",
        "\n",
        "1. Crea un diccionario que describa un libro, con los siguientes campos o claves: \"titulo\",\"autor\",\"idioma original\",\"año de publicación\".\n",
        "2. Crea un a lista, llamada librería.\n",
        "3. Añade cuatro libros a tu elección a la librería."
      ]
    },
    {
      "cell_type": "code",
      "execution_count": 3,
      "metadata": {
        "vscode": {
          "languageId": "plaintext"
        },
        "id": "d-IMRvxRRWxJ",
        "outputId": "dc4d6b6d-4910-4f73-d038-d888346e4e9f",
        "colab": {
          "base_uri": "https://localhost:8080/"
        }
      },
      "outputs": [
        {
          "output_type": "stream",
          "name": "stdout",
          "text": [
            "{'titulo': 'La sombra del viento', 'autor': 'Carlos Ruiz Zafón', 'idioma original': 'Español', 'año de publicación': '2001'}\n",
            "[{'titulo': 'La sombra del viento', 'autor': 'Carlos Ruiz Zafón', 'idioma original': 'Español', 'año de publicación': '2001'}, {'titulo': 'Odisea', 'autor': 'Homero', 'idioma original': 'Griego Antiguo', 'año de publicación': 's. VIII a.c.'}, {'titulo': 'Diez negritos', 'autor': 'Agatha Christie', 'idioma original': 'Inglésl', 'año de publicación': '1939'}, {'titulo': 'Alicia en el país de las maravillas', 'autor': 'Lewis Carrol', 'idioma original': 'Inglés', 'año de publicación': '1965'}, {'titulo': 'El Quijote', 'autor': 'Cervantes', 'idioma original': 'Español medio', 'año de publicación': '1605'}]\n"
          ]
        }
      ],
      "source": [
        "libros = {\n",
        "    \"titulo\" : \"La sombra del viento\",\n",
        "    \"autor\" : \"Carlos Ruiz Zafón\",\n",
        "    \"idioma original\" : \"Español\",\n",
        "    \"año de publicación\" : \"2001\"\n",
        "}\n",
        "print(libros)\n",
        "libreria = [libros, {\n",
        "    \"titulo\" : \"Odisea\",\n",
        "    \"autor\" : \"Homero\",\n",
        "    \"idioma original\" : \"Griego Antiguo\",\n",
        "    \"año de publicación\" : \"s. VIII a.c.\"\n",
        "},\n",
        " {\n",
        "    \"titulo\" : \"Diez negritos\",\n",
        "    \"autor\" : \"Agatha Christie\",\n",
        "    \"idioma original\" : \"Inglésl\",\n",
        "    \"año de publicación\" : \"1939\"\n",
        "},\n",
        " {\n",
        "    \"titulo\" : \"Alicia en el país de las maravillas\",\n",
        "    \"autor\" : \"Lewis Carrol\",\n",
        "    \"idioma original\" : \"Inglés\",\n",
        "    \"año de publicación\" : \"1965\"\n",
        "},\n",
        " {\n",
        "    \"titulo\" : \"El Quijote\",\n",
        "    \"autor\" : \"Cervantes\",\n",
        "    \"idioma original\" : \"Español medio\",\n",
        "    \"año de publicación\" : \"1605\"\n",
        "}\n",
        "            ]#creo una lista vacía y la lleno con la lista anterior (libros) y los nuevos diccionarios\n",
        "print(libreria)\n"
      ]
    },
    {
      "cell_type": "markdown",
      "metadata": {
        "id": "glMoedjYRWxJ"
      },
      "source": [
        "## Ejercicio 8\n",
        "Modifica los valores del idioma de todos los libros del ejercicio anterior para que sea \"esperanto\"\n"
      ]
    },
    {
      "cell_type": "code",
      "execution_count": 8,
      "metadata": {
        "id": "veNdC-uwRWxJ",
        "outputId": "adfbd566-16b8-4246-e8cb-2c266966f647",
        "colab": {
          "base_uri": "https://localhost:8080/"
        }
      },
      "outputs": [
        {
          "output_type": "stream",
          "name": "stdout",
          "text": [
            "[{'titulo': 'La sombra del viento', 'autor': 'Carlos Ruiz Zafón', 'idioma original': 'esperanto', 'año de publicación': '2001'}, {'titulo': 'Odisea', 'autor': 'Homero', 'idioma original': 'esperanto', 'año de publicación': 's. VIII a.c.'}, {'titulo': 'Diez negritos', 'autor': 'Agatha Christie', 'idioma original': 'esperanto', 'año de publicación': '1939'}, {'titulo': 'Alicia en el país de las maravillas', 'autor': 'Lewis Carrol', 'idioma original': 'esperanto', 'año de publicación': '1965'}, {'titulo': 'El Quijote', 'autor': 'Cervantes', 'idioma original': 'esperanto', 'año de publicación': '1605'}]\n"
          ]
        }
      ],
      "source": [
        "for libro in libreria:\n",
        "  libro[\"idioma original\"]= \"esperanto\"\n",
        "print(libreria)#si pongo libro solo me sale el ultimo que se me ha modificado, tengo que llamar a la variable completa"
      ]
    },
    {
      "cell_type": "markdown",
      "metadata": {
        "id": "DRCJG04KRWxJ"
      },
      "source": [
        "## Ejercicio 9\n",
        "1. Escribe un programa que dada una variable titulo busque los libros que hay en la librería con ese título. Si no se encuentra debe devolver el mensaje `Ese no lo tengo, ¿mola?`\n",
        "2. Pruena que el programa con uno de tus libros y con otro que no contenga tu librería."
      ]
    },
    {
      "cell_type": "code",
      "execution_count": null,
      "metadata": {
        "id": "eWHdJi9BRWxJ"
      },
      "outputs": [],
      "source": [
        "libros = [\"Odisea\",\"Don Quijote de la Mancha\",\"El código Da Vinci\",\"Alicia en el país de las maravillas\",\"Diez negritos\"]\n",
        "pregunta = input(\"Dime qué libro buscas\")\n",
        "\n",
        "if pregunta in libros:\n",
        "  print(\"Lo tengo\")\n",
        "else:\n",
        "  print(\"No lo tengo, ¿mola?\")\n",
        "\n"
      ]
    },
    {
      "cell_type": "markdown",
      "metadata": {
        "id": "17YOpYuFRWxJ"
      },
      "source": [
        "## Ejercicio 10\n",
        "Convierte el programa del ejercicio 2 en una función al que se le pase el valor a buscar como un argumento posicional"
      ]
    },
    {
      "cell_type": "code",
      "execution_count": 16,
      "metadata": {
        "id": "xbj0LgvnRWxJ",
        "colab": {
          "base_uri": "https://localhost:8080/"
        },
        "outputId": "20b0e610-a9e1-4117-abef-d75c9f732027"
      },
      "outputs": [
        {
          "output_type": "stream",
          "name": "stdout",
          "text": [
            "¿Qué elemento quieres saber de 0 a 15: ?15\n",
            "El elemento 15 es binario \n"
          ]
        }
      ],
      "source": [
        "ejer_3 = [\"Un\", \"árbol\", \"binario\", \"es\", \"una\", \"estructura\", \"de\", \"un\", \"tipo\", \"particular\", \"a\", \"veces\", \"no\", \"es\", \"ni\", \"binario\"]\n",
        "elemento = int(input(\"¿Qué elemento quieres saber de 0 a 15: ?\".format(len(ejer_3))))\n",
        "if 0<= elemento <= (len(ejer_3)):\n",
        "  print(f\"El elemento {elemento} es {ejer_3[elemento]} \")\n",
        "else:\n",
        "  print(f\"Introduce un número dentro del rango\")\n"
      ]
    },
    {
      "cell_type": "markdown",
      "metadata": {
        "id": "xZ-sWJxPRWxJ"
      },
      "source": [
        "## Ejercicio 11\n",
        "Convierte el programa del ejercicio 9 en una función al que se le pasen como argumentos la librería, posicional, y el título, argumento keyword con valor \"ninguno\", por defecto."
      ]
    },
    {
      "cell_type": "code",
      "execution_count": 33,
      "metadata": {
        "id": "4-JrsMdNRWxK"
      },
      "outputs": [],
      "source": [
        "libros = [\"Odisea\",\"Don Quijote de la Mancha\",\"El código Da Vinci\",\"Alicia en el país de las maravillas\",\"Diez negritos\"]\n",
        "def buscar_libro(libros, titulo = \"ninguno\" ):#defino una funcion con la variable libros, donde voy a buscar si tengo o no el libro y titulo que es lo que voy a pedir\n",
        "\n",
        "  if libro in libros:\n",
        "    return \"Lo tengo\"\n",
        "  else:\n",
        "    return titulo"
      ]
    },
    {
      "cell_type": "code",
      "source": [
        "titulo_libro = input(\"Introduce el título del libro\")\n",
        "buscar_libro(libros, titulo_libro)"
      ],
      "metadata": {
        "colab": {
          "base_uri": "https://localhost:8080/",
          "height": 55
        },
        "id": "qhk-BBPsgPre",
        "outputId": "3f5aa7d5-3426-44c3-be46-abfefa10ccbb"
      },
      "execution_count": 28,
      "outputs": [
        {
          "name": "stdout",
          "output_type": "stream",
          "text": [
            "Introduce el título del libro \n"
          ]
        },
        {
          "output_type": "execute_result",
          "data": {
            "text/plain": [
              "'ninguno'"
            ],
            "application/vnd.google.colaboratory.intrinsic+json": {
              "type": "string"
            }
          },
          "metadata": {},
          "execution_count": 28
        }
      ]
    },
    {
      "cell_type": "markdown",
      "metadata": {
        "id": "FtJir95QRWxK"
      },
      "source": [
        "## Ejercicio 12\n",
        "Solicitar al usuario que ingrese su dirección email. Imprimir un mensaje indicando si la dirección es válida o no, valiéndose de una función para decidirlo. Una dirección se considerará válida si contiene el símbolo \"@\"."
      ]
    },
    {
      "cell_type": "code",
      "source": [
        "def direccion_email(direc):\n",
        "  if \"@\" in direc:\n",
        "   return \"La dirección es correcta\"\n",
        "  else:\n",
        "   return \"La dirección no es valida\"\n",
        ""
      ],
      "metadata": {
        "id": "tAcfEvHrjP62"
      },
      "execution_count": 42,
      "outputs": []
    },
    {
      "cell_type": "code",
      "execution_count": 43,
      "metadata": {
        "id": "sk852IZ8RWxK",
        "colab": {
          "base_uri": "https://localhost:8080/",
          "height": 55
        },
        "outputId": "ac841804-ddec-4517-9f5a-45f03aa6d6a4"
      },
      "outputs": [
        {
          "name": "stdout",
          "output_type": "stream",
          "text": [
            "Introduzca su dirección de email: efewrf\n"
          ]
        },
        {
          "output_type": "execute_result",
          "data": {
            "text/plain": [
              "'La dirección no es valida'"
            ],
            "application/vnd.google.colaboratory.intrinsic+json": {
              "type": "string"
            }
          },
          "metadata": {},
          "execution_count": 43
        }
      ],
      "source": [
        "direc = input(\"Introduzca su dirección de email: \")\n",
        "direccion_email(direc)\n"
      ]
    },
    {
      "cell_type": "markdown",
      "metadata": {
        "id": "Kw1MWBwBRWxK"
      },
      "source": [
        "## Ejercicio 13\n",
        "Escribe una función que compruebe si un DNI es válido, devolviendo `True` en caso afirmativo.  \n",
        "En primer lugar, el DNI debe tener entre 7 y 8 dígitos numéricos.  \n",
        "Para saber si la letra del DNI es correcta puedes utilizar el siguiente fragmento de código:\n",
        ">```Python\n",
        ">DNI= 55555555\n",
        ">palabra='TRWAGMYFPDXBNJZSQVHLCKE'\n",
        ">print('La letra del DNI es: ', palabra[DNI%23])\n",
        ">````\n"
      ]
    },
    {
      "cell_type": "code",
      "execution_count": 49,
      "metadata": {
        "id": "F5Z9rSHqRWxK"
      },
      "outputs": [],
      "source": [
        "def DNI(dni):\n",
        "  if 7<= len(dni) <=8:\n",
        "    return True\n",
        "  else:\n",
        "    return False\n",
        "  try:\n",
        "    numero = int(dni[: -1])\n",
        "    letra = dni[-1] #posicion que debe ocupar la letra y el numero del dni\n",
        "  except ValueError:#ejecuta siempre que se cumplan las condiciones dads, en otro caso es falso ya que hay un erro en los valores dados\n",
        "    return False\n",
        "  palabra='TRWAGMYFPDXBNJZSQVHLCKE'\n",
        "  return letra == palabra[numero % 23]"
      ]
    },
    {
      "cell_type": "code",
      "source": [
        "dni_numero = input(\"Dime tu numero de DNI: \")\n",
        "\n",
        "DNI(dni_numero)"
      ],
      "metadata": {
        "colab": {
          "base_uri": "https://localhost:8080/"
        },
        "id": "wx5tZ8mYoig3",
        "outputId": "0334f9db-6374-4492-ca0d-fb2ae8cd3aa6"
      },
      "execution_count": 51,
      "outputs": [
        {
          "name": "stdout",
          "output_type": "stream",
          "text": [
            "Dime tu numero de DNI: 55555555p\n"
          ]
        },
        {
          "output_type": "execute_result",
          "data": {
            "text/plain": [
              "False"
            ]
          },
          "metadata": {},
          "execution_count": 51
        }
      ]
    }
  ],
  "metadata": {
    "language_info": {
      "name": "python"
    },
    "orig_nbformat": 4,
    "colab": {
      "provenance": [],
      "include_colab_link": true
    },
    "kernelspec": {
      "name": "python3",
      "display_name": "Python 3"
    }
  },
  "nbformat": 4,
  "nbformat_minor": 0
}