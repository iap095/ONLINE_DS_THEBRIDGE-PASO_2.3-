{
  "cells": [
    {
      "cell_type": "markdown",
      "metadata": {
        "id": "BNCAebJANPxq"
      },
      "source": [
        "![TheBridge_logo_RGB_color.jpg](attachment:TheBridge_logo_RGB_color.jpg)"
      ]
    },
    {
      "cell_type": "markdown",
      "metadata": {
        "id": "A9eDZvZaNPxs"
      },
      "source": [
        "![imagen](./img/ejercicios.png)"
      ]
    },
    {
      "cell_type": "markdown",
      "metadata": {
        "id": "59zPhBxXNPxs"
      },
      "source": [
        "## PRACTICA OBLIGATORIA: PYTHON"
      ]
    },
    {
      "cell_type": "markdown",
      "metadata": {
        "id": "mv2kb1GMNPxs"
      },
      "source": [
        "* La práctica obligatoria de esta unidad consiste en dos ejercicios de programación libre a completar.   \n",
        "* Recuerda que debes subirla a tu repositorio personal antes de la sesión en vivo para que puntúe adecuadamente.  \n",
        "* Recuerda también que no es necesario que esté perfecta, sólo es necesario que se vea el esfuerzo.\n",
        "* Esta práctica se resolverá en la sesión en vivo correspondiente y la solución se publicará en el repo del curso."
      ]
    },
    {
      "cell_type": "markdown",
      "metadata": {
        "id": "Kl9JzST2NPxt"
      },
      "source": [
        "![ejercicio.png](./img/ejercicio.png)\n",
        "## PARTE I\n",
        "\n",
        "En este ejercicio debes simular un chatbot al que le haremos pedidos de pizzas.\n",
        "\n",
        "1. El chatbot tiene que saludar con un: \"Buenas tardes, bienvenido al servicio de pedido online, el precio de nuestra pizzas es de 8,95 para la familiar o de 9,90 para la mediana ¿Cuántas pizzas  familiares desea?\"\n",
        "2. El ususario tiene que introducir un número de pizzas en una variable llamada 'pizz_familiar'\n",
        "3. El chatbot debe responder: \"Estupendo, ¿cuántas pizzas medianas desea?\" y guardar el número de pizzas medianas en otra variable 'pizz_mediana'\n",
        "4. Además debe responder del chatbot: \"Estupendo, se están preparando 'pizz' pizzas familiares y 'pizz_mediana' pizzas medianas. Digame su dirección\"\n",
        "5. El ususario tiene que introducir una direccion en formato String en otra variable llamada 'direcc'\n",
        "6. El programa debe calcular el monto total\n",
        "7. Respuesta final del chatbot: \"Le mandaremos las '(número total de pizzas)' pizzas a la dirección 'direcc'. Serán <precio total a pagar en euros>. Muchas gracias por su pedido.\"\n",
        "         \n"
      ]
    },
    {
      "cell_type": "code",
      "execution_count": 9,
      "metadata": {
        "id": "qkKibyt-NPxt",
        "colab": {
          "base_uri": "https://localhost:8080/"
        },
        "outputId": "e2828fe7-aa97-4640-9460-20d25de1d9d3"
      },
      "outputs": [
        {
          "output_type": "stream",
          "name": "stdout",
          "text": [
            "Buenas tardes, bienvenido al servicio de pedido online, el precio de nuestra pizzas es de 8.95 para la familiar o de 9.90 para la mediana ¿Cuántas pizzas familiares desea? 7\n",
            "Estupendo, ¿cuántas pizzas medianas desea? 8\n",
            "Estupendo, se están preparando 7 pizzas familiares y 8 pizzas medianas. Digame su dirección Calle SAn Miguel, 12\n",
            "Dirección de entrega: Calle SAn Miguel, 12\n",
            "Le mandaremos las 15 pizzas a la dirección Calle SAn Miguel, 12. Serán 141.85 euros . Muchas gracias por su pedido.\n"
          ]
        }
      ],
      "source": [
        "pizz_familiar = int(input(\"Buenas tardes, bienvenido al servicio de pedido online, el precio de nuestra pizzas es de 8.95 para la familiar o de 9.90 para la mediana ¿Cuántas pizzas familiares desea? \"))\n",
        "pizz_mediana = int(input(\"Estupendo, ¿cuántas pizzas medianas desea? \"))\n",
        "direcc = input(f\"Estupendo, se están preparando {pizz_familiar} pizzas familiares y {pizz_mediana} pizzas medianas. Digame su dirección \")\n",
        "print(\"Dirección de entrega:\", direcc)\n",
        "total = pizz_familiar + pizz_mediana\n",
        "precio = (8.95 * pizz_familiar) + (9.90 * pizz_mediana)\n",
        "print(f\"Le mandaremos las {total} pizzas a la dirección {direcc}. Serán {precio} euros . Muchas gracias por su pedido.\")\n"
      ]
    },
    {
      "cell_type": "markdown",
      "metadata": {
        "id": "f0oqoGDGNPxt"
      },
      "source": [
        "![ejercicio.png](./img/ejercicio.png)\n",
        "## Parte II\n",
        "\n",
        "Crea un programa que realice las siguientes acciones:\n",
        "\n",
        "1. Solicite al usuario que introduzca 3 números enteros separados por comas (por ejemplo: 1,2,3).\n",
        "2. Convierta esa entrada en una lista de números enteros.\n",
        "3. Utilizando funciones built-in, determine el número máximo, el número mínimo y la suma total de los números introducidos.\n",
        "4. Determine la verdad o falsedad de la siguiente afirmación: \"El número máximo menos el número mínimo es igual a la suma total dividida por 5\".\n",
        "5. Muestre los resultados utilizando print."
      ]
    },
    {
      "cell_type": "code",
      "execution_count": 26,
      "metadata": {
        "id": "rAlpWiQ9NPxt",
        "colab": {
          "base_uri": "https://localhost:8080/"
        },
        "outputId": "d71a1be0-8a50-4d4e-c983-5df52d5cb940"
      },
      "outputs": [
        {
          "output_type": "stream",
          "name": "stdout",
          "text": [
            "Introduzca 3 números enteros separados por comas: 4,7,9\n",
            "[4, 7, 9]\n",
            "El número max de la lista es: 9\n",
            "El número mim de la lista es: 4\n",
            "La suma de los números es:  20\n",
            "La suma total dividida por 5 es: 4.0\n",
            "El número máximo menos el número mínimo es igual a: 5\n",
            "Falso\n"
          ]
        }
      ],
      "source": [
        "numero = input(\"Introduzca 3 números enteros separados por comas: \")\n",
        "numero_entero = [int(num) for num in numero.split(\",\")]#al poner num coge los elemento del string, si ponemos el nombre de la variable (numero) coge todo el sting y da fallo\n",
        "#for num in permite crear una nueva lista y .split indica la forma de separar los elementos de la misma: TOMA EL VALOR DE CADA ELEMENTO DE LA LISTA(num) Y SEPARALO(.split)POR COMAS\n",
        "print(numero_entero)\n",
        "maximo = max(numero_entero)\n",
        "minimo = min(numero_entero)\n",
        "print(f\"El número max de la lista es: {maximo}\")\n",
        "print(f\"El número mim de la lista es: {minimo}\")\n",
        "print(\"La suma de los números es: \", sum(numero_entero))\n",
        "\n",
        "division = sum(numero_entero)/5\n",
        "print(f\"La suma total dividida por 5 es: {division}\")\n",
        "resta = maximo - minimo\n",
        "print(f\"El número máximo menos el número mínimo es igual a: {resta}\")\n",
        "\n",
        "if resta == division:\n",
        "  print(\"Verdadero\")\n",
        "else:\n",
        "  print(\"Falso\")\n",
        "\n",
        "\n"
      ]
    }
  ],
  "metadata": {
    "kernelspec": {
      "display_name": "Curso_Online_DATA",
      "language": "python",
      "name": "python3"
    },
    "language_info": {
      "codemirror_mode": {
        "name": "ipython",
        "version": 3
      },
      "file_extension": ".py",
      "mimetype": "text/x-python",
      "name": "python",
      "nbconvert_exporter": "python",
      "pygments_lexer": "ipython3",
      "version": "3.11.5"
    },
    "orig_nbformat": 4,
    "colab": {
      "provenance": []
    }
  },
  "nbformat": 4,
  "nbformat_minor": 0
}