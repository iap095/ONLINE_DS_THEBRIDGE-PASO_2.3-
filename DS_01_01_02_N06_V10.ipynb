{
  "cells": [
    {
      "cell_type": "markdown",
      "metadata": {
        "id": "view-in-github",
        "colab_type": "text"
      },
      "source": [
        "<a href=\"https://colab.research.google.com/github/iap095/ONLINE_DS_THEBRIDGE-PASO_2.3-/blob/main/DS_01_01_02_N06_V10.ipynb\" target=\"_parent\"><img src=\"https://colab.research.google.com/assets/colab-badge.svg\" alt=\"Open In Colab\"/></a>"
      ]
    },
    {
      "cell_type": "markdown",
      "metadata": {
        "id": "QePEu9pUudAl"
      },
      "source": [
        "<img src = \"./img/TheBridge_logo_RGB_color.jpg\" width = 500>\n",
        "<img src = \"./img/python.jpg\" width = 500>"
      ]
    },
    {
      "cell_type": "markdown",
      "metadata": {
        "id": "BxeHenN0udAr"
      },
      "source": [
        "# Python Basics I"
      ]
    },
    {
      "cell_type": "markdown",
      "metadata": {
        "id": "8uu2PE8NudAu"
      },
      "source": [
        "## Contenidos"
      ]
    },
    {
      "cell_type": "markdown",
      "metadata": {
        "id": "zO54mo2uudAx"
      },
      "source": [
        "* [Operaciones con booleanos\n",
        "](#Operaciones-con-booleanos\n",
        ")\n",
        "\n"
      ]
    },
    {
      "cell_type": "markdown",
      "metadata": {
        "id": "oN_1GoHludAz"
      },
      "source": [
        "## Operaciones con booleanos\n",
        "[al indice](#Contenidos)  \n",
        "\n",
        "Todas las operaciones que realizabamos en el apartado anterior devolvían un tipo de dato concreto: un booleano. `True` o `False`. Pero ¿cómo harías si se tienen que cumplir 3 condiciones, o solo una de esas tres, o que no se cumplan 5 condiciones?\n",
        "Para este tipo de operaciones recurrimos al [*Álgebra de Boole*](https://es.wikipedia.org/wiki/%C3%81lgebra_de_Boole#:~:text=El%20%C3%A1lgebra%20de%20Boole%2C%20tambi%C3%A9n,que%20esquematiza%20las%20operaciones%20l%C3%B3gicas.). Se trata de una rama del álgebra que se utiliza en electrónica, pero que tiene un sin fin de aplicaciones, no solo téncicas, sino aplicables a la vida cotidiana. Estas matemáticas pueden llegar a ser muy complejas aún utilizando ñunicamente dos valores: `True` y `False`. Las operaciones más comunes son **AND, OR, NOR**.\n",
        "En las siguientes tablas tienes todos los posibles resultados de las puertas AND, OR, NOR, dependiendo de sus inputs.\n",
        "\n",
        "![imagen](./img/puertas_logicas.png)\n",
        "\n",
        "Puede parecer complejo pero a efectos prácticos, y sin meternos con otro tipo de puertas lógicas, te recomiendo seguir estas reglas:\n",
        "* **AND**: Se tienen que cumplir ambas condiciones para que sea un `True`\n",
        "* **OR**: Basta que se cumpla al menos una condicion para que sea `True`\n",
        "* **NOR**: Lo contrario de lo que haya\n",
        "\n",
        "Veamos un ejemplo práctico para aclarar estos conceptos. Imaginemos que queremos comprar un ordenador, pero nos cuesta decidirnos. Eso sí, tenemos claras las siguentes condiciones a la hora de elegir\n",
        "* La RAM me vale que tenga 16, 32 o 64 GB\n",
        "* En cuanto al procesador y disco duro, la combinación que mejor me viene es un i3 con 500GB de disco.\n",
        "* Precio: que no pase de los 800 €"
      ]
    },
    {
      "cell_type": "code",
      "execution_count": 1,
      "metadata": {
        "id": "uvSIXrUfudA3"
      },
      "outputs": [],
      "source": [
        "# Primer ordenador\n",
        "ram1 = 32\n",
        "process1 = \"i5\"\n",
        "disco1 = 500\n",
        "precio1 = 850\n",
        "\n",
        "# Segundo ordenador\n",
        "ram2 = 8\n",
        "process2 = \"i5\"\n",
        "disco2 = 500\n",
        "precio2 = 600\n",
        "\n",
        "# Tercer ordenador\n",
        "ram3 = 32\n",
        "process3 = \"i3\"\n",
        "disco3 = 500\n",
        "precio3 = 780"
      ]
    },
    {
      "cell_type": "markdown",
      "metadata": {
        "id": "j_nSYwB4udA6"
      },
      "source": [
        "Veamos cómo implemento esto mediante operaciones booleanas"
      ]
    },
    {
      "cell_type": "code",
      "execution_count": null,
      "metadata": {
        "id": "EzrpmP1_udA8"
      },
      "outputs": [],
      "source": [
        "# Primero, calculamos el valor de estas condiciones por separado\n",
        "# para el primer ordenador\n"
      ]
    },
    {
      "cell_type": "code",
      "execution_count": 2,
      "metadata": {
        "id": "J5fvSMUvudA-",
        "outputId": "0aaadd76-bcb6-4d9a-dd46-a5e906d432b6",
        "colab": {
          "base_uri": "https://localhost:8080/"
        }
      },
      "outputs": [
        {
          "output_type": "stream",
          "name": "stdout",
          "text": [
            "False False False True\n"
          ]
        }
      ],
      "source": [
        "cond_ram1 = (ram1 == 16 or ram1 == 32 or ram1 == 64) #OR -> me vale con cualquier resultado\n",
        "\n",
        "cond_proces1 = (process1 == \"i3\" and disco1 == 500) #se tienen que cumplir las dos condicienes\n",
        "\n",
        "cond_prec1 = (precio1 < 800)\n",
        "\n",
        "cond_total1 = cond_ram1 and cond_proces1 and cond_prec1\n",
        "\n",
        "print(cond_total1, cond_prec1, cond_proces1, cond_ram1)# nos muestra si nos vale el ordenador uno y cual de las condiciones no cumple\n"
      ]
    },
    {
      "cell_type": "markdown",
      "metadata": {
        "id": "GJ1O7d6hudA_"
      },
      "source": [
        "El primer ordenador cumple el requisito de ram, pero no los de precio y procesador/disco. Veamos los otros dos si los cumplen"
      ]
    },
    {
      "cell_type": "code",
      "source": [
        "cond_ram2 = (ram2 == 16 or ram2 == 32 or ram2 == 64) #OR -> me vale con cualquier resultado\n",
        "\n",
        "cond_proces2 = (process2 == \"i3\" and disco2 == 500) #se tienen que cumplir las dos condicienes\n",
        "\n",
        "cond_prec2 = (precio2 < 800)\n",
        "\n",
        "cond_total2 = cond_ram2 and cond_proces2 and cond_prec2\n",
        "\n",
        "print(cond_total2, cond_prec2, cond_proces2, cond_ram2)# nos muestra si nos vale el ordenador uno y cual de las condiciones no cumple\n"
      ],
      "metadata": {
        "id": "EC4KuBKlypXi",
        "outputId": "1ffd06e0-05bf-4fa7-b668-5e507989150d",
        "colab": {
          "base_uri": "https://localhost:8080/"
        }
      },
      "execution_count": 3,
      "outputs": [
        {
          "output_type": "stream",
          "name": "stdout",
          "text": [
            "False True False False\n"
          ]
        }
      ]
    },
    {
      "cell_type": "code",
      "source": [
        "cond_ram3 = (ram3 == 16 or ram3 == 32 or ram3 == 64) #OR -> me vale con cualquier resultado\n",
        "\n",
        "cond_proces3 = (process3 == \"i3\" and disco3 == 500) #se tienen que cumplir las dos condicienes\n",
        "\n",
        "cond_prec3 = (precio3 < 800)\n",
        "\n",
        "cond_total3 = cond_ram3 and cond_proces3 and cond_prec3\n",
        "\n",
        "print(cond_total3, cond_prec3, cond_proces3, cond_ram3)# nos muestra si nos vale el ordenador uno y cual de las condiciones no cumple\n"
      ],
      "metadata": {
        "id": "KtfpVYFjy3-L",
        "outputId": "bc29c493-428d-4243-c656-aa4ccdcfa1b3",
        "colab": {
          "base_uri": "https://localhost:8080/"
        }
      },
      "execution_count": 4,
      "outputs": [
        {
          "output_type": "stream",
          "name": "stdout",
          "text": [
            "True True True True\n"
          ]
        }
      ]
    },
    {
      "cell_type": "code",
      "source": [
        "print(\"Resultado de si me encaja el ordenador 1:\", cond_total1)\n",
        "print(\"Resultado de si me encaja el ordenador 2:\", cond_total2)\n",
        "print(\"Resultado de si me encaja el ordenador 3:\", cond_total3)"
      ],
      "metadata": {
        "id": "L50HPxcmzJeg",
        "outputId": "edad7a65-3aad-4ac3-b9f7-31a70023a469",
        "colab": {
          "base_uri": "https://localhost:8080/"
        }
      },
      "execution_count": 5,
      "outputs": [
        {
          "output_type": "stream",
          "name": "stdout",
          "text": [
            "Resultado de si me encaja el ordenador 1: False\n",
            "Resultado de si me encaja el ordenador 2: False\n",
            "Resultado de si me encaja el ordenador 3: True\n"
          ]
        }
      ]
    },
    {
      "cell_type": "code",
      "execution_count": null,
      "metadata": {
        "id": "ca7NQSFludBA"
      },
      "outputs": [],
      "source": [
        "# Calculamos las condiciones para los otros ordenadores"
      ]
    },
    {
      "cell_type": "markdown",
      "metadata": {
        "id": "ns4EiR-nudBB"
      },
      "source": [
        "¡Bingo! El tercer ordenador cumple todas las condiciones para ser mi futura compra. Verás en próximos notebooks que esto se puede hacer todavía más sencillo mediante bucles y funciones.\n",
        "\n",
        "Si quieres aprender más sobre el **Álgebra de Boole**, te recomiendo [esta página](https://ryanstutorials.net/boolean-algebra-tutorial/)"
      ]
    },
    {
      "cell_type": "code",
      "execution_count": null,
      "metadata": {
        "id": "7ShRHIPAudBC"
      },
      "outputs": [],
      "source": []
    },
    {
      "cell_type": "code",
      "execution_count": null,
      "metadata": {
        "id": "NgQPPK_gudBD"
      },
      "outputs": [],
      "source": []
    }
  ],
  "metadata": {
    "kernelspec": {
      "display_name": "Python 3",
      "language": "python",
      "name": "python3"
    },
    "language_info": {
      "codemirror_mode": {
        "name": "ipython",
        "version": 3
      },
      "file_extension": ".py",
      "mimetype": "text/x-python",
      "name": "python",
      "nbconvert_exporter": "python",
      "pygments_lexer": "ipython3",
      "version": "3.8.3"
    },
    "colab": {
      "provenance": [],
      "include_colab_link": true
    }
  },
  "nbformat": 4,
  "nbformat_minor": 0
}