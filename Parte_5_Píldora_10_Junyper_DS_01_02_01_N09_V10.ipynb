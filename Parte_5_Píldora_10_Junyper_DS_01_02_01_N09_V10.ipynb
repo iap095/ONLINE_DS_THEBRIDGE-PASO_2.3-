{
  "cells": [
    {
      "cell_type": "markdown",
      "metadata": {
        "id": "view-in-github",
        "colab_type": "text"
      },
      "source": [
        "<a href=\"https://colab.research.google.com/github/iap095/ONLINE_DS_THEBRIDGE-PASO_2.3-/blob/main/Parte_5_P%C3%ADldora_10_Junyper_DS_01_02_01_N09_V10.ipynb\" target=\"_parent\"><img src=\"https://colab.research.google.com/assets/colab-badge.svg\" alt=\"Open In Colab\"/></a>"
      ]
    },
    {
      "cell_type": "markdown",
      "metadata": {
        "id": "4ejX3jGlkvVw"
      },
      "source": [
        "##  Argumentos clave-valor"
      ]
    },
    {
      "cell_type": "markdown",
      "metadata": {
        "id": "tTp_EBjSkvVx"
      },
      "source": [
        "### Contenidos"
      ]
    },
    {
      "cell_type": "markdown",
      "metadata": {
        "id": "ClkTXT0UkvVy"
      },
      "source": [
        "* [Combinar `*args` con `**kwargs`](#Combinar-`*args`-con-`**kwargs`)\n",
        "* [Argumentos keyword](#Argumentos-keyword)\n"
      ]
    },
    {
      "cell_type": "markdown",
      "metadata": {
        "id": "f6ZknF8dkvVz"
      },
      "source": [
        "\n",
        "Para terminar con las diferentes posibilidades que ofrecen los argumentos de las funciones, vamos a tratar los argumentos clave-valor.  \n",
        "\n",
        "Es decir, tenemos también la opción de introducir un diccionario como argumentos, de esta forma, aunque el numero de argumentos sea variable, tendremos un inidicador, la clave, y el valor de cada clave.\n",
        "\n",
        "Se implementa con `**`"
      ]
    },
    {
      "cell_type": "code",
      "execution_count": 1,
      "metadata": {
        "id": "Qpap5yaMkvV0",
        "outputId": "7ddad097-6645-4ecb-a1b1-1a9bfef94570",
        "colab": {
          "base_uri": "https://localhost:8080/"
        }
      },
      "outputs": [
        {
          "output_type": "stream",
          "name": "stdout",
          "text": [
            "<class 'dict'> {'modelo': 'S20', 'marca': 'Samsung', 'camara': '24MPX'}\n"
          ]
        }
      ],
      "source": [
        "def insertar_movil_bd(**clave_valor):# con este codigo lo convierte en un diccionario, eso nos va a permitir acceder a los elementos\n",
        "  print(type(clave_valor),clave_valor)\n",
        "\n",
        "insertar_movil_bd(modelo = \"S20\", marca = \"Samsung\", camara = \"24MPX\")"
      ]
    },
    {
      "cell_type": "code",
      "source": [
        "def insertar_movil_bd(**kwards):\n",
        "  for clave, valor in kwards.items():#acceder a los elementos del diccionario\n",
        "    #insertar (clave,valor)\n",
        "    print(clave, \":\", valor)\n",
        "\n",
        "insertar_movil_bd(modelo = \"S20\", marca = \"Samsung\", camara = \"24MPX\")"
      ],
      "metadata": {
        "id": "M1jqNUUalexd",
        "outputId": "014f059c-0251-49ae-9957-b161c478f317",
        "colab": {
          "base_uri": "https://localhost:8080/"
        }
      },
      "execution_count": 2,
      "outputs": [
        {
          "output_type": "stream",
          "name": "stdout",
          "text": [
            "modelo : S20\n",
            "marca : Samsung\n",
            "camara : 24MPX\n"
          ]
        }
      ]
    },
    {
      "cell_type": "markdown",
      "metadata": {
        "id": "9q4Ur3q8kvV1"
      },
      "source": [
        "### Combinar `*args` con `**kwargs`\n",
        "[al indice](#Contenidos)  \n",
        "No hay ningun problema en tener un numero variable de argumentos y también argumentos clave-valor, todo ello en la misma función."
      ]
    },
    {
      "cell_type": "code",
      "execution_count": 2,
      "metadata": {
        "id": "YkKT8HLkkvV2",
        "outputId": "8558e032-2438-4ec4-a6b9-45e7d90736d8",
        "colab": {
          "base_uri": "https://localhost:8080/"
        }
      },
      "outputs": [
        {
          "output_type": "stream",
          "name": "stdout",
          "text": [
            "<class 'tuple'>\n",
            "Es muy bueno\n",
            "no dura lo suficiente la bateria\n",
            "<class 'dict'>\n",
            "marca Samsung\n",
            "modelos S20\n"
          ]
        }
      ],
      "source": [
        "def insertar_movil(*args,**kwargs):\n",
        "  print(type(args))\n",
        "  for i in args:\n",
        "    print(i)\n",
        "\n",
        "  print(type(kwargs))\n",
        "  for clave, valor in kwargs.items():\n",
        "    print(clave,valor)\n",
        "\n",
        "insertar_movil(\"Es muy bueno\", \"no dura lo suficiente la bateria\", \\\n",
        "               marca = \"Samsung\", modelos = \"S20\")"
      ]
    },
    {
      "cell_type": "code",
      "source": [
        "def test(**kwargs, *args): #si cambiamos el orden da fallo\n",
        "  print(\"test\")"
      ],
      "metadata": {
        "id": "1wuqjYL1CYCo",
        "outputId": "a0206780-5667-447c-a979-bb19044b35cf",
        "colab": {
          "base_uri": "https://localhost:8080/",
          "height": 112
        }
      },
      "execution_count": 3,
      "outputs": [
        {
          "output_type": "error",
          "ename": "SyntaxError",
          "evalue": "invalid syntax (<ipython-input-3-397372efd40f>, line 1)",
          "traceback": [
            "\u001b[0;36m  File \u001b[0;32m\"<ipython-input-3-397372efd40f>\"\u001b[0;36m, line \u001b[0;32m1\u001b[0m\n\u001b[0;31m    def test(**kwargs, *args):\u001b[0m\n\u001b[0m                       ^\u001b[0m\n\u001b[0;31mSyntaxError\u001b[0m\u001b[0;31m:\u001b[0m invalid syntax\n"
          ]
        }
      ]
    },
    {
      "cell_type": "markdown",
      "metadata": {
        "id": "3_U65Sc7kvV3"
      },
      "source": [
        "### Argumentos keyword\n",
        "[al indice](#Contenidos)  \n",
        "Existe otro tipo de argumentos que son los *keyword*. Se caracterizan porque llevan un valor por defecto, y por tanto, si no usamos dicho argumento en la llamada, dentro de la función tomará el valor que hayamos dejado por defecto.\n",
        "\n",
        "Ten en cuenta que estos argumentos se colocan **al final**"
      ]
    },
    {
      "cell_type": "code",
      "execution_count": 5,
      "metadata": {
        "id": "suktbORTkvV4",
        "outputId": "239a2e8f-fedb-4e11-8ae3-046dabbecfac",
        "colab": {
          "base_uri": "https://localhost:8080/"
        }
      },
      "outputs": [
        {
          "output_type": "execute_result",
          "data": {
            "text/plain": [
              "12.35"
            ]
          },
          "metadata": {},
          "execution_count": 5
        }
      ],
      "source": [
        "round(12.347565, ndigits = 2)"
      ]
    },
    {
      "cell_type": "code",
      "source": [
        "sorted([12,3,7,87,9,9], reverse = True)"
      ],
      "metadata": {
        "id": "ntJyzmJ-C7qt",
        "outputId": "8cb2c44b-59a2-4751-c7a8-f9174b48c34a",
        "colab": {
          "base_uri": "https://localhost:8080/"
        }
      },
      "execution_count": 7,
      "outputs": [
        {
          "output_type": "execute_result",
          "data": {
            "text/plain": [
              "[87, 12, 9, 9, 7, 3]"
            ]
          },
          "metadata": {},
          "execution_count": 7
        }
      ]
    },
    {
      "cell_type": "code",
      "source": [
        "def pedido_online(pedido, fecha, incidencia = False):\n",
        "  if incidencia == True:\n",
        "    print(\"Pongase en contacto con Att. al Cliente\")\n",
        "  print(\"Su pedido\", pedido, \"se entregará el\", fecha)\n",
        "\n",
        "pedido_online(\"Television\",\"12/12/2023\")\n",
        "pedido_online(\"iMac 27''\",\"10/11/2023\", incidencia = True)\n"
      ],
      "metadata": {
        "id": "kgZ_6bd_DG_3",
        "outputId": "d6367565-0283-4866-be0f-a1eb731617c6",
        "colab": {
          "base_uri": "https://localhost:8080/"
        }
      },
      "execution_count": 8,
      "outputs": [
        {
          "output_type": "stream",
          "name": "stdout",
          "text": [
            "Su pedido Television se entregará el 12/12/2023\n",
            "Pongase en contacto con Att. al Cliente\n",
            "Su pedido iMac 27'' se entregará el 10/11/2023\n"
          ]
        }
      ]
    },
    {
      "cell_type": "markdown",
      "metadata": {
        "id": "y5tiQLuUkvV5"
      },
      "source": [
        "<table align=\"left\">\n",
        " <tr>\n",
        "     <td style=\"text-align:left\">\n",
        "         <h3>ERRORES con argumentos keyword</h3>\n",
        "         \n",
        " </td></tr>\n",
        "</table>"
      ]
    },
    {
      "cell_type": "code",
      "execution_count": 9,
      "metadata": {
        "id": "kC2IiIMGkvV5",
        "outputId": "ad7f9f96-bdb7-4ccf-f523-7b594b5cb1ec",
        "colab": {
          "base_uri": "https://localhost:8080/",
          "height": 112
        }
      },
      "outputs": [
        {
          "output_type": "error",
          "ename": "SyntaxError",
          "evalue": "non-default argument follows default argument (<ipython-input-9-56788534af8d>, line 1)",
          "traceback": [
            "\u001b[0;36m  File \u001b[0;32m\"<ipython-input-9-56788534af8d>\"\u001b[0;36m, line \u001b[0;32m1\u001b[0m\n\u001b[0;31m    def pedido_online(pedido, incidencia = False, fecha):\u001b[0m\n\u001b[0m                                                  ^\u001b[0m\n\u001b[0;31mSyntaxError\u001b[0m\u001b[0;31m:\u001b[0m non-default argument follows default argument\n"
          ]
        }
      ],
      "source": [
        "def pedido_online(pedido, incidencia = False, fecha): #la keyword va antes\n",
        "  if incidencia == True:\n",
        "    print(\"Pongase en contacto con Att. al Cliente\")\n",
        "  print(\"Su pedido\", pedido, \"se entregará el\", fecha)"
      ]
    }
  ],
  "metadata": {
    "kernelspec": {
      "display_name": "Python 3 (ipykernel)",
      "language": "python",
      "name": "python3"
    },
    "language_info": {
      "codemirror_mode": {
        "name": "ipython",
        "version": 3
      },
      "file_extension": ".py",
      "mimetype": "text/x-python",
      "name": "python",
      "nbconvert_exporter": "python",
      "pygments_lexer": "ipython3",
      "version": "3.9.7"
    },
    "colab": {
      "provenance": [],
      "include_colab_link": true
    }
  },
  "nbformat": 4,
  "nbformat_minor": 0
}