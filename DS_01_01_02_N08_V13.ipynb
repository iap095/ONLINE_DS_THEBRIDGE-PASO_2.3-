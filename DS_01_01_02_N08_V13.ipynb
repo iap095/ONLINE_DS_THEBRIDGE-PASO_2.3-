{
  "cells": [
    {
      "cell_type": "markdown",
      "metadata": {
        "id": "view-in-github",
        "colab_type": "text"
      },
      "source": [
        "<a href=\"https://colab.research.google.com/github/iap095/ONLINE_DS_THEBRIDGE-PASO_2.3-/blob/main/DS_01_01_02_N08_V13.ipynb\" target=\"_parent\"><img src=\"https://colab.research.google.com/assets/colab-badge.svg\" alt=\"Open In Colab\"/></a>"
      ]
    },
    {
      "cell_type": "markdown",
      "metadata": {
        "id": "X4ejGM-gkhGx"
      },
      "source": [
        "<img src = \"./img/TheBridge_logo_RGB_color.jpg\" width = 500><img src = \"./img/python.jpg\" width = 500>"
      ]
    },
    {
      "cell_type": "markdown",
      "metadata": {
        "id": "5D1rHT74khGz"
      },
      "source": [
        "# Python Basics I"
      ]
    },
    {
      "cell_type": "markdown",
      "metadata": {
        "id": "U-d126ugkhG0"
      },
      "source": [
        "## Contenidos"
      ]
    },
    {
      "cell_type": "markdown",
      "metadata": {
        "id": "L6tXohWykhG0"
      },
      "source": [
        "* [Listas\n",
        "](#Listas\n",
        ")\n"
      ]
    },
    {
      "cell_type": "markdown",
      "metadata": {
        "id": "lvejhVl6khG1"
      },
      "source": [
        "## Listas\n",
        "[al indice](#Contenidos)  \n",
        "Se trata de otro de los tipos de datos de Python más usados. Dentro de las colecciones, que veremos más adelante, la lista es la colección que normalmente se le da más uso. **Nos permiten almacenar conjuntos de variables u objetos**, y son elementos de lo más versátiles puesto que podemos almacenar objetos de distintos tipos, modificarlos, eliminarlos, meter listas dentro de listas... Sus dos caractrísticas principales son:\n",
        "* **Mutables**: una vez se ha creado la lista, se puede modificar\n",
        "* **Ordenada**: Los elementos tienen un cierto orden, lo que nos permite acceder al elemento que queramos teniendo en cuenta tal orden\n",
        "\n",
        "En cuanto a su sintaxis, cuando declaremos la lista simplemente hay que separar cada elemento con comas, y rodearlo todo con corchetes."
      ]
    },
    {
      "cell_type": "code",
      "execution_count": 2,
      "metadata": {
        "id": "15-bDaFbkhG2",
        "outputId": "b06de402-bca7-4da5-9edc-fd48941fe7c9",
        "colab": {
          "base_uri": "https://localhost:8080/"
        }
      },
      "outputs": [
        {
          "output_type": "stream",
          "name": "stdout",
          "text": [
            "[1, 3, 5, 6]\n",
            "<class 'list'>\n"
          ]
        }
      ],
      "source": [
        "#creamos una lista de numeros\n",
        "numeros = [1, 3, 5, 6]#en este caso es una lista de enteros (Int)\n",
        "print(numeros)\n",
        "print(type(numeros))"
      ]
    },
    {
      "cell_type": "code",
      "execution_count": 5,
      "metadata": {
        "id": "F10aULaVkhG3",
        "outputId": "a2dc37c6-3630-471c-d8d6-30432c46b35c",
        "colab": {
          "base_uri": "https://localhost:8080/"
        }
      },
      "outputs": [
        {
          "output_type": "stream",
          "name": "stdout",
          "text": [
            "['esto', 'es', 'una', 'lista']\n",
            "[True, False, True, True, False]\n"
          ]
        }
      ],
      "source": [
        "#lista de syting\n",
        "strings = [\"esto\", \"es\", \"una\", \"lista\"]\n",
        "print(strings)\n",
        "\n",
        "#lista de booleanos\n",
        "booleanos = [True, False, not False, True or False, False and False]\n",
        "print(booleanos)"
      ]
    },
    {
      "cell_type": "code",
      "source": [
        "#lista de tipos mezclados\n",
        "mix = [\"esto es\",12,-34.5 ,True,False, \"lista\"]\n",
        "print(mix)\n",
        "print(type(mix))\n",
        "\n",
        "#lista dentro de lista\n",
        "listas= [\"Gola\", \"12\", [23, True, False]]\n",
        "print(listas)"
      ],
      "metadata": {
        "id": "5h3GcQYQoq_a",
        "outputId": "072fa068-6463-41cd-b906-41a67c852eed",
        "colab": {
          "base_uri": "https://localhost:8080/"
        }
      },
      "execution_count": 6,
      "outputs": [
        {
          "output_type": "stream",
          "name": "stdout",
          "text": [
            "['esto es', 12, -34.5, True, False, 'lista']\n",
            "<class 'list'>\n",
            "['Gola', '12', [23, True, False]]\n"
          ]
        }
      ]
    },
    {
      "cell_type": "code",
      "source": [
        "len(listas)#vemos la longitus de la lista, un elemento es otra lista"
      ],
      "metadata": {
        "id": "Ba5zXoK2pROZ",
        "outputId": "f4d70f4a-3561-4319-e4b3-4f210aabb592",
        "colab": {
          "base_uri": "https://localhost:8080/"
        }
      },
      "execution_count": 7,
      "outputs": [
        {
          "output_type": "execute_result",
          "data": {
            "text/plain": [
              "3"
            ]
          },
          "metadata": {},
          "execution_count": 7
        }
      ]
    },
    {
      "cell_type": "code",
      "source": [
        "#concatenamos listas\n",
        "concatenacion = mix + listas\n",
        "print(concatenacion)\n",
        "print(type(concatenacion))"
      ],
      "metadata": {
        "id": "hUSqxBBKpZ7B",
        "outputId": "0f79ea32-b0b0-43d1-91a8-2d8718b2c9ac",
        "colab": {
          "base_uri": "https://localhost:8080/"
        }
      },
      "execution_count": 9,
      "outputs": [
        {
          "output_type": "stream",
          "name": "stdout",
          "text": [
            "['esto es', 12, -34.5, True, False, 'lista', 'Gola', '12', [23, True, False]]\n",
            "<class 'list'>\n"
          ]
        }
      ]
    },
    {
      "cell_type": "code",
      "source": [
        "#las listas son elementos ordenados, esta operacion no es conmutativa\n",
        "concatenacion_2 =  listas + mix #son listas distintas\n",
        "print(concatenacion_2)\n",
        "print(type(concatenacion_2))"
      ],
      "metadata": {
        "id": "LoIBWgC-pj_p",
        "outputId": "dc7fefa6-c2f2-4696-db0d-0b2dc9681b96",
        "colab": {
          "base_uri": "https://localhost:8080/"
        }
      },
      "execution_count": 11,
      "outputs": [
        {
          "output_type": "stream",
          "name": "stdout",
          "text": [
            "['Gola', '12', [23, True, False], 'esto es', 12, -34.5, True, False, 'lista']\n",
            "<class 'list'>\n"
          ]
        }
      ]
    },
    {
      "cell_type": "markdown",
      "metadata": {
        "id": "l2Kr7clEkhG3"
      },
      "source": [
        "**NOTA**: ¿Ves por qué los decimales en Python siempre van con puntos y no con comas? Con las colecciones el intérprete de Python se volvería loco.\n",
        "\n",
        "Podemos ver tambien el tipo de la lista"
      ]
    },
    {
      "cell_type": "code",
      "execution_count": null,
      "metadata": {
        "id": "E40Wue05khG4"
      },
      "outputs": [],
      "source": []
    },
    {
      "cell_type": "markdown",
      "metadata": {
        "id": "yaiSNIUlkhG5"
      },
      "source": [
        "Calcular la longitud de la misma mediante el método *built-in* ya visto: `len()`"
      ]
    },
    {
      "cell_type": "code",
      "execution_count": null,
      "metadata": {
        "id": "v-yuQHiSkhG6"
      },
      "outputs": [],
      "source": []
    },
    {
      "cell_type": "markdown",
      "metadata": {
        "id": "U64-EPVBkhG6"
      },
      "source": [
        "Accedemos a los elemenos de la lista mediante corchetes `[]`\n",
        "\n",
        "**Importante**. El primer elemento es el 0"
      ]
    },
    {
      "cell_type": "code",
      "execution_count": 14,
      "metadata": {
        "id": "0wUr_rQGkhG7",
        "outputId": "34e87631-928e-4432-9b5a-c1a80b41aee0",
        "colab": {
          "base_uri": "https://localhost:8080/",
          "height": 243
        }
      },
      "outputs": [
        {
          "output_type": "stream",
          "name": "stdout",
          "text": [
            "Esto\n",
            "patata\n",
            "2\n"
          ]
        },
        {
          "output_type": "error",
          "ename": "IndexError",
          "evalue": "list index out of range",
          "traceback": [
            "\u001b[0;31m---------------------------------------------------------------------------\u001b[0m",
            "\u001b[0;31mIndexError\u001b[0m                                Traceback (most recent call last)",
            "\u001b[0;32m<ipython-input-14-6f26fbf26573>\u001b[0m in \u001b[0;36m<cell line: 7>\u001b[0;34m()\u001b[0m\n\u001b[1;32m      5\u001b[0m \u001b[0mprint\u001b[0m\u001b[0;34m(\u001b[0m\u001b[0mlista_ejemplo\u001b[0m\u001b[0;34m[\u001b[0m\u001b[0;34m-\u001b[0m\u001b[0;36m3\u001b[0m\u001b[0;34m]\u001b[0m\u001b[0;34m)\u001b[0m\u001b[0;34m\u001b[0m\u001b[0;34m\u001b[0m\u001b[0m\n\u001b[1;32m      6\u001b[0m \u001b[0;31m#SI INTENTO ACCEDER A UN ELEMENTO FUERA DE RANGO DA ERROR\u001b[0m\u001b[0;34m\u001b[0m\u001b[0;34m\u001b[0m\u001b[0m\n\u001b[0;32m----> 7\u001b[0;31m \u001b[0mprint\u001b[0m\u001b[0;34m(\u001b[0m\u001b[0mlista_ejemplo\u001b[0m\u001b[0;34m[\u001b[0m\u001b[0;36m5\u001b[0m\u001b[0;34m]\u001b[0m\u001b[0;34m)\u001b[0m\u001b[0;34m\u001b[0m\u001b[0;34m\u001b[0m\u001b[0m\n\u001b[0m",
            "\u001b[0;31mIndexError\u001b[0m: list index out of range"
          ]
        }
      ],
      "source": [
        "lista_ejemplo = [\"Esto\",2,3,\"patata\"]\n",
        "print(lista_ejemplo[0])#solo saca el elemento 0\n",
        "print(lista_ejemplo[-1])#nos da el ultimo elemento\n",
        "#se puede recorrer la lista hacia atras\n",
        "print(lista_ejemplo[-3])\n",
        "#SI INTENTO ACCEDER A UN ELEMENTO FUERA DE RANGO DA ERROR\n",
        "print(lista_ejemplo[5])"
      ]
    },
    {
      "cell_type": "markdown",
      "metadata": {
        "id": "x_VC2sOpkhG7"
      },
      "source": [
        "### Metodos en Listas\n",
        "Para el tipo de objeto lista, también hay una serie de métodos catacterísticos que nos permiten operar con ellas: añadir valores, quitarlos, indexado, filtrado, etc... En [este enlace](https://www.w3schools.com/python/python_ref_list.asp) puedes encontrar todos los métodos que podrás usar con listas."
      ]
    },
    {
      "cell_type": "code",
      "execution_count": 21,
      "metadata": {
        "id": "_elmnZQ1khG7",
        "outputId": "837c1638-9fe5-4d16-f0d3-b904319c08bb",
        "colab": {
          "base_uri": "https://localhost:8080/"
        }
      },
      "outputs": [
        {
          "output_type": "stream",
          "name": "stdout",
          "text": [
            "['Fisica', 'quimica', 'matematicas', 'literatura', 'filosofia']\n",
            "['Fisica', 'gimnasia', 'quimica', 'matematicas', 'literatura', 'filosofia']\n",
            "['Fisica', 'quimica', 'matematicas', 'literatura', 'filosofia']\n",
            "['Fisica', 'quimica', 'matematicas', 'literatura']\n",
            "['Fisica', 'literatura', 'matematicas', 'quimica']\n"
          ]
        }
      ],
      "source": [
        "asignaturas = [\"Fisica\", \"quimica\", \"matematicas\", \"literatura\"]\n",
        "#Añadir elemento a una lista\n",
        "asignaturas.append(\"filosofia\")#lo añade al final de la lista\n",
        "print(asignaturas)\n",
        "#con los string no se modificaba el objeto inicial pero con las listas si\n",
        "\n",
        "#Añadir un elemento en una posicion de terminada\n",
        "asignaturas.insert(1,\"gimnasia\") #tiene dos elementos (posicion, elemento a añadir)\n",
        "print(asignaturas)\n",
        "\n",
        "#quitar elementos\n",
        "#asignaturas.clear() nos va a vaciatr las listas\n",
        "\n",
        "#quitar un elementoa a partir de su indice\n",
        "asignaturas.pop(1)\n",
        "print(asignaturas)\n",
        "\n",
        "#quitar un elemnto por su valor\n",
        "asignaturas.remove(\"filosofia\")\n",
        "print(asignaturas)\n",
        "\n",
        "#si intentamos quitar un elemento por su valor o poisicion que no existe da error\n",
        "\n",
        "#Ordenar la lista\n",
        "asignaturas.sort()\n",
        "print(asignaturas)"
      ]
    },
    {
      "cell_type": "code",
      "source": [],
      "metadata": {
        "id": "AxVItmOJrJQd"
      },
      "execution_count": null,
      "outputs": []
    },
    {
      "cell_type": "code",
      "execution_count": null,
      "metadata": {
        "id": "fGFNY4rhkhG8"
      },
      "outputs": [],
      "source": []
    },
    {
      "cell_type": "code",
      "execution_count": null,
      "metadata": {
        "id": "ItUbOzOZkhG8"
      },
      "outputs": [],
      "source": []
    }
  ],
  "nbformat": 4,
  "nbformat_minor": 0,
  "metadata": {
    "kernelspec": {
      "display_name": "Python 3",
      "language": "python",
      "name": "python3"
    },
    "language_info": {
      "codemirror_mode": {
        "name": "ipython",
        "version": 3
      },
      "file_extension": ".py",
      "mimetype": "text/x-python",
      "name": "python",
      "nbconvert_exporter": "python",
      "pygments_lexer": "ipython3",
      "version": "3.8.3"
    },
    "colab": {
      "provenance": [],
      "include_colab_link": true
    }
  }
}