{
  "cells": [
    {
      "cell_type": "markdown",
      "metadata": {
        "id": "view-in-github",
        "colab_type": "text"
      },
      "source": [
        "<a href=\"https://colab.research.google.com/github/iap095/ONLINE_DS_THEBRIDGE-PASO_2.3-/blob/main/Parte_6_Ejercicio_POO_DS_01_02_02_N07.ipynb\" target=\"_parent\"><img src=\"https://colab.research.google.com/assets/colab-badge.svg\" alt=\"Open In Colab\"/></a>"
      ]
    },
    {
      "cell_type": "markdown",
      "metadata": {
        "id": "liorA-1ZSU4y"
      },
      "source": [
        "# Ejercicios Clases y Objetos"
      ]
    },
    {
      "cell_type": "markdown",
      "metadata": {
        "id": "5xXUz5l9SU4z"
      },
      "source": [
        "## Ejercicio 1\n",
        "Somos una empresa que tiene varias tiendas de electrodomesticos. Necesitamos un programa para manejar las tiendas, ver las ventas que han tenido, cuántos empleados hay, etc... Para ello vamos a modelizar la tienda en una clase, que tendrá las siguientes características:\n",
        "* Nombre clase: \"Tienda\"\n",
        "* Atributos comunes:\n",
        "    * Tipo: \"Electrodomésticos\"\n",
        "    * Abierta: True\n",
        "* Atributos propios de cada tienda:\n",
        "    * Nombre - String\n",
        "    * Dirección - String\n",
        "    * Número de empleados - int\n",
        "    * Ventas ultimos 3 meses - Lista de 3 numeros\n",
        "* Método para calcular las ventas de todos los meses, que devuelva un numero con todas las ventas.\n",
        "* Método que calcula la media de ventas de los ultimos meses, por empleado\n",
        "* Método que devuelve en un string el nombre de la tienda, junto con su dirección.\n",
        "* Método que obtiene las ventas del último mes.\n",
        "* Método para dar una proyección de las ventas en caso de haber invertido X dinero en marketing en esa tienda. Siendo X el parámetro de entrada. Si X es menor de 1000, las ventas de los ultimos 3 meses hubiesen sido de (1.2 x ventas), si es mayor o igual de 1000, las ventas hubiesen sido de (1.5 x venta). El método reescribe el atributo de ventas en los últimos 3 meses, y además devuelve las ventas con el aumento.\n",
        "\n",
        "Se pide:\n",
        "1. Implementar la clase \"Tienda\"\n",
        "2. Crear tres tiendas con datos inventados\n",
        "3. Comprueba en al menos una de ellas, todo lo implementado en la clase tienda (sus atributos, media de ventas, ventas/empleado...)\n",
        "3. Calcular las ventas del último mes de todas las tiendas. Para ello usa el bucle `for`\n",
        "4. Imprime por pantalla los nombres de las tiendas cuya dirección lleve el string \"Avenida\"\n",
        "5. Seguro que ya has hecho este apartado... Documenta la clase :)"
      ]
    },
    {
      "cell_type": "code",
      "execution_count": 17,
      "metadata": {
        "id": "5cLQcLxfSU4z"
      },
      "outputs": [],
      "source": [
        "class Tienda:\n",
        "  #Atributos comunes\n",
        "  tipo = \"Electrodomésticos\"\n",
        "  abierta = True\n",
        "  #Atributos propios\n",
        "  def __init__(self, nombre, direccion, num_empleados, num_ventas_3meses):\n",
        "    self.nombre = nombre\n",
        "    self.direccion = direccion\n",
        "    self.empleados = num_empleados\n",
        "    self.ventas = num_ventas_3meses\n",
        "  def caracteristicas(self):\n",
        "   return {\n",
        "        \"Tienda\": self.nombre,\n",
        "        \"Dirección\": self.direccion,\n",
        "        \"Número de empleados\": self.empleados,\n",
        "        \"Ventas últimos 3 meses\": self.ventas,\n",
        "        \"Tipo\": self.tipo,\n",
        "        \"Abierta\": self.abierta\n",
        "    }\n",
        "  #Metodo para calcular ventas\n",
        "  def ventas_totales(self):\n",
        "    return sum(self.ventas)\n",
        "  #Método que calcula la media de ventas de los ultimos meses, por empleado\n",
        "  def ventas_por_empleado(self):\n",
        "    return self.ventas_totales()/self.empleados#lleva parentesis pq al declarar v_t tenemos (self) un atributo\n",
        "  #Método que devuelve en un string el nombre de la tienda, junto con su dirección\n",
        "  def nombre_direcc(self):\n",
        "    return \"El nombre de la tienda es:\" + self.nombre + \" , y su dirección es: \" + self.direccion\n",
        "  #Método que obtiene las ventas del último mes.\n",
        "  def ventas_ultimo_mes(self):\n",
        "    return int(self.ventas[-1])\n",
        "  #Método para dar una proyección de las ventas en caso de haber\n",
        "  #invertido X dinero en marketing en esa tienda. Siendo X el parámetro de entrada.\n",
        "  # Si X es menor de 1000, las ventas de los ultimos 3 meses hubiesen sido de (1.2 x ventas),\n",
        "  # si es mayor o igual de 1000, las ventas hubiesen sido de (1.5 x venta).\n",
        "  #El método reescribe el atributo de ventas en los últimos 3 meses, y además devuelve las ventas con el aumento.\n",
        "  def proyeccion_ventas(self, X):\n",
        "    if X < 1000:\n",
        "      inversion = 1.2\n",
        "    else:\n",
        "      inversion = 1.5\n",
        "\n",
        "    self.ventas = [X * inversion for venta in self.ventas]#cambiamos las ventas de los ultimos meses con la inversion\n",
        "    self.proyeccion_ventas_totales =  self.ventas_totales() #creo una nueva variable de las ventas actualizadas(suma de las 3 proyecciones de ventas)\n",
        "    return self.proyeccion_ventas_totales"
      ]
    },
    {
      "cell_type": "code",
      "source": [
        "# 1.Implementar la clase \"Tienda\"\n",
        "# 2.Crear tres tiendas con datos inventados\n",
        "nombre_de_tienda_1 = Tienda(\"Tienda_1\", \"C/Viento,1\", 15, [1000,968,1030])#para cada tienda identifico la clase a la que pertenece(Tienda) y le doy sus atributos propios, los generales ya los tiene por defecto\n",
        "nombre_de_tienda_2 = Tienda(\"Tienda_2\", \"C/Recogidas,54\", 47, [5678,7823,2980])\n",
        "nombre_de_tienda_3 = Tienda(\"Tienda_3\", \"Avenida Hacienda de Pavones,67\", 6, [872,438,879])\n",
        "\n",
        "# 3.Comprueba en al menos una de ellas, todo lo implementado en la clase tienda (sus atributos, media de ventas, ventas/empleado...)\n",
        "print(nombre_de_tienda_1.caracteristicas())#para cada tienda llamo al metodo que me va a sacar por pantalla todas sus caracteristicas\n",
        "print(nombre_de_tienda_2.caracteristicas())\n",
        "print(nombre_de_tienda_3.caracteristicas())\n",
        "\n",
        "\n",
        "# 4.Calcular las ventas del último mes de todas las tiendas. Para ello usa el bucle for\n",
        "for i in [nombre_de_tienda_1, nombre_de_tienda_2,nombre_de_tienda_3]:#para cada tienda(i) (que es un elemneto de la lista) dadas en la lista con los nombre de las tiendas\n",
        "  print(f\"Las ventas del ultimo mes en la tienda son: {i.ventas_ultimo_mes()}\")#me saca por panmtalla las ventas del ultimo mas( llamo al metodo) de cada una de ellas(i)\n",
        "\n",
        "\n",
        "# 5.Imprime por pantalla los nombres de las tiendas cuya dirección lleve el string \"Avenida\"\n",
        "for i in [nombre_de_tienda_1, nombre_de_tienda_2,nombre_de_tienda_3]:#usamos for para indica que para cada tienda(i) :\n",
        "  if \"Avenida\" in i.direccion:# si encuentra la palabra Avenida en alguna de ellas(i) en el atributo direccion entonces:\n",
        "    print(f\"La tienda que está en una avenida es: {i.nombre}\")#saca el nombre de dicha tineda(i) por pantalla\n",
        "\n",
        "# 6.Seguro que ya has hecho este apartado... Documenta la clase :)"
      ],
      "metadata": {
        "id": "dqyAsef3SCdL",
        "outputId": "070fe63d-feef-4ecf-d18b-9d9ad56e3135",
        "colab": {
          "base_uri": "https://localhost:8080/"
        }
      },
      "execution_count": 23,
      "outputs": [
        {
          "output_type": "stream",
          "name": "stdout",
          "text": [
            "{'Tienda': 'Tienda_1', 'Dirección': 'C/Viento,1', 'Número de empleados': 15, 'Ventas últimos 3 meses': [1000, 968, 1030], 'Tipo': 'Electrodomésticos', 'Abierta': True}\n",
            "{'Tienda': 'Tienda_2', 'Dirección': 'C/Recogidas,54', 'Número de empleados': 47, 'Ventas últimos 3 meses': [5678, 7823, 2980], 'Tipo': 'Electrodomésticos', 'Abierta': True}\n",
            "{'Tienda': 'Tienda_3', 'Dirección': 'Avenida Hacienda de Pavones,67', 'Número de empleados': 6, 'Ventas últimos 3 meses': [872, 438, 879], 'Tipo': 'Electrodomésticos', 'Abierta': True}\n",
            "Las ventas del ultimo mes en la tienda son: 1030\n",
            "Las ventas del ultimo mes en la tienda son: 2980\n",
            "Las ventas del ultimo mes en la tienda son: 879\n",
            "La tienda que está en una avenida es: Tienda_3\n"
          ]
        }
      ]
    },
    {
      "cell_type": "markdown",
      "metadata": {
        "id": "WEBq7EpsSU40"
      },
      "source": [
        "## Ejercicio 2\n",
        "En este ejercicio vamos a implementar una clase *Perro* en Python. La clase tiene las siguientes características:\n",
        "* Cosas que sabemos seguro que tiene un perro\n",
        "    * Tiene 4 patas\n",
        "    * 2 orejas\n",
        "    * 2 ojos\n",
        "    * Una velocidad de 0. Por defecto, el perro está parado\n",
        "* Cuando se inicialice:\n",
        "    * El perro será de una determinada raza\n",
        "    * Por defecto tendrá pelo \"Marrón\", a no ser que se diga lo contrario.\n",
        "    * Por defecto no tendrá dueño, a no ser que se diga lo contrario.\n",
        "    \n",
        "* Dispondrá también de un método llamado andar, que tiene un argumento de entrada (aumento_velocidad). Este valor se le sumará a la velocidad que ya llevaba el perro.\n",
        "* Necesita otro método (parar), donde pondremos la velocidad a 0.\n",
        "* Otro método llamado \"ladrar\", que tendrá un argumento de entrada, y la salida será el siguiente string: \"GUAU!\" + el argumento de entrada.\n",
        "\n",
        "\n",
        "Se pide:\n",
        "* Implementa la clase *Perro*\n",
        "* Crea un objeto de tipo *Perro*, sin dueño\n",
        "* Comprueba que están bien todos sus atributos\n",
        "* Prueba que ande, y comprueba su velocidad\n",
        "* Páralo\n",
        "* Documenta la clase *Perro*"
      ]
    },
    {
      "cell_type": "code",
      "execution_count": 35,
      "metadata": {
        "id": "DpEWvbwGSU40"
      },
      "outputs": [],
      "source": [
        "class Perro:#atributos comunes que no varian\n",
        "  patas = 4\n",
        "  orejas = 2\n",
        "  ojos = 2\n",
        "  velocidad = 0\n",
        "\n",
        "  def __init__(self,raza,pelo = \"Marron\", dueño = False):#atributos propios a los que daremos valor\n",
        "    self.raza = raza\n",
        "    self.pelo = pelo\n",
        "    self.dueño = dueño\n",
        "  def caracteristicas(self):\n",
        "   return {\n",
        "        \"patas\": self.patas,\n",
        "        \"orejas\": self.orejas,\n",
        "        \"ojos\": self.ojos,\n",
        "        \"velocidad\": self.velocidad,\n",
        "        \"raza\":self.raza,\n",
        "        \"pelo\": self.pelo,\n",
        "        \"dueño\": self.dueño\n",
        "    }\n",
        "\n",
        "  def andar(self, aumento_velocicdad):\n",
        "    self.velocidad += aumento_velocicdad#la nueva velocidad sera la inicial mas el aumento\n",
        "\n",
        "  def parar(self):\n",
        "    self.velocidad = 0#cuando para no necesitamos una nueva variable, solo el metodo e inicializar la velocidad a 0, ya que si hemos cambiado la velocidad con el aumento, se ha guardado\n",
        "\n",
        "  def ladrar(self, ladrido):\n",
        "    return \"GUAU!\" + ladrido# necesitamos una variable que nos de el mensaje del perro que es el ladrido y sacamos por pantalla dicho mensaje llamando a la variable\n",
        "\n"
      ]
    },
    {
      "cell_type": "code",
      "source": [
        "# 1.Implementa la clase Perro\n",
        "# 2.Crea un objeto de tipo Perro, sin dueño\n",
        "Tobi = Perro(\"Pastor Alemán\", dueño = True)#le he cambiado el atributo de dueño, el de pelo no lo pongo porque quiero el que tengo por defecto\n",
        "# 3.Comprueba que están bien todos sus atributos\n",
        "print(Tobi.caracteristicas())\n",
        "# 4.Prueba que ande, y comprueba su velocidad\n",
        "Tobi_anda = Tobi.andar(5)\n",
        "print(\"¿Tobi anda?\")\n",
        "print(Tobi.caracteristicas())\n",
        "# 5.Páralo\n",
        "print(\"Paramos a Tobi\")\n",
        "Tobi_para = Tobi.parar()\n",
        "print(Tobi.caracteristicas())\n",
        "# 6.Documenta la clase Perro"
      ],
      "metadata": {
        "id": "y8EyqFlNfnFe",
        "outputId": "7e5ef3d8-0b5d-433d-c582-95304672eb4f",
        "colab": {
          "base_uri": "https://localhost:8080/"
        }
      },
      "execution_count": 39,
      "outputs": [
        {
          "output_type": "stream",
          "name": "stdout",
          "text": [
            "{'patas': 4, 'orejas': 2, 'ojos': 2, 'velocidad': 0, 'raza': 'Pastor Alemán', 'pelo': 'Marron', 'dueño': True}\n",
            "¿Tobi anda?\n",
            "{'patas': 4, 'orejas': 2, 'ojos': 2, 'velocidad': 5, 'raza': 'Pastor Alemán', 'pelo': 'Marron', 'dueño': True}\n",
            "Paramos a Tobi\n",
            "{'patas': 4, 'orejas': 2, 'ojos': 2, 'velocidad': 0, 'raza': 'Pastor Alemán', 'pelo': 'Marron', 'dueño': True}\n"
          ]
        }
      ]
    }
  ],
  "metadata": {
    "kernelspec": {
      "display_name": "Python 3",
      "language": "python",
      "name": "python3"
    },
    "language_info": {
      "codemirror_mode": {
        "name": "ipython",
        "version": 3
      },
      "file_extension": ".py",
      "mimetype": "text/x-python",
      "name": "python",
      "nbconvert_exporter": "python",
      "pygments_lexer": "ipython3",
      "version": "3.7.9"
    },
    "colab": {
      "provenance": [],
      "include_colab_link": true
    }
  },
  "nbformat": 4,
  "nbformat_minor": 0
}