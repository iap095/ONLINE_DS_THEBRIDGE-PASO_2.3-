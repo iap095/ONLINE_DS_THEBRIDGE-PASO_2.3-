{
  "cells": [
    {
      "cell_type": "markdown",
      "metadata": {
        "id": "view-in-github",
        "colab_type": "text"
      },
      "source": [
        "<a href=\"https://colab.research.google.com/github/iap095/ONLINE_DS_THEBRIDGE-PASO_2.3-/blob/main/Parte_5_P%C3%ADldora_6_Junyper_DS_01_02_01_N05_V06.ipynb\" target=\"_parent\"><img src=\"https://colab.research.google.com/assets/colab-badge.svg\" alt=\"Open In Colab\"/></a>"
      ]
    },
    {
      "cell_type": "markdown",
      "metadata": {
        "id": "d5yLPAMcGosF"
      },
      "source": [
        "##  Funciones de usuario I   \n"
      ]
    },
    {
      "cell_type": "markdown",
      "metadata": {
        "id": "JuexDBu0GosH"
      },
      "source": [
        "### Contenidos\n"
      ]
    },
    {
      "cell_type": "markdown",
      "metadata": {
        "id": "eVoAKWYzGosI"
      },
      "source": [
        "* [Introducción  ](#Introducción--)\n",
        "\n",
        "* [Ejemplos](#Ejemplos)\n",
        "\n"
      ]
    },
    {
      "cell_type": "markdown",
      "metadata": {
        "id": "jpNOLJJ1GosK"
      },
      "source": [
        "### Introducción  \n",
        "[al indice](#Contenidos)  \n",
        "\n",
        "\n",
        "En este notebook tienes la primera parte de una guía para orientarte en el uso de funciones en Python... pero antes de seguir con todo el \"rollo...\"\n",
        "\n",
        "\n"
      ]
    },
    {
      "cell_type": "markdown",
      "metadata": {
        "id": "q3qKL6LZGosL"
      },
      "source": [
        "### Contenidos"
      ]
    },
    {
      "cell_type": "markdown",
      "metadata": {
        "id": "WybzDZU9GosM"
      },
      "source": [
        "\n",
        "### Definición y sintaxis\n",
        "\n",
        "Se trata de bloques de código que encapsulan una serie de operaciones. Se usan para modular nuestro código y evitar escribir código de más.  \n",
        "\n",
        "Mediante las **funciones** podemos encapsular código en formato entrada/salida. Por lo que si tienes un código repetitivo, que depende de ciertos inputs, las funciones pueden ser una buena solución.\n",
        "\n",
        "![funciones.png](./img/funciones.png)\n",
        "\n",
        "Es una manera de agrupar conjuntos de operaciones en módulos. **¿Cuándo usarlas?** Cuando tengamos varias operaciones que ejecutamos repetidamente en distintas partes del código. En ese caso, encapsulamos las operaciones en una función, y cada vez que haya que realizar tal operativa, llamamos a la función, y en una sola línea de código tenemos ejecutada esas operaciones.\n",
        "\n",
        "Hasta ahora hemos estado utilizando funciones *built-in*, para operaciones sencillas como `len()`, `sum()` o `max()`. En este Notebook aprenderas a crear tus propias funciones.\n",
        "\n",
        "La sintaxis es:\n",
        "> ```Python\n",
        "> def nombre_funcion(entrada):\n",
        ">    operaciones varias\n",
        ">    return output\n",
        "> ```\n",
        "\n",
        "Fíjate que sigue la **sintaxis de línea** vista en Notebooks anteriores (tabulación detrás de los dos puntos, por ejemplo).  \n",
        "\n",
        "Además, todo lo que va después del `return` es ignorado, puesto que es la salida. En el `return` acaba la función. Ahora bien, eso no quiere decir que haya un único return. Si introducimos una sentencia `if/else`, podremos poner returns diferentes dependiendo de qué condición se cumpla."
      ]
    },
    {
      "cell_type": "markdown",
      "metadata": {
        "id": "uUwSn9BkGosN"
      },
      "source": [
        "### Ejemplos\n",
        "[al indice](#Contenidos)  \n",
        "\n",
        "\n",
        "Vamos a crear nuestra primera función"
      ]
    },
    {
      "cell_type": "code",
      "execution_count": 6,
      "metadata": {
        "id": "E_ncIfDnGosO"
      },
      "outputs": [],
      "source": [
        "# Vamos a crear un conversor de km a millas\n",
        "\n",
        "def conversor_km_millas(distancia):\n",
        "  millas = 0.62 * distancia #distancia son los km\n",
        "  return round(millas,1)#redondea millas a un decimal\n",
        "#por ahora solo hemos almacenado esta funcion"
      ]
    },
    {
      "cell_type": "markdown",
      "metadata": {
        "id": "zmi7JzBBGosP"
      },
      "source": [
        "Al ejecutar el código anterior, no corre nada, simplemente almacenamos en memoria la función para usarla posteriormente. **Ahora podremos llamar a la función tantas veces como queramos, desde cualquier parte del codigo.**"
      ]
    },
    {
      "cell_type": "code",
      "execution_count": 2,
      "metadata": {
        "colab": {
          "base_uri": "https://localhost:8080/"
        },
        "id": "Mm__ETGHGosP",
        "outputId": "9f1c82b8-0bcf-4724-8d90-36044b1f0cd5"
      },
      "outputs": [
        {
          "output_type": "execute_result",
          "data": {
            "text/plain": [
              "124.0"
            ]
          },
          "metadata": {},
          "execution_count": 2
        }
      ],
      "source": [
        "conversor_km_millas(200)"
      ]
    },
    {
      "cell_type": "code",
      "source": [
        "millas = conversor_km_millas(2212)\n",
        "print(millas)\n",
        "#vamos a la funcion y cambiamos lo pedido"
      ],
      "metadata": {
        "colab": {
          "base_uri": "https://localhost:8080/"
        },
        "id": "494Qp3caH5vk",
        "outputId": "c0388200-3ac1-49d6-e385-883ed42c1cbe"
      },
      "execution_count": 8,
      "outputs": [
        {
          "output_type": "stream",
          "name": "stdout",
          "text": [
            "1371.4\n"
          ]
        }
      ]
    },
    {
      "cell_type": "markdown",
      "metadata": {
        "id": "avwwI9uzGosP"
      },
      "source": [
        "Las funciones no tienen por qué llevar argumentos. Eso sí, **es obligatorio** poner los parentesis, tanto en la declaración, como luego al llamar la función."
      ]
    },
    {
      "cell_type": "code",
      "execution_count": 10,
      "metadata": {
        "id": "h1AFcRqbGosQ"
      },
      "outputs": [],
      "source": [
        "from datetime import datetime\n",
        "\n",
        "def que_hora_es():\n",
        "  now = datetime.now().time()\n",
        "  return now\n"
      ]
    },
    {
      "cell_type": "code",
      "execution_count": 11,
      "metadata": {
        "colab": {
          "base_uri": "https://localhost:8080/"
        },
        "id": "uDZph1wEGosQ",
        "outputId": "a03c65f3-f709-4fea-c7ea-11ce15622003"
      },
      "outputs": [
        {
          "output_type": "stream",
          "name": "stdout",
          "text": [
            "11:30:07.716138\n"
          ]
        }
      ],
      "source": [
        "print(que_hora_es())"
      ]
    },
    {
      "cell_type": "code",
      "source": [
        "def que_hora_es():\n",
        "  now = datetime.now().time()\n",
        "  print(now)#pintar la funcion\n",
        "que_hora_es()"
      ],
      "metadata": {
        "colab": {
          "base_uri": "https://localhost:8080/"
        },
        "id": "Xa_a2_tQI6yx",
        "outputId": "0646a289-9224-458c-dbf7-988341b7b338"
      },
      "execution_count": 12,
      "outputs": [
        {
          "output_type": "stream",
          "name": "stdout",
          "text": [
            "11:30:53.913889\n"
          ]
        }
      ]
    }
  ],
  "metadata": {
    "kernelspec": {
      "display_name": "Python 3 (ipykernel)",
      "language": "python",
      "name": "python3"
    },
    "language_info": {
      "codemirror_mode": {
        "name": "ipython",
        "version": 3
      },
      "file_extension": ".py",
      "mimetype": "text/x-python",
      "name": "python",
      "nbconvert_exporter": "python",
      "pygments_lexer": "ipython3",
      "version": "3.9.7"
    },
    "colab": {
      "provenance": [],
      "include_colab_link": true
    }
  },
  "nbformat": 4,
  "nbformat_minor": 0
}