{
  "cells": [
    {
      "cell_type": "markdown",
      "metadata": {
        "id": "view-in-github",
        "colab_type": "text"
      },
      "source": [
        "<a href=\"https://colab.research.google.com/github/iap095/ONLINE_DS_THEBRIDGE-PASO_2.3-/blob/main/Parte_6_P%C3%ADldora_5_DS_01_02_02_N05_V05.ipynb\" target=\"_parent\"><img src=\"https://colab.research.google.com/assets/colab-badge.svg\" alt=\"Open In Colab\"/></a>"
      ]
    },
    {
      "cell_type": "markdown",
      "metadata": {
        "id": "AUk_h9_hCFJS"
      },
      "source": [
        "##  Métodos\n"
      ]
    },
    {
      "cell_type": "markdown",
      "metadata": {
        "id": "FDlj7uMeCFJS"
      },
      "source": [
        "### Contenidos\n"
      ]
    },
    {
      "cell_type": "markdown",
      "metadata": {
        "id": "EhVUN4LkCFJT"
      },
      "source": [
        "* [Introducción  ](#Introducción--)\n",
        "\n"
      ]
    },
    {
      "cell_type": "markdown",
      "metadata": {
        "id": "fb0ub0x3CFJT"
      },
      "source": [
        "### Introducción  \n",
        "[al indice](#Contenidos)  \n",
        "\n",
        "Son funciones que podemos definir dentro de las clases. Estas funciones cambiarán el estado de algún atributo o realizarán cálculos que nos sirvan de output. Un ejemplo sencillo puede ser, un método de la clase coche que saque la potencia en kilovatios, en vez de en caballos. O si tiene un estado de mantenimiento (ITV pasada o no), que modifique ese estado.\n",
        "\n",
        "El constructor es un tipo de método. La diferencia con el resto de métodos radica en su nombre, `__init__`. La sintaxis para definir los métodos es como si fuese una función. Y luego para llamar al método se utiliza `objeto.metodo(argumentos_metodo)`. Esto ya lo hemos usado anteriormente, cuando haciamos un `string.lower()`, simplemente llamábamos al método `lower()`, que no requería de argumentos, de la clase *string*."
      ]
    },
    {
      "cell_type": "code",
      "execution_count": 10,
      "metadata": {
        "id": "ePbMjBDMCFJT"
      },
      "outputs": [],
      "source": [
        "class Coche:\n",
        "    ruedas = 4\n",
        "\n",
        "    def __init__(self, marca_coche, num_puertas = 4):\n",
        "        self.marca = marca_coche\n",
        "        self.puertas = num_puertas\n",
        "      #creamos un metodo, luego necesitamos una funcion\n",
        "    def caracteristicas(self):# como norma basica el metodo necesita como primer arg self para poder usarlo\n",
        "      return \"Marca: \" + self.marca + \", Puertas: \" + str(self.puertas) #num_puertas es un entero, para poder concatenarlo con otras cadenas necesitamos que sea un string\n",
        "#para que no se confunda con otra variable, hay que poner self antes del objeto\n",
        "#Es decir, si antes hubieramos definido otra variable como marca, iba a intentar usar esa en ver de la de caracteristicas"
      ]
    },
    {
      "cell_type": "code",
      "execution_count": 11,
      "metadata": {
        "id": "nuJFpS4LCFJU",
        "outputId": "ba8d558e-7506-44fb-929f-be02a23a1aa4",
        "colab": {
          "base_uri": "https://localhost:8080/",
          "height": 36
        }
      },
      "outputs": [
        {
          "output_type": "execute_result",
          "data": {
            "text/plain": [
              "'Marca: Ford, Puertas: 4'"
            ],
            "application/vnd.google.colaboratory.intrinsic+json": {
              "type": "string"
            }
          },
          "metadata": {},
          "execution_count": 11
        }
      ],
      "source": [
        "ford_ka = Coche(\"Ford\")\n",
        "ford_ka.caracteristicas()"
      ]
    },
    {
      "cell_type": "markdown",
      "metadata": {
        "id": "vDAYUCBZCFJU"
      },
      "source": [
        "Fíjate que para llamar a las ruedas se usa `self`, a pesar de que no lo habíamos metido en el constructor. Así evitamos llamar a otra variable del programa que se llame *ruedas*. Nos aseguramos que son las ruedas de ese coche con el `self`."
      ]
    },
    {
      "cell_type": "code",
      "execution_count": 12,
      "metadata": {
        "id": "axuUXKyyCFJV"
      },
      "outputs": [],
      "source": [
        "class Coche:\n",
        "    ruedas = 4\n",
        "\n",
        "    def __init__(self, marca_coche, precio_coche, num_puertas = 4):\n",
        "        self.marca = marca_coche\n",
        "        self.puertas = num_puertas\n",
        "        self.precio = precio_coche\n",
        "      #creamos un metodo, luego necesitamos una funcion\n",
        "    def caracteristicas(self):# como norma basica el metodo necesita como primer arg self para poder usarlo\n",
        "      return \"Marca: \" + self.marca + \", Puertas: \" + str(self.puertas) #num_puertas es un entero, para poder concatenarlo con otras cadenas necesitamos que sea un string\n",
        "\n",
        "    def precio_actual(self, agnos):\n",
        "      if agnos <= 5:\n",
        "        return self.precio * 0.7\n",
        "      elif agnos > 5 and agnos < 10:\n",
        "        return self.precio * 0.5\n",
        "      else:\n",
        "        return self.precio * 0.3"
      ]
    },
    {
      "cell_type": "code",
      "execution_count": 14,
      "metadata": {
        "id": "Pd_hKV4MCFJV",
        "outputId": "7a3b1691-4885-44af-c702-7cbfabf1ab5c",
        "colab": {
          "base_uri": "https://localhost:8080/"
        }
      },
      "outputs": [
        {
          "output_type": "execute_result",
          "data": {
            "text/plain": [
              "17500.0"
            ]
          },
          "metadata": {},
          "execution_count": 14
        }
      ],
      "source": [
        "jeep_cherokee = Coche (\"Jeep\", 35000)\n",
        "jeep_cherokee.precio_actual(8)"
      ]
    }
  ],
  "metadata": {
    "kernelspec": {
      "display_name": "Python 3 (ipykernel)",
      "language": "python",
      "name": "python3"
    },
    "language_info": {
      "codemirror_mode": {
        "name": "ipython",
        "version": 3
      },
      "file_extension": ".py",
      "mimetype": "text/x-python",
      "name": "python",
      "nbconvert_exporter": "python",
      "pygments_lexer": "ipython3",
      "version": "3.9.7"
    },
    "colab": {
      "provenance": [],
      "include_colab_link": true
    }
  },
  "nbformat": 4,
  "nbformat_minor": 0
}