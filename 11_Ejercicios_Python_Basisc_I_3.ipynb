{
  "cells": [
    {
      "cell_type": "markdown",
      "metadata": {
        "id": "IN6V-fD1VdzA"
      },
      "source": [
        "![TheBridge_logo_RGB_color.jpg](attachment:TheBridge_logo_RGB_color.jpg)"
      ]
    },
    {
      "cell_type": "markdown",
      "metadata": {
        "id": "T0cSO3DoVdzS"
      },
      "source": [
        "![imagen](./img/ejercicios.png)"
      ]
    },
    {
      "cell_type": "markdown",
      "metadata": {
        "id": "JpZj_D8vVdzU"
      },
      "source": [
        "## EJERCICIOS PYTHON BASICO 3:\n",
        "## Operaciones matemáticas, comparación y booleanas"
      ]
    },
    {
      "cell_type": "markdown",
      "metadata": {
        "id": "euyNWdATVdzW"
      },
      "source": [
        "Completa los siguiente ejercicios, la solución completa a los mismos se publicarán en el repo del curso a lo largo del sprint. En algunos ejercicios se muestra la solución final, para que puedas comprobar que lo has hecho bien, pero lo importante es el código que generes. ¡Vaaamos, a ello...!"
      ]
    },
    {
      "cell_type": "markdown",
      "metadata": {
        "id": "D_m__g8dVdzZ"
      },
      "source": [
        "![ejercicio.png](./img/ejercicio.png)\n",
        "\n",
        "\n",
        "## Ejercicio 1\n",
        "Tenemos las siguientes variables:\n",
        "\n",
        "```Python\n",
        "A = 4\n",
        "B = \"Text\"\n",
        "C = 4.1\n",
        "```\n",
        "\n",
        "Comprueba:\n",
        "1. Si A y B son equivalentes\n",
        "2. Si A y C NO son equivalentes\n",
        "3. Si A es mayor que C\n",
        "4. Si C es menor o igual que A\n",
        "5. Si B NO es equivalente a C"
      ]
    },
    {
      "cell_type": "code",
      "execution_count": 2,
      "metadata": {
        "id": "S-o6JY59Vdzb",
        "outputId": "4898a5b7-84ce-481f-8b1f-2c81ea62e77c",
        "colab": {
          "base_uri": "https://localhost:8080/"
        }
      },
      "outputs": [
        {
          "output_type": "stream",
          "name": "stdout",
          "text": [
            "False\n",
            "True\n",
            "False\n",
            "False\n",
            "True\n"
          ]
        }
      ],
      "source": [
        "A = 4\n",
        "B = \"Text\"\n",
        "C = 4.1\n",
        "print(A == B)\n",
        "print(A != C)\n",
        "print(A > C)\n",
        "print(C <= A)\n",
        "print(B != C)"
      ]
    },
    {
      "cell_type": "markdown",
      "metadata": {
        "id": "iXUvgf9jVdzf"
      },
      "source": [
        "![ejercicio.png](./img/ejercicio.png)\n",
        "\n",
        "## Ejercicio 2\n",
        "Crea un programa donde se recojan dos inputs del usuario, y el output del programa sea si esos inputs son iguales o no"
      ]
    },
    {
      "cell_type": "code",
      "execution_count": 3,
      "metadata": {
        "id": "qFYSJf3iVdzh",
        "outputId": "0c1c58db-7120-41bd-e8b7-5c1939283932",
        "colab": {
          "base_uri": "https://localhost:8080/"
        }
      },
      "outputs": [
        {
          "output_type": "stream",
          "name": "stdout",
          "text": [
            "Primer valor=5\n",
            "Segundo valor=6\n",
            "Los valores 5 y 6  no son iguales\n"
          ]
        }
      ],
      "source": [
        "var_1 = input(\"Primer valor = \")\n",
        "var_2 = input(\"Segundo valor = \")\n",
        "\n",
        "if var_1==var_2:\n",
        "  print(f\"Los valores {var_1} y {var_2} sn iguales\")\n",
        "else:\n",
        "  print(f\"Los valores {var_1} y {var_2}  no son iguales\")"
      ]
    },
    {
      "cell_type": "markdown",
      "metadata": {
        "id": "uBO1Zjv9Vdzi"
      },
      "source": [
        "![ejercicio.png](./img/ejercicio.png)\n",
        "\n",
        "## Ejercicio 3\n",
        "Mismo programa que en 2, pero en esta ocasión tienen que ser tres inputs y dos salidas. Una de las salidas que nos indique si todos son iguales, y la otra si al menos dos inputs sí que lo son"
      ]
    },
    {
      "cell_type": "code",
      "execution_count": 4,
      "metadata": {
        "id": "clHL8DlsVdzk",
        "outputId": "8ff5b041-26c6-45bd-8003-57c1228dcfc8",
        "colab": {
          "base_uri": "https://localhost:8080/"
        }
      },
      "outputs": [
        {
          "output_type": "stream",
          "name": "stdout",
          "text": [
            "Primer valor = 7\n",
            "Segundo valor = 7\n",
            "Tercer valor = 8\n",
            "Los 3 valores son iguales:  False\n",
            "Al menos 2 valores son iguales:  True\n"
          ]
        }
      ],
      "source": [
        "var_1 = input(\"Primer valor = \")\n",
        "var_2 = input(\"Segundo valor = \")\n",
        "var_3 = input(\"Tercer valor = \")\n",
        "\n",
        "cond_1 = (var_1 == var_2 and var_2 == var_3)\n",
        "cond_2 = (var_1 == var_2 or var_1 == var_3 or var_2 == var_3)\n",
        "\n",
        "print(\"Los 3 valores son iguales: \", cond_1)\n",
        "print(\"Al menos 2 valores son iguales: \", cond_2)"
      ]
    },
    {
      "cell_type": "markdown",
      "metadata": {
        "id": "x-Pkc1YPVdzm"
      },
      "source": [
        "![ejercicio.png](./img/ejercicio.png)\n",
        "\n",
        "## Ejercicio 4\n",
        "Razona sin ejecutar código el output que obtendremos de las siguientes sentencias\n",
        "1. True and True and False\n",
        "2. not ((True or False) and (True or False))\n",
        "3. (False or False or False or True) and False\n",
        "4. not False and True and not True"
      ]
    },
    {
      "cell_type": "markdown",
      "metadata": {
        "id": "itsg7y7cVdzn"
      },
      "source": [
        "1. False, todos deberían de tener el valor True para set True con and\n",
        "2. not((True)and(True))= not(True) = False\n",
        "3. (True) and False= False\n",
        "4.not False=True\n",
        "  not True=False\n",
        "  True and True and False = False"
      ]
    }
  ],
  "metadata": {
    "kernelspec": {
      "display_name": "Curso_Online_DATA",
      "language": "python",
      "name": "python3"
    },
    "language_info": {
      "codemirror_mode": {
        "name": "ipython",
        "version": 3
      },
      "file_extension": ".py",
      "mimetype": "text/x-python",
      "name": "python",
      "nbconvert_exporter": "python",
      "pygments_lexer": "ipython3",
      "version": "3.11.5"
    },
    "orig_nbformat": 4,
    "colab": {
      "provenance": []
    }
  },
  "nbformat": 4,
  "nbformat_minor": 0
}