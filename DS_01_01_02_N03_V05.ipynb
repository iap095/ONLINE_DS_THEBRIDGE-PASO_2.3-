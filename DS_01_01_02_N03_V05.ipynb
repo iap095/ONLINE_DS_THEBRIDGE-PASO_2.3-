{
  "cells": [
    {
      "cell_type": "markdown",
      "metadata": {
        "id": "view-in-github",
        "colab_type": "text"
      },
      "source": [
        "<a href=\"https://colab.research.google.com/github/iap095/ONLINE_DS_THEBRIDGE-PASO_2.3-/blob/main/DS_01_01_02_N03_V05.ipynb\" target=\"_parent\"><img src=\"https://colab.research.google.com/assets/colab-badge.svg\" alt=\"Open In Colab\"/></a>"
      ]
    },
    {
      "cell_type": "markdown",
      "metadata": {
        "id": "BP_-oaC0uqQs"
      },
      "source": [
        "<img src = \"./img/TheBridge_logo_RGB_color.jpg\" width = 500><img src = \"./img/python.jpg\" width = 500>"
      ]
    },
    {
      "cell_type": "markdown",
      "metadata": {
        "id": "FG9qbtJBuqQx"
      },
      "source": [
        "# Python Basics I\n"
      ]
    },
    {
      "cell_type": "markdown",
      "metadata": {
        "id": "r6eHVXpkuqQz"
      },
      "source": [
        "## Tipos de los datos\n",
        "Python es un lenguaje fuertemente tipado. Eso significa que las variables que usamos pertenecen a un tipo de datos: numero entero (int), real (float), texto (String), u otro tipo de objetos.\n",
        "\n",
        "**¿Por qué es importante saber bien de que tipos son los datos?** Porque cada tipo de dato tiene una serie propiedades y operaciones asociadas. Por ejemplo, a un texto no lo puedo sumar 5. Por lo que cuando vayamos a hacer operaciones entre ellos, tenemos que asegurarnos de que son del mismo tipo para que el resultado sea el esperado. `texto + 5` no tiene sentido y va a dar error. Parece obvio, pero hay ocasiones en las que los tipos de los datos no son los esperados.\n",
        "\n",
        "**¿Cuántos tipos de datos hay?** Básicamente aquí no hay límites. En este notebook veremos los más básicos, pero en notebooks posteriores verás que puedes crearte tus propios tipos de datos mediante las **clases**. En Python hay una serie de tipos de datos básicos, que podremos usar sin importar ningun módulo externo, son los llamados [*built-in Types*](https://docs.python.org/3/library/stdtypes.html). Estos son los más comunes:\n",
        "\n",
        "* **Numérico**: tenemos `int`, `float` y `complex`. Dependiendo de si es un numero entero, uno real o un complejo.\n",
        "* **String**: o Cadena. Cadena de texto plano\n",
        "* **Booleano**: o Lógico. `True`/`False`\n",
        "\n",
        "**¿Cómo sabemos el tipo de datos de una variable?** Mediante `type(nombre_variable)`"
      ]
    },
    {
      "cell_type": "markdown",
      "metadata": {
        "id": "5Eu8d6YguqQ1"
      },
      "source": [
        "## Contenidos"
      ]
    },
    {
      "cell_type": "markdown",
      "metadata": {
        "id": "muSH95_BuqQ1"
      },
      "source": [
        "* [Numéricos](#Numéricos)\n",
        "* [Strings\n",
        "](#Strings\n",
        ")\n",
        "* [Booleano\n",
        "](#Booleano\n",
        ")\n"
      ]
    },
    {
      "cell_type": "markdown",
      "metadata": {
        "id": "1tdL9J4SuqQ2"
      },
      "source": [
        "### Numéricos[al indice](#Contenidos)\n"
      ]
    },
    {
      "cell_type": "code",
      "execution_count": 1,
      "metadata": {
        "id": "LFhyivipuqQ3",
        "outputId": "8022b9a5-bbe9-43cc-ec97-c29cbb61c8dc",
        "colab": {
          "base_uri": "https://localhost:8080/"
        }
      },
      "outputs": [
        {
          "output_type": "execute_result",
          "data": {
            "text/plain": [
              "int"
            ]
          },
          "metadata": {},
          "execution_count": 1
        }
      ],
      "source": [
        "numero = 22\n",
        "type(numero)"
      ]
    },
    {
      "cell_type": "markdown",
      "metadata": {
        "id": "CdN0TQMpuqQ5"
      },
      "source": [
        "Bien, es un ***int***, un número entero. Si lo que quiero es un numero real, es decir, que tenga decimales, le añado un punto"
      ]
    },
    {
      "cell_type": "code",
      "execution_count": 2,
      "metadata": {
        "id": "r9nxTpcluqQ5",
        "outputId": "2f040f72-1c8f-404e-ab1b-f2bb182cc729",
        "colab": {
          "base_uri": "https://localhost:8080/"
        }
      },
      "outputs": [
        {
          "output_type": "stream",
          "name": "stdout",
          "text": [
            "<class 'float'>\n"
          ]
        }
      ],
      "source": [
        "numero_real = 22.0\n",
        "print(type(numero_real))"
      ]
    },
    {
      "cell_type": "markdown",
      "metadata": {
        "id": "ysbEylhiuqQ6"
      },
      "source": [
        "Aunque no le haya añadido decimales como tal, ya le estoy diciendo a Python que esta variable es un numero real (***float***)."
      ]
    },
    {
      "cell_type": "code",
      "execution_count": 5,
      "metadata": {
        "id": "b7T3x7heuqQ8",
        "outputId": "336bd33e-de6b-4338-990e-b88c8428fb85",
        "colab": {
          "base_uri": "https://localhost:8080/"
        }
      },
      "outputs": [
        {
          "output_type": "execute_result",
          "data": {
            "text/plain": [
              "float"
            ]
          },
          "metadata": {},
          "execution_count": 5
        }
      ],
      "source": [
        "numero_real_decimal = 22.45123\n",
        "type(numero_real_decimal)"
      ]
    },
    {
      "cell_type": "markdown",
      "metadata": {
        "id": "01b3VZgjuqQ8"
      },
      "source": [
        "Algunas operaciones básicas que podemos hacer con los numeros:\n",
        "* Sumar: `+`\n",
        "* Restar: `-`\n",
        "* Multiplicar: `*`\n",
        "* Dividir: `/`\n",
        "* Elevar: `**`\n",
        "* Cociente division: `//`\n",
        "* Resto de la división: `%`"
      ]
    },
    {
      "cell_type": "code",
      "execution_count": 7,
      "metadata": {
        "id": "rSxGsfwhuqQ9",
        "outputId": "c865c561-72d6-413e-b8e9-393ef7ccf342",
        "colab": {
          "base_uri": "https://localhost:8080/"
        }
      },
      "outputs": [
        {
          "output_type": "stream",
          "name": "stdout",
          "text": [
            "Sumas/restas\n",
            "3\n",
            "3.0\n",
            "3.0\n",
            "-1\n",
            "Multiplicaciones/Divisiones\n",
            "4\n",
            "4.0\n",
            "1.0\n",
            "100.0\n",
            "Resto de la división\n",
            "3.3333333333333335\n",
            "3\n",
            "1\n",
            "3\n"
          ]
        }
      ],
      "source": [
        "print(\"Sumas/restas\")\n",
        "print(1 + 2)\n",
        "print(1.0 + 2) # Fijate que cuando fuerzo a que alguno de los numeros sea float, el resultado es float\n",
        "print(1 + 2.0)\n",
        "print(1-2)\n",
        "\n",
        "print(\"Multiplicaciones/Divisiones\")\n",
        "print(2 * 2)\n",
        "print(2.0 * 2) # Ocurre lo mismo que en las sumas, cuando ponemos uno de los numeros como float.\n",
        "print(2/2) # Al hacer la división, directamente convierte el numero en float, a pesar de que los dos son enteros y el resultado también.\n",
        "print(1000/10)\n",
        "\n",
        "print(\"Resto de la división\")\n",
        "print(10/3)\n",
        "print(int(10/3)) # Me quedo con el entero de la division\n",
        "print(10 % 3) # Me quedo con el resto de la division\n",
        "print(10 // 3) #Se queda con el cociente"
      ]
    },
    {
      "cell_type": "code",
      "source": [
        "n = 23\n",
        "print(\"¿Es\", n, \"par?\")\n",
        "resto = n % 2\n",
        "print(\"El resto es\",resto)\n",
        "if resto == 0:\n",
        "  print(\"Es par\")\n",
        "else:\n",
        "    print(\"Es impar\")"
      ],
      "metadata": {
        "id": "RTOddMi4uqfJ",
        "outputId": "6aa5fe12-0fe4-44c7-c754-ac8ac409b59b",
        "colab": {
          "base_uri": "https://localhost:8080/"
        }
      },
      "execution_count": 10,
      "outputs": [
        {
          "output_type": "stream",
          "name": "stdout",
          "text": [
            "¿Es 23 par?\n",
            "El resto es 1\n",
            "Es impar\n"
          ]
        }
      ]
    },
    {
      "cell_type": "markdown",
      "metadata": {
        "id": "yA13Hs27uqQ_"
      },
      "source": [
        "### Strings\n",
        "[al indice](#Contenidos)\n",
        "El tercer tipo de datos más común es el *String*, o cadena de texto. Hay varias maneras de declararlo:"
      ]
    },
    {
      "cell_type": "code",
      "execution_count": 12,
      "metadata": {
        "id": "4goCVot_uqRA",
        "outputId": "a59a2ea0-36d0-46a4-90f7-58eed3039bbb",
        "colab": {
          "base_uri": "https://localhost:8080/"
        }
      },
      "outputs": [
        {
          "output_type": "stream",
          "name": "stdout",
          "text": [
            "Esto es una variable de tipo string\n",
            "Esto es una variable tipo string con comillas simples\n"
          ]
        }
      ],
      "source": [
        "#Se declaran con comillas dobles\n",
        "cadena = \"Esto es una variable de tipo string\"\n",
        "\n",
        "#O con comillas simples\n",
        "cadena_2 = 'Esto es una variable tipo string con comillas simples'\n",
        "print(cadena)\n",
        "print(cadena_2)"
      ]
    },
    {
      "cell_type": "markdown",
      "metadata": {
        "id": "IY2mww-1uqRA"
      },
      "source": [
        "Si da la casualidad de que en el texto hay comillas, tenemos la posibilidad de que Python las interprete como parte del texto y no como comando de inicio/cierre de String"
      ]
    },
    {
      "cell_type": "code",
      "execution_count": 13,
      "metadata": {
        "id": "xRz_6JlguqRB",
        "outputId": "872ce211-8325-4a28-c150-5dbdfb7228e2",
        "colab": {
          "base_uri": "https://localhost:8080/"
        }
      },
      "outputs": [
        {
          "output_type": "stream",
          "name": "stdout",
          "text": [
            "String con 'simples'\n",
            "String con \"dobles\"\n",
            "String con \"simpes o dobles\"\n"
          ]
        }
      ],
      "source": [
        "print(\"String con 'simples'\")\n",
        "print('String con \"dobles\"')\n",
        "print(\"String con \\\"simpes o dobles\\\"\")"
      ]
    },
    {
      "cell_type": "markdown",
      "metadata": {
        "id": "dReNlP-luqRB"
      },
      "source": [
        "En ocasiones queremos poner saltos de línea o tabulaciones en los prints, o simplemente en una variable de tipo String. Para ello usamos los [*escape characters*](https://www.w3schools.com/python/gloss_python_escape_characters.asp) como `\\n` para saltos de línea o `\\t` para tabulaciones."
      ]
    },
    {
      "cell_type": "code",
      "execution_count": 15,
      "metadata": {
        "id": "ReM5-dxYuqRC",
        "outputId": "934ba530-6463-45c2-d363-43683ce642a4",
        "colab": {
          "base_uri": "https://localhost:8080/"
        }
      },
      "outputs": [
        {
          "output_type": "stream",
          "name": "stdout",
          "text": [
            "Primera linea \n",
            "Segunda Linea\n",
            "\tTercera linea\n"
          ]
        }
      ],
      "source": [
        "print(\"Primera linea \\nSegunda Linea\\n\\tTercera linea\")"
      ]
    },
    {
      "cell_type": "code",
      "source": [
        "mi_string = \"Primera lines\\nSegunda lines\\n\\tTercera linea, tabulada\"\n",
        "print(mi_string)"
      ],
      "metadata": {
        "id": "uh6bn24xwulP",
        "outputId": "42bae533-df03-4f58-b868-4cc5c120b07a",
        "colab": {
          "base_uri": "https://localhost:8080/"
        }
      },
      "execution_count": 18,
      "outputs": [
        {
          "output_type": "stream",
          "name": "stdout",
          "text": [
            "Primera lines\n",
            "Segunda lines\n",
            "\tTercera linea, tabulada\n"
          ]
        }
      ]
    },
    {
      "cell_type": "markdown",
      "metadata": {
        "id": "f38LkB9cuqRC"
      },
      "source": [
        "Para unir dos variables de tipo String, simplemente usamos el `+`"
      ]
    },
    {
      "cell_type": "code",
      "execution_count": 20,
      "metadata": {
        "id": "8_iDQCz2uqRD",
        "outputId": "12048be7-6ee0-4f42-a37a-4f8156b468b6",
        "colab": {
          "base_uri": "https://localhost:8080/"
        }
      },
      "outputs": [
        {
          "output_type": "stream",
          "name": "stdout",
          "text": [
            "Antonia Scott\n"
          ]
        }
      ],
      "source": [
        "nombre = \"Antonia\"\n",
        "apellido = \"Scott\"\n",
        "nombre_apellido = nombre + \" \" + apellido\n",
        "print(nombre_apellido)"
      ]
    },
    {
      "cell_type": "code",
      "source": [
        "esto_es_una_prueba = \"Pues eso, que estamos jugando\"\n",
        "un_entero = 100\n",
        "print(esto_es_una_prueba + un_entero)"
      ],
      "metadata": {
        "id": "om7DBT1_xfl6",
        "outputId": "098df606-89bb-46c5-9905-392426080b0b",
        "colab": {
          "base_uri": "https://localhost:8080/",
          "height": 187
        }
      },
      "execution_count": 21,
      "outputs": [
        {
          "output_type": "error",
          "ename": "TypeError",
          "evalue": "can only concatenate str (not \"int\") to str",
          "traceback": [
            "\u001b[0;31m---------------------------------------------------------------------------\u001b[0m",
            "\u001b[0;31mTypeError\u001b[0m                                 Traceback (most recent call last)",
            "\u001b[0;32m<ipython-input-21-7cda299afa64>\u001b[0m in \u001b[0;36m<cell line: 3>\u001b[0;34m()\u001b[0m\n\u001b[1;32m      1\u001b[0m \u001b[0mesto_es_una_prueba\u001b[0m \u001b[0;34m=\u001b[0m \u001b[0;34m\"Pues eso, que estamos jugando\"\u001b[0m\u001b[0;34m\u001b[0m\u001b[0;34m\u001b[0m\u001b[0m\n\u001b[1;32m      2\u001b[0m \u001b[0mun_entero\u001b[0m \u001b[0;34m=\u001b[0m \u001b[0;36m100\u001b[0m\u001b[0;34m\u001b[0m\u001b[0;34m\u001b[0m\u001b[0m\n\u001b[0;32m----> 3\u001b[0;31m \u001b[0mprint\u001b[0m\u001b[0;34m(\u001b[0m\u001b[0mesto_es_una_prueba\u001b[0m \u001b[0;34m+\u001b[0m \u001b[0mun_entero\u001b[0m\u001b[0;34m)\u001b[0m\u001b[0;34m\u001b[0m\u001b[0;34m\u001b[0m\u001b[0m\n\u001b[0m",
            "\u001b[0;31mTypeError\u001b[0m: can only concatenate str (not \"int\") to str"
          ]
        }
      ]
    },
    {
      "cell_type": "markdown",
      "metadata": {
        "id": "wDAkMt23uqRD"
      },
      "source": [
        "### Booleano\n",
        "[al indice](#Contenidos)\n",
        "Por último, el cuarto tipo de datos basiquísimo es el *booleano*: `True`/`False`. Para que Python reconoza este tipo de datos, hay que escribirlos con la primera letra en mayúscula"
      ]
    },
    {
      "cell_type": "code",
      "execution_count": 22,
      "metadata": {
        "id": "mlyZHhDRuqRD",
        "outputId": "9aa6ed65-4178-4221-dd36-2717f6269130",
        "colab": {
          "base_uri": "https://localhost:8080/"
        }
      },
      "outputs": [
        {
          "output_type": "execute_result",
          "data": {
            "text/plain": [
              "True"
            ]
          },
          "metadata": {},
          "execution_count": 22
        }
      ],
      "source": [
        "True"
      ]
    },
    {
      "cell_type": "code",
      "source": [
        "ya_se_de_python = False\n",
        "print(type(ya_se_de_python))"
      ],
      "metadata": {
        "id": "33TEh3Eax6yx",
        "outputId": "5ba1dfbe-f22c-4e2c-911a-fc81bf2f590c",
        "colab": {
          "base_uri": "https://localhost:8080/"
        }
      },
      "execution_count": 23,
      "outputs": [
        {
          "output_type": "stream",
          "name": "stdout",
          "text": [
            "<class 'bool'>\n"
          ]
        }
      ]
    },
    {
      "cell_type": "code",
      "source": [
        "dinerito = 5\n",
        "dinerito >= 15"
      ],
      "metadata": {
        "id": "5ca1sdMzyFrH",
        "outputId": "abce5de3-ece7-4c6e-f1c5-170bb8833078",
        "colab": {
          "base_uri": "https://localhost:8080/"
        }
      },
      "execution_count": 24,
      "outputs": [
        {
          "output_type": "execute_result",
          "data": {
            "text/plain": [
              "False"
            ]
          },
          "metadata": {},
          "execution_count": 24
        }
      ]
    },
    {
      "cell_type": "code",
      "source": [
        "dinerito = 15\n",
        "cond_1 = dinerito >= 15\n",
        "print(cond_1)\n",
        "print(type(cond_1))"
      ],
      "metadata": {
        "id": "w2IkRF2xyKQl",
        "outputId": "58c56043-f346-4d46-852f-b9b916d22ef2",
        "colab": {
          "base_uri": "https://localhost:8080/"
        }
      },
      "execution_count": 27,
      "outputs": [
        {
          "output_type": "stream",
          "name": "stdout",
          "text": [
            "True\n",
            "<class 'bool'>\n"
          ]
        }
      ]
    },
    {
      "cell_type": "markdown",
      "metadata": {
        "id": "gWKealPpuqRE"
      },
      "source": [
        "Tipos de datos hay muchos, verás más adelante cómo crear tus propios tipos de datos mediante las clases y los objetos. Pero por ahora, quédate con los tipos de datos más simples:\n",
        "* **int**: entero\n",
        "* **float**: real\n",
        "* **str**: cadena de texto\n",
        "* **booleano**: true/false"
      ]
    },
    {
      "cell_type": "markdown",
      "metadata": {
        "id": "sWHxjqccuqRE"
      },
      "source": [
        "En otros lenguajes de programación el valor numérico suele ir más desagregado dependiendo del volumen del mismo. No es lo mismo tener un `double`, que un `float`. Por suerte en Python no hay que preocuparse de eso :)\n",
        "\n",
        "Veamos más ejemplos"
      ]
    },
    {
      "cell_type": "code",
      "execution_count": 28,
      "metadata": {
        "id": "7lqR02I2uqRF",
        "outputId": "636594cb-70e1-4286-b6ef-f1a55f80a4cf",
        "colab": {
          "base_uri": "https://localhost:8080/"
        }
      },
      "outputs": [
        {
          "output_type": "stream",
          "name": "stdout",
          "text": [
            "<class 'float'>\n"
          ]
        }
      ],
      "source": [
        "print(type(1.0))"
      ]
    },
    {
      "cell_type": "code",
      "execution_count": 29,
      "metadata": {
        "id": "Q4PSshpauqRF",
        "outputId": "985a195c-64c7-49e5-c1c0-3a1afb9f7d7b",
        "colab": {
          "base_uri": "https://localhost:8080/"
        }
      },
      "outputs": [
        {
          "output_type": "stream",
          "name": "stdout",
          "text": [
            "<class 'int'>\n"
          ]
        }
      ],
      "source": [
        "print(type(-74))"
      ]
    },
    {
      "cell_type": "code",
      "source": [
        "print(type(\"1.0\"))"
      ],
      "metadata": {
        "id": "HK5aPd-4yxkL",
        "outputId": "d6be7b9c-0469-477b-e10f-266e7bf1f62c",
        "colab": {
          "base_uri": "https://localhost:8080/"
        }
      },
      "execution_count": 30,
      "outputs": [
        {
          "output_type": "stream",
          "name": "stdout",
          "text": [
            "<class 'str'>\n"
          ]
        }
      ]
    },
    {
      "cell_type": "code",
      "source": [
        "print(type(cond_1))"
      ],
      "metadata": {
        "id": "Slp8Qv60y0Rn",
        "outputId": "b5a8daad-8574-4bae-f60f-1cab5ddd3585",
        "colab": {
          "base_uri": "https://localhost:8080/"
        }
      },
      "execution_count": 33,
      "outputs": [
        {
          "output_type": "stream",
          "name": "stdout",
          "text": [
            "<class 'bool'>\n"
          ]
        }
      ]
    }
  ],
  "nbformat": 4,
  "nbformat_minor": 0,
  "metadata": {
    "kernelspec": {
      "display_name": "Python 3",
      "language": "python",
      "name": "python3"
    },
    "language_info": {
      "codemirror_mode": {
        "name": "ipython",
        "version": 3
      },
      "file_extension": ".py",
      "mimetype": "text/x-python",
      "name": "python",
      "nbconvert_exporter": "python",
      "pygments_lexer": "ipython3",
      "version": "3.8.3"
    },
    "colab": {
      "provenance": [],
      "include_colab_link": true
    }
  }
}