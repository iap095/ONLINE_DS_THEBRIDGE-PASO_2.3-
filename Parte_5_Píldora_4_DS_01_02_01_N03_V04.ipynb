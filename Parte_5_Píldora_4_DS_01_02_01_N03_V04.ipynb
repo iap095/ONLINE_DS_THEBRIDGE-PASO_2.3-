{
  "cells": [
    {
      "cell_type": "markdown",
      "metadata": {
        "id": "view-in-github",
        "colab_type": "text"
      },
      "source": [
        "<a href=\"https://colab.research.google.com/github/iap095/ONLINE_DS_THEBRIDGE-PASO_2.3-/blob/main/Parte_5_P%C3%ADldora_4_DS_01_02_01_N03_V04.ipynb\" target=\"_parent\"><img src=\"https://colab.research.google.com/assets/colab-badge.svg\" alt=\"Open In Colab\"/></a>"
      ]
    },
    {
      "cell_type": "markdown",
      "metadata": {
        "id": "Mh5Hg3vV-XyR"
      },
      "source": []
    },
    {
      "cell_type": "markdown",
      "metadata": {
        "id": "JXZZXEIv-XyW"
      },
      "source": [
        "## Colecciones Python: Diccionarios\n"
      ]
    },
    {
      "cell_type": "markdown",
      "metadata": {
        "id": "pEHX1kf6-XyX"
      },
      "source": [
        "### Contenidos\n"
      ]
    },
    {
      "cell_type": "markdown",
      "metadata": {
        "id": "lzeNlr89-XyX"
      },
      "source": [
        "* [Introducción](#Introducción)\n",
        "\n",
        "* [Acceso, modificación, añadir, eliminar](#Acceso,-modificación,-añadir,-eliminar)\n",
        "\n",
        "* [Iterar](#Iterar)\n",
        "\n"
      ]
    },
    {
      "cell_type": "markdown",
      "metadata": {
        "id": "js4fJj_v-XyY"
      },
      "source": [
        "### Introducción\n",
        "[al indice](#Contenidos)  \n",
        "\n",
        "En este tipo de colecciones no solo podemos agrupar datos, sino que tenemos la posibilidad de establecer una relación entre los mismos, con la forma **clave: valor**.\n",
        "\n",
        "La sintaxis  es mediante llaves `{}`\n",
        "\n",
        "> nombre_diccionario = {clave1: valor1, clave2: valor2, clave3: valor3}\n",
        "\n",
        "Si veíamos que las listas son elementos mutables y y ordenadas, y las tuplas inmutables y ordenadas, los diccionarios son:\n",
        "\n",
        "* **Mutables**: podemos modificar sus elementos\n",
        "* **Desordenado**: la potencia de acceso de los diccionarios es su formato clave-valor, no su orden. Aun así, el dicionario conserva el orden de los elemento según los vamos insertando.\n",
        "\n",
        "Vamos a declarar un diccionario en el que definiremos elementos de un coche"
      ]
    },
    {
      "cell_type": "code",
      "execution_count": 4,
      "metadata": {
        "colab": {
          "base_uri": "https://localhost:8080/"
        },
        "id": "sqgxUWtK-XyZ",
        "outputId": "10b98743-3da9-4ffa-923e-6c06e2886f74"
      },
      "outputs": [
        {
          "output_type": "execute_result",
          "data": {
            "text/plain": [
              "{'color': 'Rojo',\n",
              " 'Marca': 'Tesla',\n",
              " 'Modelo': 'Cybertruck',\n",
              " 'Peso': 3500,\n",
              " 'Cambio automático': True}"
            ]
          },
          "metadata": {},
          "execution_count": 4
        }
      ],
      "source": [
        "#la clave es lo que me va a permitir acceder a los distintos valores\n",
        "#En vez de hacerlo por posiciones lo hago por etiquetas\n",
        "#que sean desordenados quiere decir que no vamos a utilizar indices numericos para acceder a los elemnetos del diccionario, sino que vamos a usar las claves\n",
        "\n",
        "coche_dict = {\n",
        "    \"color\": \"Rojo\",\n",
        "    \"Marca\": \"Tesla\",\n",
        "    \"Modelo\": \"Cybertruck\",\n",
        "    \"Peso\": 3500,\n",
        "    \"Cambio automático\": True\n",
        "}\n",
        "#Lo normal es usar String como etiquetas, el valor puede ser de cualquier tipo.\n",
        "#Lo ponemos liena a linea por comodidad\n",
        "coche_dict\n"
      ]
    },
    {
      "cell_type": "markdown",
      "metadata": {
        "id": "4srpaIHB-Xyb"
      },
      "source": [
        "Se puede almacenar todo tipo de datos: numero, cadena, booleano, listas, tuplas, diccionarios...\n",
        "\n",
        "Cuando declaremos el diccionario, lo podemos hacer en una sola linea `coche = {\"color\"=\"Gris\", \"marca\"...}`, aunque se recomienda por sencillez a la hora de leer el código, realizar esta acción en varias líneas. Si escribimos el primer elemento y presionamos enter, Jupyter introduce automáticamente la tabulación."
      ]
    },
    {
      "cell_type": "markdown",
      "metadata": {
        "id": "ego6S5P8-Xyc"
      },
      "source": [
        "### Acceso, modificación, añadir, eliminar\n",
        "[al indice](#Contenidos)  \n",
        "\n"
      ]
    },
    {
      "cell_type": "code",
      "execution_count": 12,
      "metadata": {
        "colab": {
          "base_uri": "https://localhost:8080/"
        },
        "id": "vxG9S5mt-Xyc",
        "outputId": "6d4a0973-9d37-44c3-8ee5-bb510245fc3d"
      },
      "outputs": [
        {
          "output_type": "stream",
          "name": "stdout",
          "text": [
            "['Rojo', 'Gris']\n",
            "{'color': ['Rojo', 'Gris'], 'Marca': 'Tesla', 'Modelo': 'Cybertruck', 'Peso': 3500, 'Cambio automático': True}\n",
            "6\n",
            "{'color': ['Rojo', 'Gris'], 'Marca': 'Tesla', 'Modelo': 'Cybertruck', 'Peso': 3500, 'Cambio automático': True}\n",
            "dict_keys(['color', 'Marca', 'Modelo', 'Peso', 'Cambio automático'])\n",
            "dict_values([['Rojo', 'Gris'], 'Tesla', 'Cybertruck', 3500, True])\n"
          ]
        }
      ],
      "source": [
        "#Como se añaden y eleminan elementos\n",
        "\n",
        "#1.Acceso\n",
        "print(coche_dict[\"color\"])\n",
        "#Key error significa que esa clave no existe en ese diccionario\n",
        "\n",
        "#Son mutables:\n",
        "coche_dict[\"color\"] = [\"Rojo\", \"Gris\"]#cambia en la etiqueta color el valor rojo y gris. Ahora es una lista\n",
        "print(coche_dict)\n",
        "\n",
        "#Añadir elemento\n",
        "coche_dict[\"puertas\"] = 6\n",
        "print(coche_dict[\"puertas\"])\n",
        "\n",
        "#Eliminar un elemnto\n",
        "del coche_dict[\"puertas\"]\n",
        "print(coche_dict)\n",
        "\n",
        "\n",
        "#Metodo para coconer las claves del diccionario:\n",
        "print(coche_dict.keys())\n",
        "\n",
        "#Metodo para conocer los valores del diccionario\n",
        "print(coche_dict.values())"
      ]
    },
    {
      "cell_type": "markdown",
      "metadata": {
        "id": "zXa5XN2h-Xyc"
      },
      "source": [
        "Para más detalle de los métodos de los diccionario puedes [consultar la documentación](https://www.w3schools.com/python/python_ref_dictionary.asp)"
      ]
    },
    {
      "cell_type": "code",
      "execution_count": 13,
      "metadata": {
        "colab": {
          "base_uri": "https://localhost:8080/"
        },
        "id": "gGKnxBQ8-Xyd",
        "outputId": "c522aa9a-af7d-4a3e-9ef2-e6849d5e0be8"
      },
      "outputs": [
        {
          "output_type": "stream",
          "name": "stdout",
          "text": [
            "{'dicerccion': 'Motesa 12', 'tamaño': 123}\n"
          ]
        }
      ],
      "source": [
        "# Podemos empezar tambien mediante un diccionario vacío\n",
        "tienda = {}#diccionario vacio\n",
        "tienda[\"dicerccion\"] = \"Motesa 12\"\n",
        "tienda[\"tamaño\"] = 123\n",
        "print(tienda)"
      ]
    },
    {
      "cell_type": "markdown",
      "metadata": {
        "id": "CHrYalr_-Xye"
      },
      "source": [
        "<table align=\"left\">\n",
        " <tr>\n",
        "     <td style=\"text-align:left\">\n",
        "         <h3>ERRORES en diccionarios</h3>\n",
        "         \n",
        " </td></tr>\n",
        "</table>"
      ]
    },
    {
      "cell_type": "markdown",
      "metadata": {
        "id": "dy0OBRih-Xye"
      },
      "source": [
        "Si hay una clave que no existe en el diccionario, saltará un error.\n",
        "\n",
        "En este caso, el error es bastante intuitivo: `KeyError`, no encuentra la clave"
      ]
    },
    {
      "cell_type": "code",
      "execution_count": 15,
      "metadata": {
        "colab": {
          "base_uri": "https://localhost:8080/",
          "height": 224
        },
        "id": "sTO_Sqyr-Xyf",
        "outputId": "93335ff6-c9bf-47e8-a110-678245a00194"
      },
      "outputs": [
        {
          "output_type": "error",
          "ename": "KeyError",
          "evalue": "'puertas'",
          "traceback": [
            "\u001b[0;31m---------------------------------------------------------------------------\u001b[0m",
            "\u001b[0;31mKeyError\u001b[0m                                  Traceback (most recent call last)",
            "\u001b[0;32m<ipython-input-15-179a0b618280>\u001b[0m in \u001b[0;36m<cell line: 1>\u001b[0;34m()\u001b[0m\n\u001b[0;32m----> 1\u001b[0;31m \u001b[0mcoche_dict\u001b[0m\u001b[0;34m[\u001b[0m\u001b[0;34m\"puertas\"\u001b[0m\u001b[0;34m]\u001b[0m\u001b[0;34m\u001b[0m\u001b[0;34m\u001b[0m\u001b[0m\n\u001b[0m\u001b[1;32m      2\u001b[0m \u001b[0;31m#Estamos intentado acceder a una clave que no existe\u001b[0m\u001b[0;34m\u001b[0m\u001b[0;34m\u001b[0m\u001b[0m\n\u001b[1;32m      3\u001b[0m \u001b[0;31m#Podemos sacar todas las claves con .key para ver el fallo o usar el metodo get que nos permite buscar una clave en los diccionarios.\u001b[0m\u001b[0;34m\u001b[0m\u001b[0;34m\u001b[0m\u001b[0m\n\u001b[1;32m      4\u001b[0m \u001b[0;31m#Si esa clave no existe se da un valor por defecto\u001b[0m\u001b[0;34m\u001b[0m\u001b[0;34m\u001b[0m\u001b[0m\n\u001b[1;32m      5\u001b[0m \u001b[0;34m\u001b[0m\u001b[0m\n",
            "\u001b[0;31mKeyError\u001b[0m: 'puertas'"
          ]
        }
      ],
      "source": [
        "coche_dict[\"puertas\"]\n",
        "#Estamos intentado acceder a una clave que no existe\n",
        "#Podemos sacar todas las claves con .key para ver el fallo o usar el metodo get que nos permite buscar una clave en los diccionarios.\n",
        "#Si esa clave no existe se da un valor por defecto\n"
      ]
    },
    {
      "cell_type": "code",
      "source": [],
      "metadata": {
        "id": "k2ykXAuGCN0_"
      },
      "execution_count": null,
      "outputs": []
    },
    {
      "cell_type": "markdown",
      "metadata": {
        "id": "10irzi8--Xyf"
      },
      "source": [
        "**¿Cómo solventar esto?** Sirmpre tienes la opción de usar el bloque `try/except`, pero en este caso, los diccionarios tienen una solución más elegante: `mi_diccionario.get(clave, valor si no existe)`"
      ]
    },
    {
      "cell_type": "code",
      "execution_count": 19,
      "metadata": {
        "colab": {
          "base_uri": "https://localhost:8080/"
        },
        "id": "kNwb2FW3-Xyg",
        "outputId": "039265da-d95f-44c8-a12f-b69e655e5abe"
      },
      "outputs": [
        {
          "output_type": "stream",
          "name": "stdout",
          "text": [
            "4\n",
            "Tesla\n"
          ]
        }
      ],
      "source": [
        "numero_de_puertas = coche_dict.get(\"puertas\",4)# si no existe la var puertas dime que vale 4\n",
        "print(numero_de_puertas)\n",
        "Marca = coche_dict.get(\"Marca\",\"desconocida\")\n",
        "print(Marca)# me devuelve Tesla ya que esta var si existe en el diccionario"
      ]
    },
    {
      "cell_type": "markdown",
      "metadata": {
        "id": "IJxkPprQ-Xyg"
      },
      "source": [
        "### Iterar\n",
        "[al indice](#Contenidos)  \n",
        "\n",
        "Que el diccionario no esté ordenado, no quiere decir que no podamos iterar sus elementos, ya que también es un **interable**, como los son las listas o las tuplas."
      ]
    },
    {
      "cell_type": "code",
      "execution_count": 21,
      "metadata": {
        "colab": {
          "base_uri": "https://localhost:8080/"
        },
        "id": "d8e-quz4-Xyg",
        "outputId": "6e8137e8-947e-4174-c401-d2e5946a9494"
      },
      "outputs": [
        {
          "output_type": "stream",
          "name": "stdout",
          "text": [
            "color\n",
            "['Rojo', 'Gris']\n",
            "Marca\n",
            "Tesla\n",
            "Modelo\n",
            "Cybertruck\n",
            "Peso\n",
            "3500\n",
            "Cambio automático\n",
            "True\n"
          ]
        }
      ],
      "source": [
        "for i in coche_dict:\n",
        "  print(i)\n",
        "  #hemos iterado por las claves\n",
        "  print(coche_dict[i])\n",
        "  #con el segundo print nos da los valores de las claves"
      ]
    },
    {
      "cell_type": "code",
      "execution_count": 22,
      "metadata": {
        "colab": {
          "base_uri": "https://localhost:8080/"
        },
        "id": "ejKEIs28-Xyh",
        "outputId": "06eff005-3cc3-4c66-8e78-5293416729a9"
      },
      "outputs": [
        {
          "output_type": "stream",
          "name": "stdout",
          "text": [
            "color : ['Rojo', 'Gris']\n",
            "Marca : Tesla\n",
            "Modelo : Cybertruck\n",
            "Peso : 3500\n",
            "Cambio automático : True\n"
          ]
        }
      ],
      "source": [
        "#Lo mismo pero mas ordenado\n",
        "for i in coche_dict:\n",
        "  print(i,\":\", coche_dict[i])"
      ]
    },
    {
      "cell_type": "code",
      "source": [
        "coche_dict.items()\n",
        "#nos devuelve una lista de tuplas donde tengo la clave y el valor\n",
        "#Esto se puede iterar a traves de un bucle:\n",
        "for clave,valor in coche_dict.items():\n",
        "  print(clave,\":\",valor)"
      ],
      "metadata": {
        "colab": {
          "base_uri": "https://localhost:8080/"
        },
        "id": "cmQ4tPcpDOqg",
        "outputId": "97676b66-5d16-4a49-b9ac-208898911a8e"
      },
      "execution_count": 25,
      "outputs": [
        {
          "output_type": "stream",
          "name": "stdout",
          "text": [
            "color : ['Rojo', 'Gris']\n",
            "Marca : Tesla\n",
            "Modelo : Cybertruck\n",
            "Peso : 3500\n",
            "Cambio automático : True\n"
          ]
        }
      ]
    }
  ],
  "metadata": {
    "kernelspec": {
      "display_name": "Python 3 (ipykernel)",
      "language": "python",
      "name": "python3"
    },
    "language_info": {
      "codemirror_mode": {
        "name": "ipython",
        "version": 3
      },
      "file_extension": ".py",
      "mimetype": "text/x-python",
      "name": "python",
      "nbconvert_exporter": "python",
      "pygments_lexer": "ipython3",
      "version": "3.9.7"
    },
    "colab": {
      "provenance": [],
      "include_colab_link": true
    }
  },
  "nbformat": 4,
  "nbformat_minor": 0
}